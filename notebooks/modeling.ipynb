{
 "cells": [
  {
   "cell_type": "code",
   "execution_count": 10,
   "id": "224f0a0f",
   "metadata": {},
   "outputs": [
    {
     "name": "stdout",
     "output_type": "stream",
     "text": [
      "Requirement already satisfied: emoji in /usr/local/lib/python3.7/site-packages (2.8.0)\n",
      "\u001b[33mWARNING: Running pip as the 'root' user can result in broken permissions and conflicting behaviour with the system package manager. It is recommended to use a virtual environment instead: https://pip.pypa.io/warnings/venv\u001b[0m\u001b[33m\n",
      "\u001b[0m\n",
      "\u001b[1m[\u001b[0m\u001b[34;49mnotice\u001b[0m\u001b[1;39;49m]\u001b[0m\u001b[39;49m A new release of pip is available: \u001b[0m\u001b[31;49m23.0.1\u001b[0m\u001b[39;49m -> \u001b[0m\u001b[32;49m23.2.1\u001b[0m\n",
      "\u001b[1m[\u001b[0m\u001b[34;49mnotice\u001b[0m\u001b[1;39;49m]\u001b[0m\u001b[39;49m To update, run: \u001b[0m\u001b[32;49mpip install --upgrade pip\u001b[0m\n"
     ]
    }
   ],
   "source": [
    "!pip install emoji"
   ]
  },
  {
   "cell_type": "code",
   "execution_count": 11,
   "id": "80ff2bf2",
   "metadata": {},
   "outputs": [],
   "source": [
    "import sys\n",
    "import pandas as pd\n",
    "import matplotlib.pyplot as plt\n",
    "from datetime import datetime"
   ]
  },
  {
   "cell_type": "code",
   "execution_count": 12,
   "id": "dd9d0d08",
   "metadata": {},
   "outputs": [],
   "source": [
    "df = pd.read_csv('pre_proc_data_pt_brazil.csv', sep=',')"
   ]
  },
  {
   "cell_type": "code",
   "execution_count": 13,
   "id": "63c2b609",
   "metadata": {},
   "outputs": [
    {
     "name": "stdout",
     "output_type": "stream",
     "text": [
      "<class 'pandas.core.frame.DataFrame'>\n",
      "RangeIndex: 5149874 entries, 0 to 5149873\n",
      "Data columns (total 7 columns):\n",
      " #   Column           Dtype  \n",
      "---  ------           -----  \n",
      " 0   Unnamed: 0       int64  \n",
      " 1   text             object \n",
      " 2   created_at       object \n",
      " 3   text_sentiment   object \n",
      " 4   sentiment_value  float64\n",
      " 5   date             object \n",
      " 6   sentiment        object \n",
      "dtypes: float64(1), int64(1), object(5)\n",
      "memory usage: 275.0+ MB\n"
     ]
    }
   ],
   "source": [
    "df.info()"
   ]
  },
  {
   "cell_type": "code",
   "execution_count": 14,
   "id": "f69898b1",
   "metadata": {},
   "outputs": [],
   "source": [
    "# df_pos_neg = (df[df['sentiment'] != 'Neutro'])[['text', 'created_at', 'text_sentiment',\n",
    "#        'sentiment_value', 'date', 'sentiment']].reset_index(drop=True)"
   ]
  },
  {
   "cell_type": "code",
   "execution_count": 15,
   "id": "cb2fea52",
   "metadata": {},
   "outputs": [],
   "source": [
    "df_pos_neg = df[['text', 'created_at', 'text_sentiment',\n",
    "       'sentiment_value', 'date', 'sentiment']].sample(n=200000, random_state=42).reset_index(drop=True)"
   ]
  },
  {
   "cell_type": "code",
   "execution_count": 16,
   "id": "6be79b68",
   "metadata": {},
   "outputs": [
    {
     "name": "stdout",
     "output_type": "stream",
     "text": [
      "<class 'pandas.core.frame.DataFrame'>\n",
      "RangeIndex: 200000 entries, 0 to 199999\n",
      "Data columns (total 6 columns):\n",
      " #   Column           Non-Null Count   Dtype  \n",
      "---  ------           --------------   -----  \n",
      " 0   text             200000 non-null  object \n",
      " 1   created_at       200000 non-null  object \n",
      " 2   text_sentiment   200000 non-null  object \n",
      " 3   sentiment_value  200000 non-null  float64\n",
      " 4   date             200000 non-null  object \n",
      " 5   sentiment        200000 non-null  object \n",
      "dtypes: float64(1), object(5)\n",
      "memory usage: 9.2+ MB\n"
     ]
    }
   ],
   "source": [
    "df_pos_neg.info()"
   ]
  },
  {
   "cell_type": "code",
   "execution_count": 17,
   "id": "879a4a44",
   "metadata": {},
   "outputs": [
    {
     "data": {
      "text/html": [
       "<div>\n",
       "<style scoped>\n",
       "    .dataframe tbody tr th:only-of-type {\n",
       "        vertical-align: middle;\n",
       "    }\n",
       "\n",
       "    .dataframe tbody tr th {\n",
       "        vertical-align: top;\n",
       "    }\n",
       "\n",
       "    .dataframe thead th {\n",
       "        text-align: right;\n",
       "    }\n",
       "</style>\n",
       "<table border=\"1\" class=\"dataframe\">\n",
       "  <thead>\n",
       "    <tr style=\"text-align: right;\">\n",
       "      <th></th>\n",
       "      <th>text</th>\n",
       "      <th>created_at</th>\n",
       "      <th>text_sentiment</th>\n",
       "      <th>sentiment_value</th>\n",
       "      <th>date</th>\n",
       "      <th>sentiment</th>\n",
       "    </tr>\n",
       "  </thead>\n",
       "  <tbody>\n",
       "    <tr>\n",
       "      <th>0</th>\n",
       "      <td>RT @emirsader: Após ficar em silêncio na CPI d...</td>\n",
       "      <td>2021-07-04 22:17:21</td>\n",
       "      <td>{'neg': 0.0, 'neu': 0.771, 'pos': 0.229, 'comp...</td>\n",
       "      <td>0.7125</td>\n",
       "      <td>2021-07-04</td>\n",
       "      <td>Positivo</td>\n",
       "    </tr>\n",
       "    <tr>\n",
       "      <th>1</th>\n",
       "      <td>RT @VittorGuidoni: para de lamber fone de ouvi...</td>\n",
       "      <td>2019-11-30 14:35:33</td>\n",
       "      <td>{'neg': 0.202, 'neu': 0.798, 'pos': 0.0, 'comp...</td>\n",
       "      <td>-0.5859</td>\n",
       "      <td>2019-11-30</td>\n",
       "      <td>Negativo</td>\n",
       "    </tr>\n",
       "    <tr>\n",
       "      <th>2</th>\n",
       "      <td>@exposed_exposer @CarlaZambelli38 @andrizek De...</td>\n",
       "      <td>2022-01-11 12:12:28</td>\n",
       "      <td>{'neg': 0.126, 'neu': 0.874, 'pos': 0.0, 'comp...</td>\n",
       "      <td>-0.5994</td>\n",
       "      <td>2022-01-11</td>\n",
       "      <td>Negativo</td>\n",
       "    </tr>\n",
       "    <tr>\n",
       "      <th>3</th>\n",
       "      <td>RT @canaltech: Por que o iPhone é mais seguro ...</td>\n",
       "      <td>2019-11-19 14:52:06</td>\n",
       "      <td>{'neg': 0.0, 'neu': 0.756, 'pos': 0.244, 'comp...</td>\n",
       "      <td>0.4404</td>\n",
       "      <td>2019-11-19</td>\n",
       "      <td>Positivo</td>\n",
       "    </tr>\n",
       "    <tr>\n",
       "      <th>4</th>\n",
       "      <td>RT @mariareinhardtt: covid tá a estragar compl...</td>\n",
       "      <td>2021-12-28 23:09:10</td>\n",
       "      <td>{'neg': 0.25, 'neu': 0.75, 'pos': 0.0, 'compou...</td>\n",
       "      <td>-0.2500</td>\n",
       "      <td>2021-12-28</td>\n",
       "      <td>Negativo</td>\n",
       "    </tr>\n",
       "  </tbody>\n",
       "</table>\n",
       "</div>"
      ],
      "text/plain": [
       "                                                text           created_at  \\\n",
       "0  RT @emirsader: Após ficar em silêncio na CPI d...  2021-07-04 22:17:21   \n",
       "1  RT @VittorGuidoni: para de lamber fone de ouvi...  2019-11-30 14:35:33   \n",
       "2  @exposed_exposer @CarlaZambelli38 @andrizek De...  2022-01-11 12:12:28   \n",
       "3  RT @canaltech: Por que o iPhone é mais seguro ...  2019-11-19 14:52:06   \n",
       "4  RT @mariareinhardtt: covid tá a estragar compl...  2021-12-28 23:09:10   \n",
       "\n",
       "                                      text_sentiment  sentiment_value  \\\n",
       "0  {'neg': 0.0, 'neu': 0.771, 'pos': 0.229, 'comp...           0.7125   \n",
       "1  {'neg': 0.202, 'neu': 0.798, 'pos': 0.0, 'comp...          -0.5859   \n",
       "2  {'neg': 0.126, 'neu': 0.874, 'pos': 0.0, 'comp...          -0.5994   \n",
       "3  {'neg': 0.0, 'neu': 0.756, 'pos': 0.244, 'comp...           0.4404   \n",
       "4  {'neg': 0.25, 'neu': 0.75, 'pos': 0.0, 'compou...          -0.2500   \n",
       "\n",
       "         date sentiment  \n",
       "0  2021-07-04  Positivo  \n",
       "1  2019-11-30  Negativo  \n",
       "2  2022-01-11  Negativo  \n",
       "3  2019-11-19  Positivo  \n",
       "4  2021-12-28  Negativo  "
      ]
     },
     "execution_count": 17,
     "metadata": {},
     "output_type": "execute_result"
    }
   ],
   "source": [
    "df_pos_neg.head()"
   ]
  },
  {
   "cell_type": "code",
   "execution_count": 18,
   "id": "0c5d1c1f",
   "metadata": {},
   "outputs": [],
   "source": [
    "df_pos_neg['len'] = df_pos_neg.apply(lambda x: len(x['text']), axis=1)"
   ]
  },
  {
   "cell_type": "code",
   "execution_count": 19,
   "id": "3861e40d",
   "metadata": {},
   "outputs": [
    {
     "data": {
      "text/plain": [
       "(array([2.3340e+03, 1.0118e+04, 1.6232e+04, 1.8218e+04, 1.8426e+04,\n",
       "        1.9165e+04, 7.9382e+04, 5.8430e+03, 4.3610e+03, 4.0480e+03,\n",
       "        3.5990e+03, 4.0430e+03, 3.3780e+03, 5.8030e+03, 3.8590e+03,\n",
       "        8.2100e+02, 2.2900e+02, 6.4000e+01, 1.4000e+01, 1.2000e+01,\n",
       "        1.0000e+00, 6.0000e+00, 4.0000e+00, 7.0000e+00, 4.0000e+00,\n",
       "        1.0000e+00, 1.0000e+00, 1.0000e+00, 1.0000e+00, 2.0000e+00,\n",
       "        0.0000e+00, 0.0000e+00, 2.0000e+00, 4.0000e+00, 4.0000e+00,\n",
       "        1.0000e+00, 0.0000e+00, 1.0000e+00, 1.0000e+00, 0.0000e+00,\n",
       "        0.0000e+00, 1.0000e+00, 1.0000e+00, 0.0000e+00, 2.0000e+00,\n",
       "        0.0000e+00, 0.0000e+00, 2.0000e+00, 2.0000e+00, 2.0000e+00]),\n",
       " array([  8.  ,  27.76,  47.52,  67.28,  87.04, 106.8 , 126.56, 146.32,\n",
       "        166.08, 185.84, 205.6 , 225.36, 245.12, 264.88, 284.64, 304.4 ,\n",
       "        324.16, 343.92, 363.68, 383.44, 403.2 , 422.96, 442.72, 462.48,\n",
       "        482.24, 502.  , 521.76, 541.52, 561.28, 581.04, 600.8 , 620.56,\n",
       "        640.32, 660.08, 679.84, 699.6 , 719.36, 739.12, 758.88, 778.64,\n",
       "        798.4 , 818.16, 837.92, 857.68, 877.44, 897.2 , 916.96, 936.72,\n",
       "        956.48, 976.24, 996.  ]),\n",
       " <BarContainer object of 50 artists>)"
      ]
     },
     "execution_count": 19,
     "metadata": {},
     "output_type": "execute_result"
    },
    {
     "data": {
      "image/png": "[encoded data removed]",
      "text/plain": [
       "<Figure size 800x600 with 1 Axes>"
      ]
     },
     "metadata": {},
     "output_type": "display_data"
    }
   ],
   "source": [
    "from matplotlib.ticker import FuncFormatter\n",
    "\n",
    "def thousands(x, pos):\n",
    "    'The two args are the value and tick position'\n",
    "    return '%1.1fM' % (x*1e-6)\n",
    "\n",
    "formatter = FuncFormatter(thousands)\n",
    "\n",
    "fig, ax = plt.subplots(figsize = (8, 6))\n",
    "plt.xlabel(\"Distribuição do Comprimento\")\n",
    "plt.ylabel(\"Frequência\")\n",
    "plt.grid(axis = 'y', linestyle = '--', linewidth = 0.5)\n",
    "plt.xlim((0, 450))\n",
    "ax.yaxis.set_major_formatter(formatter)\n",
    "ax.hist(df_pos_neg['len'], bins=50)"
   ]
  },
  {
   "cell_type": "markdown",
   "id": "73eb02fe",
   "metadata": {},
   "source": [
    "### NLP"
   ]
  },
  {
   "cell_type": "code",
   "execution_count": 20,
   "id": "94ea8a80",
   "metadata": {},
   "outputs": [],
   "source": [
    "emoji_bank = {\n",
    "  \",:(\": \"😓\",\n",
    "  \",:)\": \"😅\",\n",
    "  \",:-(\": \"😓\",\n",
    "  \",:-)\": \"😅\",\n",
    "  \"0:)\": \"😇\",\n",
    "  \"0:-)\": \"😇\",\n",
    "  \"8-)\": \"😎\",\n",
    "  \":$\": \"😒\",\n",
    "  \":'(\": \"😢\",\n",
    "  \":')\": \"😂\",\n",
    "  \":'-(\": \"😢\",\n",
    "  \":'-)\": \"😂\",\n",
    "  \":'-D\": \"😂\",\n",
    "  \":'D\": \"😂\",\n",
    "  \":(\": \"😦\",\n",
    "  \":)\": \"😃\",\n",
    "  \":*\": \"😗\",\n",
    "  \":,'(\": \"😭\",\n",
    "  \":,'-(\": \"😭\",\n",
    "  \":,(\": \"😢\",\n",
    "  \":,)\": \"😂\",\n",
    "  \":,-(\": \"😢\",\n",
    "  \":,-)\": \"😂\",\n",
    "  \":,-D\": \"😂\",\n",
    "  \":,D\": \"😂\",\n",
    "  \":-$\": \"😒\",\n",
    "  \":-(\": \"😦\",\n",
    "  \":-)\": \"😃\",\n",
    "  \":-*\": \"😗\",\n",
    "  \":-/\": \"😕\",\n",
    "  \":-@\": \"😡\",\n",
    "  \":-D\": \"😄\",\n",
    "  \":-o\": \"😮\",\n",
    "  \":-O\": \"😮\",\n",
    "  \":-P\": \"😛\",\n",
    "  \":-S\": \"😒\",\n",
    "  \":-Z\": \"😒\",\n",
    "  \":-|\": \"😐\",\n",
    "  \":/\": \"😕\",\n",
    "  \":@\": \"😡\",\n",
    "  \":D\": \"😄\",\n",
    "  \":o\": \"😮\",\n",
    "  \":O\": \"😮\",\n",
    "  \":P\": \"😛\",\n",
    "  \":s\": \"😒\",\n",
    "  \":z\": \"😒\",\n",
    "  \":|\": \"😐\",\n",
    "  \";(\": \"😭\",\n",
    "  \";)\": \"😉\",\n",
    "  \";-(\": \"😭\",\n",
    "  \";-)\": \"😉\",\n",
    "  \"]:)\": \"😈\",\n",
    "  \"]:-)\": \"😈\",\n",
    "  \"B-)\": \"😎\",\n",
    "  \"o:)\": \"😇\",\n",
    "  \"O:)\": \"😇\",\n",
    "  \"O:-)\": \"😇\",\n",
    "  \"o:-)\": \"😇\",\n",
    "  \"X-)\": \"😆\",\n",
    "  \"x-)\": \"😆\"\n",
    "}"
   ]
  },
  {
   "cell_type": "code",
   "execution_count": 21,
   "id": "c536ab96",
   "metadata": {},
   "outputs": [
    {
     "name": "stderr",
     "output_type": "stream",
     "text": [
      "[nltk_data] Downloading package stopwords to /root/nltk_data...\n",
      "[nltk_data]   Package stopwords is already up-to-date!\n"
     ]
    }
   ],
   "source": [
    "import re, string, unicodedata\n",
    "import nltk\n",
    "from nltk.corpus import stopwords\n",
    "import emoji\n",
    "nltk.download('stopwords')\n",
    "\n",
    "def extract_emojis(sample):\n",
    "    return ' '.join(c for c in sample if c in emoji.EMOJI_DATA).split()\n",
    "\n",
    "def remove_user_from_text(words):\n",
    "    return \" \".join(filter(lambda x:x[0]!='@', words.split()))\n",
    "\n",
    "def remove_double_space(sample):\n",
    "    return \" \".join(sample.split())\n",
    "\n",
    "def remove_URL(sample):\n",
    "    \"\"\"Remove URLs from a sample string\"\"\"\n",
    "    return re.sub(r\"http\\S+\", \"\", sample)\n",
    "\n",
    "def to_lowercase(words):\n",
    "    \"\"\"Convert all characters to lowercase from list of tokenized words\"\"\"\n",
    "    return list(map(lambda x: x.lower(), words))\n",
    "\n",
    "def remove_punctuation(words):\n",
    "    \"\"\"Remove punctuation from list of tokenized words\"\"\"\n",
    "    new_words = []\n",
    "    for word in words:\n",
    "        new_word = re.sub(r'[^\\w\\s]', '', word)\n",
    "        if new_word != '':\n",
    "            new_words.append(new_word)\n",
    "    return new_words\n",
    "\n",
    "def remove_stopwords(words):\n",
    "    \"\"\"Remove stop words from list of tokenized words\"\"\"\n",
    "    new_words = []\n",
    "    for word in words:\n",
    "        if word not in nltk.corpus.stopwords.words('portuguese'):\n",
    "            new_words.append(word)\n",
    "    return new_words\n",
    "\n",
    "def replace_numbers(words):\n",
    "    \"\"\"Replace all interger occurrences in list\"\"\"\n",
    "    new_words = []\n",
    "    for word in words:\n",
    "        if word.isdigit():\n",
    "            pass\n",
    "        else:\n",
    "            new_words.append(word)\n",
    "    return new_words\n",
    "\n",
    "\n",
    "def clean_text(sample):\n",
    "    emoji_pat = '[\\U0001F300-\\U0001F64F\\U0001F680-\\U0001F6FF\\u2600-\\u26FF\\u2700-\\u27BF]'\n",
    "    shrink_whitespace_reg = re.compile(r'\\s{2,}')\n",
    "    reg = re.compile(r'({})|[^a-zA-Z]'.format(emoji_pat)) # line a\n",
    "    result = reg.sub(lambda x: ' {} '.format(x.group(1)) if x.group(1) else ' ', sample)\n",
    "    return shrink_whitespace_reg.sub(' ', result)\n",
    "\n",
    "def replace_asci_emoji(sample):\n",
    "    address = sample\n",
    "    for k,v in emoji_bank.items():\n",
    "        address = address.replace(k, v)\n",
    "    return address\n",
    "\n",
    "def normalize(words):\n",
    "    words = remove_user_from_text(words)\n",
    "    words = to_lowercase(words.split())\n",
    "    words = remove_punctuation(words)\n",
    "    words = replace_numbers(words)\n",
    "    words = remove_stopwords(words)\n",
    "    return words\n",
    "\n",
    "def preprocess(sample):\n",
    "    sample = remove_URL(sample)\n",
    "    sample = replace_asci_emoji(sample)\n",
    "#     sample = clean_text(sample)\n",
    "    sample = remove_double_space(sample)\n",
    "    return normalize(sample)"
   ]
  },
  {
   "cell_type": "code",
   "execution_count": 22,
   "id": "b3d1458d",
   "metadata": {},
   "outputs": [],
   "source": [
    "df_pos_neg['emoji'] = df_pos_neg.apply(lambda x: extract_emojis(replace_asci_emoji(remove_URL(x['text']))), axis=1)"
   ]
  },
  {
   "cell_type": "code",
   "execution_count": 23,
   "id": "34407c6c",
   "metadata": {},
   "outputs": [],
   "source": [
    "sttt='😃 Oi, http://www.usp.br Eu estou feliz :) @l.malakin! :D'"
   ]
  },
  {
   "cell_type": "code",
   "execution_count": 24,
   "id": "b90547f1",
   "metadata": {},
   "outputs": [
    {
     "data": {
      "text/plain": [
       "['😃', '😕', '😃', '😄']"
      ]
     },
     "execution_count": 24,
     "metadata": {},
     "output_type": "execute_result"
    }
   ],
   "source": [
    "extract_emojis(replace_asci_emoji(sttt))"
   ]
  },
  {
   "cell_type": "code",
   "execution_count": 25,
   "id": "983732c6",
   "metadata": {},
   "outputs": [
    {
     "data": {
      "text/plain": [
       "['oi', 'feliz']"
      ]
     },
     "execution_count": 25,
     "metadata": {},
     "output_type": "execute_result"
    }
   ],
   "source": [
    "preprocess(sttt)"
   ]
  },
  {
   "cell_type": "code",
   "execution_count": 26,
   "id": "97f71a2c",
   "metadata": {},
   "outputs": [],
   "source": [
    "df_pos_neg['normalized_text'] = df_pos_neg.apply(lambda x: preprocess(x['text']), axis=1)"
   ]
  },
  {
   "cell_type": "code",
   "execution_count": 27,
   "id": "20007da0",
   "metadata": {},
   "outputs": [
    {
     "data": {
      "text/html": [
       "<div>\n",
       "<style scoped>\n",
       "    .dataframe tbody tr th:only-of-type {\n",
       "        vertical-align: middle;\n",
       "    }\n",
       "\n",
       "    .dataframe tbody tr th {\n",
       "        vertical-align: top;\n",
       "    }\n",
       "\n",
       "    .dataframe thead th {\n",
       "        text-align: right;\n",
       "    }\n",
       "</style>\n",
       "<table border=\"1\" class=\"dataframe\">\n",
       "  <thead>\n",
       "    <tr style=\"text-align: right;\">\n",
       "      <th></th>\n",
       "      <th>text</th>\n",
       "      <th>created_at</th>\n",
       "      <th>text_sentiment</th>\n",
       "      <th>sentiment_value</th>\n",
       "      <th>date</th>\n",
       "      <th>sentiment</th>\n",
       "      <th>len</th>\n",
       "      <th>emoji</th>\n",
       "      <th>normalized_text</th>\n",
       "    </tr>\n",
       "  </thead>\n",
       "  <tbody>\n",
       "    <tr>\n",
       "      <th>0</th>\n",
       "      <td>RT @emirsader: Após ficar em silêncio na CPI d...</td>\n",
       "      <td>2021-07-04 22:17:21</td>\n",
       "      <td>{'neg': 0.0, 'neu': 0.771, 'pos': 0.229, 'comp...</td>\n",
       "      <td>0.7125</td>\n",
       "      <td>2021-07-04</td>\n",
       "      <td>Positivo</td>\n",
       "      <td>139</td>\n",
       "      <td>[]</td>\n",
       "      <td>[rt, após, ficar, silêncio, cpi, covid, carlos...</td>\n",
       "    </tr>\n",
       "    <tr>\n",
       "      <th>1</th>\n",
       "      <td>RT @VittorGuidoni: para de lamber fone de ouvi...</td>\n",
       "      <td>2019-11-30 14:35:33</td>\n",
       "      <td>{'neg': 0.202, 'neu': 0.798, 'pos': 0.0, 'comp...</td>\n",
       "      <td>-0.5859</td>\n",
       "      <td>2019-11-30</td>\n",
       "      <td>Negativo</td>\n",
       "      <td>139</td>\n",
       "      <td>[]</td>\n",
       "      <td>[rt, lamber, fone, ouvido, lista, doenças, tra...</td>\n",
       "    </tr>\n",
       "    <tr>\n",
       "      <th>2</th>\n",
       "      <td>@exposed_exposer @CarlaZambelli38 @andrizek De...</td>\n",
       "      <td>2022-01-11 12:12:28</td>\n",
       "      <td>{'neg': 0.126, 'neu': 0.874, 'pos': 0.0, 'comp...</td>\n",
       "      <td>-0.5994</td>\n",
       "      <td>2022-01-11</td>\n",
       "      <td>Negativo</td>\n",
       "      <td>299</td>\n",
       "      <td>[]</td>\n",
       "      <td>[definição, vacina, tipo, substância, vírus, b...</td>\n",
       "    </tr>\n",
       "    <tr>\n",
       "      <th>3</th>\n",
       "      <td>RT @canaltech: Por que o iPhone é mais seguro ...</td>\n",
       "      <td>2019-11-19 14:52:06</td>\n",
       "      <td>{'neg': 0.0, 'neu': 0.756, 'pos': 0.244, 'comp...</td>\n",
       "      <td>0.4404</td>\n",
       "      <td>2019-11-19</td>\n",
       "      <td>Positivo</td>\n",
       "      <td>83</td>\n",
       "      <td>[]</td>\n",
       "      <td>[rt, iphone, seguro, contra, vírus]</td>\n",
       "    </tr>\n",
       "    <tr>\n",
       "      <th>4</th>\n",
       "      <td>RT @mariareinhardtt: covid tá a estragar compl...</td>\n",
       "      <td>2021-12-28 23:09:10</td>\n",
       "      <td>{'neg': 0.25, 'neu': 0.75, 'pos': 0.0, 'compou...</td>\n",
       "      <td>-0.2500</td>\n",
       "      <td>2021-12-28</td>\n",
       "      <td>Negativo</td>\n",
       "      <td>59</td>\n",
       "      <td>[]</td>\n",
       "      <td>[rt, covid, tá, estragar, completamente, tudo]</td>\n",
       "    </tr>\n",
       "  </tbody>\n",
       "</table>\n",
       "</div>"
      ],
      "text/plain": [
       "                                                text           created_at  \\\n",
       "0  RT @emirsader: Após ficar em silêncio na CPI d...  2021-07-04 22:17:21   \n",
       "1  RT @VittorGuidoni: para de lamber fone de ouvi...  2019-11-30 14:35:33   \n",
       "2  @exposed_exposer @CarlaZambelli38 @andrizek De...  2022-01-11 12:12:28   \n",
       "3  RT @canaltech: Por que o iPhone é mais seguro ...  2019-11-19 14:52:06   \n",
       "4  RT @mariareinhardtt: covid tá a estragar compl...  2021-12-28 23:09:10   \n",
       "\n",
       "                                      text_sentiment  sentiment_value  \\\n",
       "0  {'neg': 0.0, 'neu': 0.771, 'pos': 0.229, 'comp...           0.7125   \n",
       "1  {'neg': 0.202, 'neu': 0.798, 'pos': 0.0, 'comp...          -0.5859   \n",
       "2  {'neg': 0.126, 'neu': 0.874, 'pos': 0.0, 'comp...          -0.5994   \n",
       "3  {'neg': 0.0, 'neu': 0.756, 'pos': 0.244, 'comp...           0.4404   \n",
       "4  {'neg': 0.25, 'neu': 0.75, 'pos': 0.0, 'compou...          -0.2500   \n",
       "\n",
       "         date sentiment  len emoji  \\\n",
       "0  2021-07-04  Positivo  139    []   \n",
       "1  2019-11-30  Negativo  139    []   \n",
       "2  2022-01-11  Negativo  299    []   \n",
       "3  2019-11-19  Positivo   83    []   \n",
       "4  2021-12-28  Negativo   59    []   \n",
       "\n",
       "                                     normalized_text  \n",
       "0  [rt, após, ficar, silêncio, cpi, covid, carlos...  \n",
       "1  [rt, lamber, fone, ouvido, lista, doenças, tra...  \n",
       "2  [definição, vacina, tipo, substância, vírus, b...  \n",
       "3                [rt, iphone, seguro, contra, vírus]  \n",
       "4     [rt, covid, tá, estragar, completamente, tudo]  "
      ]
     },
     "execution_count": 27,
     "metadata": {},
     "output_type": "execute_result"
    }
   ],
   "source": [
    "df_pos_neg.head()"
   ]
  },
  {
   "cell_type": "code",
   "execution_count": 28,
   "id": "9434a4d4",
   "metadata": {},
   "outputs": [],
   "source": [
    "df_pos_neg.to_csv('data_pt_brazil_normalized_emoji.csv', sep=',')"
   ]
  },
  {
   "cell_type": "code",
   "execution_count": 29,
   "id": "4e4a736a",
   "metadata": {},
   "outputs": [
    {
     "data": {
      "text/html": [
       "<div>\n",
       "<style scoped>\n",
       "    .dataframe tbody tr th:only-of-type {\n",
       "        vertical-align: middle;\n",
       "    }\n",
       "\n",
       "    .dataframe tbody tr th {\n",
       "        vertical-align: top;\n",
       "    }\n",
       "\n",
       "    .dataframe thead th {\n",
       "        text-align: right;\n",
       "    }\n",
       "</style>\n",
       "<table border=\"1\" class=\"dataframe\">\n",
       "  <thead>\n",
       "    <tr style=\"text-align: right;\">\n",
       "      <th></th>\n",
       "      <th>text</th>\n",
       "      <th>created_at</th>\n",
       "      <th>text_sentiment</th>\n",
       "      <th>sentiment_value</th>\n",
       "      <th>date</th>\n",
       "      <th>sentiment</th>\n",
       "      <th>len</th>\n",
       "      <th>emoji</th>\n",
       "      <th>normalized_text</th>\n",
       "    </tr>\n",
       "  </thead>\n",
       "  <tbody>\n",
       "    <tr>\n",
       "      <th>0</th>\n",
       "      <td>RT @emirsader: Após ficar em silêncio na CPI d...</td>\n",
       "      <td>2021-07-04 22:17:21</td>\n",
       "      <td>{'neg': 0.0, 'neu': 0.771, 'pos': 0.229, 'comp...</td>\n",
       "      <td>0.7125</td>\n",
       "      <td>2021-07-04</td>\n",
       "      <td>Positivo</td>\n",
       "      <td>139</td>\n",
       "      <td>[]</td>\n",
       "      <td>[rt, após, ficar, silêncio, cpi, covid, carlos...</td>\n",
       "    </tr>\n",
       "    <tr>\n",
       "      <th>1</th>\n",
       "      <td>RT @VittorGuidoni: para de lamber fone de ouvi...</td>\n",
       "      <td>2019-11-30 14:35:33</td>\n",
       "      <td>{'neg': 0.202, 'neu': 0.798, 'pos': 0.0, 'comp...</td>\n",
       "      <td>-0.5859</td>\n",
       "      <td>2019-11-30</td>\n",
       "      <td>Negativo</td>\n",
       "      <td>139</td>\n",
       "      <td>[]</td>\n",
       "      <td>[rt, lamber, fone, ouvido, lista, doenças, tra...</td>\n",
       "    </tr>\n",
       "    <tr>\n",
       "      <th>2</th>\n",
       "      <td>@exposed_exposer @CarlaZambelli38 @andrizek De...</td>\n",
       "      <td>2022-01-11 12:12:28</td>\n",
       "      <td>{'neg': 0.126, 'neu': 0.874, 'pos': 0.0, 'comp...</td>\n",
       "      <td>-0.5994</td>\n",
       "      <td>2022-01-11</td>\n",
       "      <td>Negativo</td>\n",
       "      <td>299</td>\n",
       "      <td>[]</td>\n",
       "      <td>[definição, vacina, tipo, substância, vírus, b...</td>\n",
       "    </tr>\n",
       "    <tr>\n",
       "      <th>3</th>\n",
       "      <td>RT @canaltech: Por que o iPhone é mais seguro ...</td>\n",
       "      <td>2019-11-19 14:52:06</td>\n",
       "      <td>{'neg': 0.0, 'neu': 0.756, 'pos': 0.244, 'comp...</td>\n",
       "      <td>0.4404</td>\n",
       "      <td>2019-11-19</td>\n",
       "      <td>Positivo</td>\n",
       "      <td>83</td>\n",
       "      <td>[]</td>\n",
       "      <td>[rt, iphone, seguro, contra, vírus]</td>\n",
       "    </tr>\n",
       "    <tr>\n",
       "      <th>4</th>\n",
       "      <td>RT @mariareinhardtt: covid tá a estragar compl...</td>\n",
       "      <td>2021-12-28 23:09:10</td>\n",
       "      <td>{'neg': 0.25, 'neu': 0.75, 'pos': 0.0, 'compou...</td>\n",
       "      <td>-0.2500</td>\n",
       "      <td>2021-12-28</td>\n",
       "      <td>Negativo</td>\n",
       "      <td>59</td>\n",
       "      <td>[]</td>\n",
       "      <td>[rt, covid, tá, estragar, completamente, tudo]</td>\n",
       "    </tr>\n",
       "  </tbody>\n",
       "</table>\n",
       "</div>"
      ],
      "text/plain": [
       "                                                text           created_at  \\\n",
       "0  RT @emirsader: Após ficar em silêncio na CPI d...  2021-07-04 22:17:21   \n",
       "1  RT @VittorGuidoni: para de lamber fone de ouvi...  2019-11-30 14:35:33   \n",
       "2  @exposed_exposer @CarlaZambelli38 @andrizek De...  2022-01-11 12:12:28   \n",
       "3  RT @canaltech: Por que o iPhone é mais seguro ...  2019-11-19 14:52:06   \n",
       "4  RT @mariareinhardtt: covid tá a estragar compl...  2021-12-28 23:09:10   \n",
       "\n",
       "                                      text_sentiment  sentiment_value  \\\n",
       "0  {'neg': 0.0, 'neu': 0.771, 'pos': 0.229, 'comp...           0.7125   \n",
       "1  {'neg': 0.202, 'neu': 0.798, 'pos': 0.0, 'comp...          -0.5859   \n",
       "2  {'neg': 0.126, 'neu': 0.874, 'pos': 0.0, 'comp...          -0.5994   \n",
       "3  {'neg': 0.0, 'neu': 0.756, 'pos': 0.244, 'comp...           0.4404   \n",
       "4  {'neg': 0.25, 'neu': 0.75, 'pos': 0.0, 'compou...          -0.2500   \n",
       "\n",
       "         date sentiment  len emoji  \\\n",
       "0  2021-07-04  Positivo  139    []   \n",
       "1  2019-11-30  Negativo  139    []   \n",
       "2  2022-01-11  Negativo  299    []   \n",
       "3  2019-11-19  Positivo   83    []   \n",
       "4  2021-12-28  Negativo   59    []   \n",
       "\n",
       "                                     normalized_text  \n",
       "0  [rt, após, ficar, silêncio, cpi, covid, carlos...  \n",
       "1  [rt, lamber, fone, ouvido, lista, doenças, tra...  \n",
       "2  [definição, vacina, tipo, substância, vírus, b...  \n",
       "3                [rt, iphone, seguro, contra, vírus]  \n",
       "4     [rt, covid, tá, estragar, completamente, tudo]  "
      ]
     },
     "execution_count": 29,
     "metadata": {},
     "output_type": "execute_result"
    }
   ],
   "source": [
    "df_pos_neg.head()"
   ]
  },
  {
   "cell_type": "code",
   "execution_count": 30,
   "id": "a8480b53",
   "metadata": {},
   "outputs": [
    {
     "data": {
      "text/plain": [
       "sentiment\n",
       "Negativo    93560\n",
       "Neutro      58975\n",
       "Positivo    47465\n",
       "dtype: int64"
      ]
     },
     "execution_count": 30,
     "metadata": {},
     "output_type": "execute_result"
    }
   ],
   "source": [
    "df_pos_neg.groupby('sentiment').size()"
   ]
  },
  {
   "cell_type": "code",
   "execution_count": null,
   "id": "4e3c68e1",
   "metadata": {},
   "outputs": [],
   "source": []
  },
  {
   "cell_type": "code",
   "execution_count": null,
   "id": "d8306a6a",
   "metadata": {},
   "outputs": [],
   "source": []
  }
 ],
 "metadata": {
  "kernelspec": {
   "display_name": "Python 3 (ipykernel)",
   "language": "python",
   "name": "python3"
  },
  "language_info": {
   "codemirror_mode": {
    "name": "ipython",
    "version": 3
   },
   "file_extension": ".py",
   "mimetype": "text/x-python",
   "name": "python",
   "nbconvert_exporter": "python",
   "pygments_lexer": "ipython3",
   "version": "3.7.17"
  }
 },
 "nbformat": 4,
 "nbformat_minor": 5
}
