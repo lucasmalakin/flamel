{
 "cells": [
  {
   "cell_type": "code",
   "execution_count": 2,
   "id": "cdbf84eb",
   "metadata": {},
   "outputs": [
    {
     "name": "stderr",
     "output_type": "stream",
     "text": [
      "/usr/local/lib/python3.7/importlib/_bootstrap.py:219: RuntimeWarning: numpy.ufunc size changed, may indicate binary incompatibility. Expected 192 from C header, got 216 from PyObject\n",
      "  return f(*args, **kwds)\n"
     ]
    }
   ],
   "source": [
    "import pandas as pd"
   ]
  },
  {
   "cell_type": "code",
   "execution_count": 3,
   "id": "0601ab5e",
   "metadata": {},
   "outputs": [
    {
     "data": {
      "text/html": [
       "<div>\n",
       "<style scoped>\n",
       "    .dataframe tbody tr th:only-of-type {\n",
       "        vertical-align: middle;\n",
       "    }\n",
       "\n",
       "    .dataframe tbody tr th {\n",
       "        vertical-align: top;\n",
       "    }\n",
       "\n",
       "    .dataframe thead th {\n",
       "        text-align: right;\n",
       "    }\n",
       "</style>\n",
       "<table border=\"1\" class=\"dataframe\">\n",
       "  <thead>\n",
       "    <tr style=\"text-align: right;\">\n",
       "      <th></th>\n",
       "      <th>created_at</th>\n",
       "      <th>normalized_text_stemm_emoji</th>\n",
       "      <th>sentiment</th>\n",
       "    </tr>\n",
       "  </thead>\n",
       "  <tbody>\n",
       "    <tr>\n",
       "      <th>0</th>\n",
       "      <td>2021-07-04 22:17:21</td>\n",
       "      <td>[após, fic, silênci, cpi, carl, wizard, retorn...</td>\n",
       "      <td>Positivo</td>\n",
       "    </tr>\n",
       "    <tr>\n",
       "      <th>1</th>\n",
       "      <td>2019-11-30 14:35:33</td>\n",
       "      <td>[lamb, fon, ouv, list, doenç, transmiss, oral,...</td>\n",
       "      <td>Negativo</td>\n",
       "    </tr>\n",
       "    <tr>\n",
       "      <th>2</th>\n",
       "      <td>2022-01-11 12:12:28</td>\n",
       "      <td>[defin, vacin, tip, subst, bactér, introduz, c...</td>\n",
       "      <td>Negativo</td>\n",
       "    </tr>\n",
       "    <tr>\n",
       "      <th>3</th>\n",
       "      <td>2019-11-19 14:52:06</td>\n",
       "      <td>[iphon, segur, contr, ]</td>\n",
       "      <td>Positivo</td>\n",
       "    </tr>\n",
       "    <tr>\n",
       "      <th>4</th>\n",
       "      <td>2021-12-28 23:09:10</td>\n",
       "      <td>[estrag, complet, tud, ]</td>\n",
       "      <td>Negativo</td>\n",
       "    </tr>\n",
       "  </tbody>\n",
       "</table>\n",
       "</div>"
      ],
      "text/plain": [
       "            created_at                        normalized_text_stemm_emoji  \\\n",
       "0  2021-07-04 22:17:21  [após, fic, silênci, cpi, carl, wizard, retorn...   \n",
       "1  2019-11-30 14:35:33  [lamb, fon, ouv, list, doenç, transmiss, oral,...   \n",
       "2  2022-01-11 12:12:28  [defin, vacin, tip, subst, bactér, introduz, c...   \n",
       "3  2019-11-19 14:52:06                            [iphon, segur, contr, ]   \n",
       "4  2021-12-28 23:09:10                           [estrag, complet, tud, ]   \n",
       "\n",
       "  sentiment  \n",
       "0  Positivo  \n",
       "1  Negativo  \n",
       "2  Negativo  \n",
       "3  Positivo  \n",
       "4  Negativo  "
      ]
     },
     "execution_count": 3,
     "metadata": {},
     "output_type": "execute_result"
    }
   ],
   "source": [
    "df = pd.read_csv('data_pt_brazil_normalized_emoji_merged.csv',\n",
    "                sep=',',\n",
    "                converters={\n",
    "                     \"normalized_text_stemm_emoji\": lambda x: x.strip(\"[]\").replace(\"'\",\"\").split(\", \")\n",
    "                 })\n",
    "df = df[['created_at', 'normalized_text_stemm_emoji', 'sentiment']]\n",
    "df.head()"
   ]
  },
  {
   "cell_type": "code",
   "execution_count": 4,
   "id": "5157a0b1",
   "metadata": {},
   "outputs": [
    {
     "name": "stdout",
     "output_type": "stream",
     "text": [
      "['18h', '20h', '24h', '48h', 'abaix', 'abal', 'abandon', 'abenço', 'abert', 'abord', 'abort', 'abr', 'abraç', 'abril', 'absolut', 'absurd', 'abus', 'acab', 'academ', 'acas', 'account', 'aceit', 'aceler', 'acerc', 'acert', 'acess', 'ach', 'acid', 'acim', 'acion', 'acomet', 'acompanh', 'aconselh', 'acontec', 'acord', 'acostum', 'acr', 'acredit', 'acumul', 'acus', 'adapt', 'adequ', 'adeu', 'adi', 'adiant', 'adic', 'adiv', 'adm', 'administr', 'admir', 'admit', 'adoec', 'adolesc', 'ador', 'adot', 'adquir', 'adult', 'advers', 'advog', 'aeroport', 'afast', 'afet', 'aff', 'afim', 'afinal', 'afirm', 'afric', 'aft', 'age', 'agend', 'agent', 'agind', 'agir', 'aglom', 'aglomer', 'agor', 'agost', 'agr', 'agradec', 'agradeç', 'agrav', 'agress', 'agu', 'aguard', 'agud', 'aguent', 'agulh', 'agênc', 'ai', 'aid', 'ain', 'aind', 'ajud', 'ala', 'alago', 'alarm', 'alastr', 'albert', 'alcanç', 'alcool', 'alcoól', 'alde', 'aleatóri', 'aleg', 'alegr', 'alem', 'alemanh', 'alenc', 'alerg', 'alert', 'alessandr', 'alex', 'alexandr', 'alg', 'algu', 'algum', 'alguém', 'alh', 'ali', 'alien', 'aliment', 'alivi', 'aliás', 'allan', 'alm', 'almoç', 'alt', 'alter', 'altern', 'altur', 'alun', 'alv', 'além', 'alérg', 'alívi', 'alô', 'am', 'ama', 'amad', 'amanh', 'amanhã', 'amap', 'amarel', 'amazon', 'amazôn', 'ambi', 'ambos', 'ambulânc', 'ame', 'ameaç', 'amebias', 'ameniz', 'americ', 'amg', 'amig', 'amigdalit', 'amizad', 'amo', 'amostr', 'amp', 'ampl', 'ampli', 'amém', 'amér', 'ana', 'analis', 'and', 'andré', 'angel', 'anim', 'animal', 'aniversári', 'anj', 'ano', 'anot', 'ansi', 'ansiedad', 'ant', 'antarc', 'antecip', 'anteri', 'anthony', 'antibió', 'anticorp', 'anticovid', 'antig', 'antimásc', 'antivacin', 'antivax', 'antivir', 'antiviru', 'antivíru', 'antôni', 'anual', 'anul', 'anunc', 'anunci', 'anvis', 'anális', 'anúnci', 'aond', 'apag', 'apaixon', 'apanh', 'aparec', 'aparelh', 'aparent', 'apavor', 'apel', 'apen', 'apert', 'apes', 'aplaud', 'aplic', 'apo', 'apocalips', 'apoi', 'apont', 'aposent', 'apost', 'app', 'aprend', 'apresent', 'aprov', 'aprove', 'aproveit', 'aprox', 'aproxim', 'aproximad', 'apur', 'após', 'aqu', 'aquec', 'aquis', 'ara', 'araraqu', 'araúj', 'are', 'aren', 'argentin', 'argument', 'arm', 'army', 'arqu', 'arras', 'arrecad', 'arrepend', 'arrepi', 'arrisc', 'arromb', 'arrum', 'art', 'arthur', 'artig', 'artist', 'artoil', 'asiá', 'asm', 'ass', 'assalt', 'assassin', 'assassinat', 'assemble', 'assess', 'assessor', 'assim', 'assin', 'assinat', 'assintomá', 'assist', 'associ', 'assol', 'assum', 'assunt', 'assust', 'astrazenec', 'at', 'atac', 'ataqu', 'ate', 'atend', 'atent', 'atenu', 'atenç', 'atest', 'atil', 'ating', 'atitud', 'ativ', 'atlet', 'atlé', 'ato', 'atr', 'atrapalh', 'atras', 'atravess', 'através', 'atribu', 'atriz', 'atropel', 'atrás', 'atu', 'atual', 'atualiz', 'audi', 'aug', 'august', 'aul', 'aument', 'aus', 'austrál', 'aut', 'automatic', 'autonom', 'autor', 'autoridad', 'autoritár', 'autoriz', 'auxil', 'auxili', 'auxíli', 'aval', 'avali', 'avanç', 'avc', 'aven', 'avi', 'avis', 'avó', 'avô', 'azar', 'azitromicin', 'aziz', 'azul', 'açã', 'açõ', 'aére', 'bab', 'babac', 'babu', 'bactér', 'bagulh', 'bagunç', 'bah', 'baian', 'bail', 'bairr', 'baix', 'bal', 'balanç', 'ban', 'banan', 'banc', 'band', 'bande', 'banh', 'bar', 'barat', 'barb', 'barc', 'barr', 'barrac', 'barre', 'barrig', 'bas', 'base', 'basic', 'bast', 'bat', 'batalh', 'batom', 'baz', 'bbb', 'bbb20', 'bbb21', 'bbb22', 'bbbb2o20', 'bbc', 'bdsp', 'beb', 'bebê', 'been', 'beij', 'beir', 'bel', 'belém', 'bem', 'benefíci', 'benf', 'bernard', 'berr', 'best', 'beste', 'bgl', 'bglh', 'bich', 'biden', 'big', 'bilhã', 'bilion', 'bill', 'biolog', 'biológ', 'bioméd', 'bizarr', 'biólog', 'black', 'blind', 'bloc', 'blog', 'blogu', 'bloqu', 'bloque', 'bloquei', 'boa', 'boat', 'bob', 'boc', 'bohem', 'boi', 'boicot', 'bol', 'boletim', 'bolh', 'bols', 'bolsominiom', 'bolsominion', 'bolsonar', 'bolsonarogenoc', 'bolsonarotemraza', 'bom', 'bomb', 'bon', 'bonit', 'bonn', 'bookstan', 'bor', 'boril', 'bost', 'bot', 'botafog', 'boul', 'boy', 'boz', 'br', 'bra', 'brab', 'brag', 'brahm', 'branc', 'bras', 'brasil', 'brasile', 'brasíl', 'brazil', 'braç', 'brev', 'brig', 'brilh', 'brinc', 'brind', 'britân', 'brot', 'broth', 'brun', 'bt', 'budweis', 'bue', 'bul', 'bund', 'burac', 'burr', 'busc', 'butantan', 'básic', 'bêb', 'ca', 'cab', 'cabel', 'cabeç', 'cacet', 'cach', 'cachorr', 'cad', 'cadastr', 'cade', 'caet', 'caf', 'café', 'cag', 'cai', 'caind', 'cair', 'caiu', 'caix', 'cal', 'calam', 'calc', 'cald', 'calend', 'calh', 'calm', 'calç', 'cam', 'camil', 'caminh', 'caminhon', 'camis', 'camiset', 'camp', 'campanh', 'campeonat', 'campeã', 'campin', 'can', 'canad', 'canal', 'canalh', 'cancel', 'candidat', 'cans', 'cant', 'cao', 'cap', 'capac', 'capaz', 'capet', 'capit', 'capitã', 'car', 'carai', 'caralh', 'caramb', 'card', 'carent', 'carg', 'carioc', 'carl', 'carn', 'carnav', 'caron', 'carr', 'carreat', 'carreg', 'cart', 'carvalh', 'carát', 'cas', 'casal', 'castig', 'catarin', 'catástrof', 'caus', 'caval', 'cax', 'caç', 'caír', 'cbf', 'cdc', 'ce', 'ced', 'ceg', 'ceif', 'celebr', 'celul', 'cem', 'cemitéri', 'cen', 'cens', 'censur', 'cent', 'centen', 'centr', 'ceo', 'cep', 'cerc', 'cerebr', 'cerimôn', 'cert', 'certific', 'cervej', 'cest', 'cfm', 'ch', 'cham', 'chamas', 'chanc', 'chap', 'chapecó', 'chat', 'chata', 'chate', 'chav', 'che', 'chec', 'chef', 'cheg', 'chei', 'cheir', 'chi', 'chic', 'chil', 'chin', 'chines', 'choc', 'choqu', 'chor', 'chup', 'churr', 'churrasc', 'chut', 'chuv', 'chá', 'chã', 'cia', 'cicl', 'cidad', 'cient', 'cientific', 'científ', 'cigarr', 'cim', 'cinc', 'cinem', 'cir', 'circ', 'circul', 'cirurg', 'cit', 'civil', 'ciênc', 'cl', 'clandestin', 'clar', 'classific', 'clic', 'client', 'clim', 'cliqu', 'cloroquin', 'club', 'cláss', 'clín', 'cmg', 'cnn', 'co', 'coba', 'cobert', 'cobr', 'coc', 'cocaín', 'coelh', 'coincid', 'cois', 'coit', 'col', 'colabor', 'colaps', 'colater', 'cole', 'coleg', 'colet', 'colh', 'colleg', 'coloc', 'coloq', 'coloqu', 'color', 'colun', 'colégi', 'com', 'comand', 'comb', 'combat', 'combin', 'comec', 'comem', 'comemor', 'coment', 'comerc', 'comerci', 'comet', 'começ', 'comi', 'comig', 'comiss', 'comit', 'comorb', 'comp', 'companh', 'compar', 'comparec', 'compartilh', 'compens', 'compet', 'complement', 'complet', 'complex', 'complic', 'comport', 'compr', 'comprim', 'compromet', 'compromiss', 'comprov', 'compulsór', 'comput', 'comum', 'comun', 'comunic', 'comunidad', 'comérci', 'comíci', 'con', 'conas', 'conce', 'conced', 'conceit', 'concentr', 'concert', 'conclu', 'conclus', 'concord', 'concret', 'cond', 'conden', 'condicion', 'condomíni', 'condut', 'conduz', 'conduç', 'conex', 'conf', 'confer', 'confess', 'confi', 'confianç', 'confin', 'confirm', 'conform', 'confort', 'confund', 'confus', 'congress', 'conhec', 'conheç', 'conjunt', 'conk', 'conqu', 'consci', 'conscien', 'consecu', 'conseg', 'consegu', 'conselh', 'consequ', 'conserv', 'consid', 'consider', 'consig', 'conspir', 'const', 'constat', 'constitu', 'constru', 'consult', 'consum', 'consórci', 'cont', 'contabil', 'contabiliz', 'contagi', 'contamin', 'contat', 'contenç', 'context', 'conteúd', 'contig', 'contin', 'continu', 'contr', 'contra', 'contrat', 'contribu', 'control', 'contági', 'conv', 'convenc', 'convers', 'convid', 'convit', 'conviv', 'convoc', 'coorden', 'cop', 'cor', 'corag', 'coraçã', 'cordã', 'core', 'coring', 'corinth', 'corn', 'coro', 'coron', 'coronavac', 'coronaviru', 'coronavirusbrasil', 'coronavirusnobrasil', 'coronavíru', 'coronel', 'corp', 'corpor', 'corr', 'correi', 'correspond', 'corret', 'corrig', 'corrupt', 'corrupç', 'cort', 'cost', 'costum', 'cotonet', 'cov', 'covard', 'covaxin', 'covid', 'covid1', 'covid19brasil', 'covid_19', 'covid__19', 'covidrn', 'covidー19', 'cozinh', 'cpf', 'cpi', 'cpidacovid', 'craqu', 'cred', 'credibil', 'crei', 'crent', 'cresc', 'cri', 'crianç', 'crim', 'crimin', 'cris', 'crist', 'cristã', 'crit', 'critic', 'critéri', 'crl', 'crlh', 'crm', 'cruel', 'cruz', 'cryst', 'crédit', 'crít', 'crôn', 'cti', 'ctz', 'cub', 'cuban', 'cuiab', 'cuid', 'cuidems', 'cuj', 'culp', 'cult', 'cumpr', 'cumpriment', 'cunh', 'cur', 'curi', 'curios', 'curitib', 'curs', 'curt', 'curv', 'cust', 'câm', 'cânc', 'cão', 'célul', 'célulastronc', 'cérebr', 'cés', 'céu', 'cê', 'códig', 'cúpul', 'dad', 'dai', 'dam', 'dan', 'dand', 'daniel', 'danil', 'danç', 'daqu', 'daquel', 'dar', 'dat', 'dav', 'david', 'daí', 'de', 'debat', 'deboch', 'decid', 'decis', 'decl', 'declar', 'decorr', 'decret', 'ded', 'dedic', 'defen', 'defend', 'defici', 'defin', 'defini', 'definitiv', 'defês', 'dei', 'deit', 'deix', 'del', 'deleg', 'delic', 'delivery', 'delt', 'dem', 'demal', 'demand', 'demiss', 'demit', 'democrac', 'democrat', 'democrá', 'demonstr', 'demor', 'demôni', 'deng', 'dent', 'dentr', 'denunc', 'denunci', 'denúnc', 'dep', 'depend', 'depo', 'depr', 'depress', 'deput', 'der', 'derret', 'derrot', 'derrub', 'desabaf', 'desafi', 'desanim', 'desaparec', 'desastr', 'desc', 'descans', 'descart', 'descas', 'descobert', 'descobr', 'desconhec', 'descont', 'descontrol', 'descrev', 'descubr', 'desculp', 'descumpr', 'desd', 'desdenh', 'desej', 'desembarc', 'desempreg', 'desenh', 'desenvolv', 'desesper', 'desfalc', 'desfalqu', 'desfil', 'desgovern', 'desgr', 'desgraç', 'desigualdad', 'desinform', 'desist', 'deslig', 'desmascar', 'desmat', 'desment', 'desmont', 'desonest', 'desped', 'despenc', 'desprez', 'desrespeit', 'dess', 'dest', 'destac', 'destaqu', 'destin', 'destru', 'desum', 'desv', 'desvi', 'det', 'detalh', 'detect', 'detecç', 'determin', 'deton', 'deu', 'dev', 'devass', 'devast', 'devolv', 'dez', 'dezembr', 'dezen', 'di', 'dia', 'diab', 'diabet', 'diagnostic', 'diagnóst', 'dialog', 'dic', 'dieg', 'difer', 'diferenç', 'dificil', 'dificuldad', 'difícil', 'dig', 'digit', 'dign', 'dilm', 'dim', 'diminu', 'dinamarc', 'dinh', 'diog', 'dip', 'dir', 'dire', 'direit', 'diret', 'direç', 'dirig', 'discord', 'discurs', 'discuss', 'discut', 'disney', 'disp', 'dispar', 'dispens', 'dispon', 'disponibil', 'disponibiliz', 'dispos', 'disput', 'diss', 'dissemin', 'dist', 'distanc', 'distorc', 'distribu', 'distrit', 'dit', 'ditad', 'divers', 'divert', 'divid', 'divulg', 'diz', 'dizim', 'diálog', 'diár', 'diári', 'djokovic', 'dm', 'dna', 'dnv', 'do', 'doa', 'doaç', 'dobr', 'doc', 'document', 'doend', 'doent', 'doenç', 'doi', 'doid', 'dol', 'dom', 'domicili', 'domin', 'doming', 'domést', 'don', 'donald', 'dor', 'dorm', 'dos', 'dou', 'dp', 'dra', 'drag', 'dram', 'drauzi', 'driv', 'drog', 'dua', 'dubl', 'dum', 'dupl', 'dur', 'duvid', 'dão', 'déc', 'dív', 'dói', 'dól', 'dór', 'dúv', 'ead', 'eai', 'ebol', 'econom', 'econôm', 'edit', 'editor', 'ediç', 'eduard', 'educ', 'efeit', 'efet', 'efetiv', 'eficaz', 'efici', 'eficác', 'egit', 'ei', 'einstein', 'eit', 'elabor', 'ele', 'eleg', 'elei', 'eleit', 'eleitor', 'elenc', 'eletrôn', 'elev', 'elimin', 'elit', 'elizabeth', 'elogi', 'email', 'emb', 'embaix', 'embarc', 'emend', 'emerg', 'emis', 'emit', 'emoc', 'emocion', 'emoç', 'empat', 'empenh', 'empr', 'empreg', 'empres', 'empurr', 'en', 'encaminh', 'encerr', 'ench', 'encomend', 'encontr', 'encost', 'energ', 'enf', 'enferm', 'enfi', 'enfim', 'enfraquec', 'enfrent', 'engan', 'engol', 'engraç', 'enjo', 'enlouquec', 'enorm', 'enquadr', 'enquant', 'enrol', 'ensai', 'ensin', 'ent', 'enta', 'entant', 'entend', 'enterobias', 'enterr', 'entidad', 'entr', 'entreg', 'entrev', 'entrevist', 'entub', 'env', 'envi', 'envolv', 'enxaquec', 'enxerg', 'eou', 'epicentr', 'epidem', 'epidemiolog', 'epidemiológ', 'episódi', 'equip', 'equival', 'err', 'erradic', 'esc', 'escal', 'escancar', 'escap', 'esclarec', 'escol', 'escolh', 'escond', 'escrev', 'escrit', 'escrot', 'escur', 'escut', 'escândal', 'esforç', 'esgot', 'esp', 'espalh', 'espanh', 'espanhol', 'espant', 'espaç', 'espec', 'especi', 'específ', 'esper', 'esperanç', 'espert', 'espirr', 'esport', 'espéci', 'espírit', 'esqu', 'esquec', 'esquem', 'esquerd', 'esqueç', 'essenc', 'est', 'esta', 'estabelec', 'estabil', 'estad', 'estatís', 'estend', 'estil', 'estim', 'estimul', 'estoc', 'estoqu', 'estour', 'estr', 'estrag', 'estrang', 'estranh', 'estratég', 'estre', 'estrel', 'estress', 'estrut', 'estud', 'estupr', 'estádi', 'estági', 'estômag', 'etap', 'etc', 'etern', 'etár', 'eua', 'eur', 'europ', 'europe', 'evangél', 'event', 'evid', 'evit', 'evolu', 'evoluç', 'exager', 'exalt', 'exam', 'exat', 'exaust', 'excel', 'excess', 'exceç', 'exclu', 'exclus', 'execu', 'exempl', 'exerc', 'exercíci', 'exib', 'exig', 'exist', 'exministr', 'exp', 'expect', 'exper', 'experi', 'experiment', 'expir', 'explic', 'expliqu', 'explod', 'explos', 'export', 'expos', 'expost', 'express', 'expuls', 'expõ', 'exteri', 'extermin', 'extint', 'extr', 'extrem', 'exércit', 'fab', 'fabi', 'fabric', 'fac', 'facebook', 'facil', 'facilit', 'faculdad', 'faix', 'fak', 'fakenew', 'fal', 'falec', 'falh', 'fals', 'falsific', 'falt', 'fam', 'famil', 'famili', 'famíl', 'fant', 'fantas', 'far', 'farmac', 'farmác', 'farr', 'fars', 'fart', 'fas', 'fasc', 'fat', 'fatal', 'fatur', 'fauc', 'fav', 'favel', 'favor', 'faz', 'faç', 'fcport', 'fd', 'fda', 'fdp', 'febr', 'fech', 'fed', 'feder', 'fei', 'feij', 'feir', 'feit', 'felic', 'felip', 'feliz', 'feminin', 'fer', 'feri', 'fern', 'fernand', 'ferr', 'fest', 'festej', 'festiv', 'fever', 'fez', 'fic', 'ficaemcas', 'fich', 'fiel', 'figur', 'fil', 'filh', 'film', 'fim', 'fin', 'final', 'financ', 'financi', 'fing', 'fio', 'fiocruz', 'fiq', 'fiqu', 'fiqueemcas', 'firm', 'fiscal', 'fisic', 'fix', 'fiz', 'fla', 'flameng', 'flex', 'flexibil', 'florest', 'florianópolil', 'flumin', 'flávi', 'flór', 'foc', 'fod', 'fodas', 'fof', 'fofoc', 'fog', 'folg', 'folh', 'fom', 'fon', 'fond', 'font', 'forabolsonar', 'forabolsonarogenoc', 'form', 'format', 'fornec', 'fort', 'fortal', 'fortalec', 'forç', 'fot', 'fox', 'frac', 'fracass', 'franc', 'francisc', 'frang', 'franç', 'fras', 'fraud', 'fre', 'fred', 'freddi', 'frent', 'frequ', 'frequent', 'fresc', 'fri', 'fronteir', 'frustr', 'frut', 'fud', 'fug', 'fulan', 'fum', 'fumaç', 'func', 'funcion', 'funcionár', 'fund', 'fundament', 'fung', 'funk', 'funç', 'fur', 'futebol', 'futur', 'fux', 'fábi', 'fábr', 'fácil', 'fát', 'fã', 'férias', 'fíg', 'físic', 'fórmul', 'gab', 'gabigol', 'gabinet', 'gabriel', 'gad', 'gafanhot', 'gag', 'gaj', 'gal', 'gam', 'ganh', 'gar', 'garant', 'garc', 'gargant', 'garot', 'garraf', 'gasolin', 'gast', 'gat', 'gatilh', 'gay', 'gaúch', 'gel', 'gen', 'gener', 'genoc', 'genocídi', 'genom', 'gent', 'gené', 'ger', 'geral', 'ges', 'gest', 'gigant', 'gil', 'gilm', 'gir', 'glob', 'global', 'globolix', 'globonew', 'glór', 'gnt', 'goel', 'goi', 'goiân', 'gol', 'golp', 'gom', 'googl', 'gord', 'gost', 'got', 'gov', 'govern', 'grad', 'graf', 'gram', 'gran', 'grand', 'grat', 'gratuit', 'grau', 'grav', 'gravid', 'graç', 'grev', 'grey', 'gring', 'grip', 'grit', 'gross', 'grup', 'gráf', 'grátil', 'gráv', 'grêmi', 'guard', 'gued', 'guerr', 'gui', 'guilherm', 'gur', 'gustav', 'gás', 'gêner', 'h1n1', 'h3n2', 'ha', 'habit', 'hack', 'haddad', 'hahah', 'hahahah', 'hahahahah', 'hai', 'hang', 'happy', 'harry', 'hav', 'havan', 'hcq', 'hein', 'heineken', 'heinz', 'helen', 'hemorrág', 'henriqu', 'hepatit', 'heró', 'hidroxicloroquin', 'higien', 'higiên', 'hipocris', 'hipócrit', 'hipótes', 'hist', 'histór', 'hiv', 'hoj', 'holand', 'holocaust', 'hom', 'homen', 'homenage', 'homicídi', 'honest', 'honr', 'hopkim', 'hor', 'horizont', 'horr', 'hosp', 'hosped', 'hospit', 'hospital', 'hotel', 'htt', 'hum', 'human', 'humbert', 'humilh', 'humor', 'héter', 'iam', 'ida', 'idad', 'ide', 'ideal', 'identif', 'identific', 'ideolog', 'ideológ', 'idiot', 'ido', 'idos', 'ign', 'ignor', 'igrej', 'igual', 'ileg', 'iles', 'ilh', 'ilustr', 'imag', 'imagin', 'imbecil', 'imediat', 'imens', 'imp', 'impact', 'impeachment', 'imped', 'imper', 'implant', 'implement', 'implor', 'import', 'imposs', 'impost', 'imprens', 'impress', 'impression', 'impõ', 'imun', 'imuniz', 'imunolog', 'imunológ', 'inacredit', 'inativ', 'inaugur', 'inc', 'incen', 'incentiv', 'incert', 'incid', 'inclu', 'inclus', 'inclusiv', 'incomod', 'incompet', 'incr', 'incêndi', 'ind', 'inden', 'independ', 'indi', 'indic', 'indici', 'indign', 'individ', 'indivídu', 'induz', 'indíci', 'indígen', 'indústr', 'ineficaz', 'inefici', 'ineficác', 'inf', 'infantil', 'infart', 'infect', 'infectolog', 'infecç', 'infeliz', 'infern', 'infet', 'infeç', 'infinit', 'infl', 'inflam', 'influ', 'influenc', 'influenci', 'influenz', 'inform', 'infânc', 'ingl', 'inglaterr', 'ingress', 'inib', 'inic', 'inici', 'inimig', 'injet', 'injeç', 'inoc', 'inocul', 'inquérit', 'insan', 'insist', 'inst', 'instagr', 'instal', 'institu', 'institut', 'insufici', 'insum', 'insuport', 'int', 'inte', 'integr', 'intelig', 'intens', 'intenç', 'inter', 'interess', 'interfer', 'interi', 'intern', 'internac', 'internet', 'interpret', 'interromp', 'interval', 'intervenç', 'intim', 'intrig', 'intub', 'inv', 'invad', 'invas', 'invej', 'invent', 'invenç', 'invern', 'invest', 'investig', 'invé', 'inédit', 'iníci', 'inúm', 'inúmer', 'inútel', 'inútil', 'iphon', 'ir', 'ire', 'iri', 'irm', 'irmã', 'iron', 'ironiz', 'irregular', 'irrespons', 'irrit', 'irá', 'irã', 'isent', 'isl', 'isol', 'israel', 'it', 'itaip', 'itali', 'itál', 'ivermectin', 'jacaré', 'jad', 'jair', 'jamal', 'jan', 'janel', 'janssen', 'jant', 'jap', 'japon', 'jaquelin', 'jat', 'jeit', 'jesu', 'joe', 'joelh', 'jog', 'johm', 'john', 'johnson', 'jorg', 'jorn', 'jornal', 'jornaldarecord', 'jornalnac', 'josé', 'jot', 'journ', 'jov', 'joã', 'jr24h', 'judic', 'judici', 'juiz', 'julg', 'julh', 'juliett', 'jument', 'junh', 'junin', 'junt', 'jur', 'just', 'justific', 'justiç', 'juíz', 'kais', 'kajuru', 'kalil', 'karol', 'kit', 'kkk', 'kkkk', 'kkkkk', 'kkkkkk', 'kkkkkkk', 'kkkkkkkk', 'kkkkkkkkk', 'kkkkkkkkkk', 'kkkkkkkkkkk', 'kkkkkkkkkkkk', 'kkkkkkkkkkkkk', 'kkkkkkkkkkkkkk', 'kkkkkkkkkkkkkkk', 'kkkkkkkkkkkkkkkk', 'laboratóri', 'lacerd', 'lacr', 'lad', 'ladr', 'lago', 'lamb', 'lament', 'lanc', 'lanch', 'lanç', 'lar', 'laranj', 'larg', 'lasc', 'lat', 'latin', 'laud', 'laur', 'lav', 'learn', 'legal', 'legend', 'legisl', 'lei', 'leit', 'lembr', 'lembranç', 'lend', 'lendár', 'lent', 'ler', 'les', 'letal', 'letr', 'leu', 'lev', 'levant', 'lewandowsk', 'lib', 'liber', 'liberdad', 'libert', 'licenç', 'licit', 'lid', 'lider', 'lideranç', 'lig', 'lik', 'lim', 'limin', 'limit', 'limp', 'limã', 'lin', 'lind', 'linh', 'link', 'lir', 'lisbo', 'list', 'liter', 'litor', 'liv', 'livr', 'lix', 'liç', 'loc', 'local', 'lockdowm', 'lockdown', 'log', 'logís', 'loj', 'lol', 'londr', 'long', 'lot', 'louc', 'lov', 'luan', 'luc', 'luci', 'lucr', 'lug', 'luil', 'luiz', 'lul', 'lut', 'luv', 'luz', 'luí', 'lágr', 'líd', 'língu', 'lógic', 'lúc', 'macac', 'macap', 'mach', 'machuc', 'maconh', 'mad', 'madrug', 'madur', 'mae', 'mai', 'mainh', 'maior', 'maj', 'mal', 'mald', 'maldad', 'maldit', 'malt', 'maluc', 'malár', 'mam', 'mamã', 'man', 'manaf', 'manau', 'manchet', 'mand', 'mandat', 'mandett', 'manhã', 'manif', 'manifest', 'manipul', 'mans', 'mant', 'mantenh', 'mantiv', 'mantém', 'manutenç', 'mané', 'map', 'mape', 'mar', 'maracanã', 'maranh', 'maravilh', 'marc', 'marcel', 'march', 'margin', 'mari', 'maric', 'marid', 'marketing', 'marqu', 'martim', 'març', 'maríl', 'masc', 'mass', 'massacr', 'mat', 'matemá', 'mater', 'matern', 'math', 'matér', 'mau', 'maur', 'max', 'mayr', 'mbemb', 'mbl', 'md', 'me', 'mec', 'med', 'medalh', 'medic', 'medicin', 'meg', 'mei', 'meir', 'mel', 'melhor', 'mell', 'mem', 'membr', 'memór', 'men', 'mencion', 'mend', 'mendonç', 'menez', 'menin', 'menos', 'menosprez', 'mens', 'ment', 'mentir', 'mer', 'merc', 'mercury', 'merd', 'merec', 'mes', 'mesm', 'messias', 'mestr', 'met', 'metad', 'metr', 'metrô', 'mex', 'mexic', 'michael', 'michell', 'mig', 'miguel', 'mil', 'milagr', 'milh', 'milhã', 'milici', 'milit', 'mim', 'mimim', 'min', 'minim', 'minimiz', 'minist', 'ministr', 'minut', 'miocardit', 'mir', 'mirand', 'mirandópolil', 'mis', 'miser', 'misericórd', 'miss', 'mist', 'misteri', 'mistur', 'misér', 'mit', 'mlk', 'mobil', 'mod', 'model', 'moder', 'modern', 'mol', 'moment', 'monitor', 'monstr', 'mont', 'mor', 'mora', 'moral', 'morceg', 'morr', 'mort', 'mortal', 'mosquit', 'mostr', 'mot', 'motiv', 'motor', 'mour', 'mov', 'moviment', 'moç', 'mpf', 'mrn', 'msg', 'msm', 'mta', 'mto', 'mud', 'mudanç', 'muit', 'mulh', 'mult', 'mun', 'mund', 'municip', 'municípi', 'music', 'mut', 'mágic', 'máquin', 'másc', 'máx', 'mãe', 'mão', 'méd', 'médi', 'médic', 'métod', 'méxic', 'mê', 'míd', 'mín', 'móvel', 'músic', 'nacion', 'nad', 'namor', 'nao', 'naquel', 'nariz', 'narr', 'nasal', 'nasc', 'natal', 'natur', 'navi', 'naçã', 'necess', 'necessit', 'necessár', 'neg', 'nega', 'negac', 'negacion', 'negativ', 'neglig', 'negoci', 'negr', 'negóci', 'nel', 'nelson', 'nenhum', 'nerv', 'ness', 'nest', 'net', 'netflix', 'neurôni', 'nev', 'new', 'neym', 'ngm', 'nicett', 'ning', 'ninguém', 'nis', 'niss', 'niteró', 'niv', 'nnc', 'nobel', 'noi', 'noil', 'noit', 'noj', 'nojent', 'nom', 'nome', 'nord', 'norm', 'normal', 'normaliz', 'noronh', 'nort', 'norteameric', 'not', 'notic', 'notici', 'notific', 'notíc', 'notíciacrim', 'nov', 'novel', 'novembr', 'novidad', 'noç', 'numer', 'nun', 'nunc', 'nuv', 'nível', 'núcle', 'númer', 'ob', 'obedec', 'obg', 'obje', 'obr', 'obrig', 'obrigatoriedad', 'obrigatór', 'obrigatóri', 'observ', 'observatóri', 'obt', 'obv', 'ocorr', 'ocult', 'ocup', 'ode', 'odei', 'odi', 'oest', 'ofend', 'ofens', 'oferec', 'ofert', 'off', 'offic', 'ofic', 'oit', 'olav', 'olfat', 'olh', 'olimpí', 'oliv', 'olá', 'olímp', 'om', 'omicron', 'omiss', 'omit', 'ond', 'onlin', 'ont', 'onu', 'onz', 'opa', 'open', 'oper', 'opin', 'oportun', 'opos', 'opt', 'opç', 'oqu', 'or', 'ora', 'oral', 'oraç', 'ord', 'organ', 'organiz', 'orgulh', 'orient', 'orig', 'orl', 'orç', 'osc', 'osm', 'oss', 'oswald', 'otim', 'ott', 'otári', 'otávi', 'our', 'outr', 'outubr', 'ouv', 'ouç', 'ovo', 'oxford', 'oxigêni', 'ozôni', 'pa', 'pachec', 'paci', 'pact', 'padr', 'padrast', 'pae', 'pag', 'pagod', 'pai', 'painel', 'painelconas', 'pal', 'palad', 'palanqu', 'palavr', 'palc', 'palh', 'palhaç', 'palm', 'paláci', 'pan', 'pand', 'pandem', 'pandêm', 'panel', 'pantan', 'pap', 'papel', 'par', 'parab', 'parabém', 'paralel', 'paralis', 'paran', 'parano', 'paranó', 'parasit', 'paraíb', 'parc', 'parcel', 'parec', 'pared', 'parent', 'paril', 'parl', 'parlament', 'parqu', 'part', 'particip', 'particul', 'pasm', 'pass', 'passag', 'passaport', 'passe', 'passei', 'past', 'pastor', 'pat', 'patamar', 'patent', 'patriot', 'patrã', 'pau', 'paul', 'paus', 'paut', 'paz', 'pazuell', 'país', 'pcr', 'pdt', 'pec', 'ped', 'pediatr', 'pediátr', 'pedr', 'peg', 'pegu', 'peid', 'peit', 'pel', 'pelot', 'pen', 'penal', 'pens', 'pep', 'pequen', 'per', 'perc', 'perceb', 'percent', 'perd', 'perdo', 'perfeit', 'perfil', 'pergunt', 'perif', 'perig', 'permanec', 'permit', 'pern', 'pernambuc', 'pernil', 'persegu', 'person', 'perspec', 'pert', 'pertenc', 'peru', 'períod', 'pes', 'pesadel', 'pesquis', 'pess', 'pesso', 'pessoal', 'pest', 'pet', 'petist', 'peç', 'pff2', 'pfiz', 'pfv', 'pfvr', 'pgr', 'pi', 'piauí', 'pib', 'pic', 'picanh', 'pilot', 'ping', 'pinh', 'pint', 'piolh', 'pior', 'pipoc', 'pirat', 'pis', 'piscin', 'pizz', 'plac', 'placeb', 'plan', 'planalt', 'planej', 'planet', 'plant', 'plataform', 'plate', 'plen', 'plás', 'pneumon', 'po', 'pobr', 'pod', 'podcast', 'poder', 'podr', 'poh', 'poi', 'pol', 'poli', 'polic', 'politic', 'polêm', 'políci', 'polít', 'pont', 'pop', 'popul', 'por', 'porc', 'porcent', 'porqu', 'porr', 'port', 'portant', 'portug', 'portugu', 'portugues', 'porém', 'pos', 'posi', 'posicion', 'positiv', 'poss', 'possi', 'possibil', 'possu', 'possível', 'post', 'pot', 'potenc', 'pouc', 'poup', 'pouq', 'pous', 'pov', 'pox', 'pprt', 'pqp', 'pra', 'prag', 'prai', 'prat', 'pratic', 'praz', 'praç', 'pre', 'prec', 'precauç', 'precis', 'precoc', 'preconceit', 'pref', 'prefeit', 'prefer', 'prefir', 'preg', 'preguiç', 'prejudic', 'prejuíz', 'prelimin', 'premi', 'prend', 'preocup', 'prep', 'prepar', 'pres', 'prescr', 'prescrev', 'presenc', 'presenç', 'preserv', 'presid', 'president', 'press', 'pression', 'prest', 'pret', 'pretend', 'prev', 'preven', 'prevent', 'prevenç', 'previn', 'previs', 'previst', 'prez', 'preç', 'pri', 'prim', 'primeiroministr', 'princip', 'princípi', 'prior', 'priorit', 'pris', 'priv', 'priva', 'privilégi', 'pro', 'probabil', 'problem', 'proc', 'proced', 'process', 'procur', 'produt', 'produz', 'produç', 'prof', 'profes', 'profiss', 'profund', 'program', 'progress', 'proib', 'projet', 'prol', 'prolifer', 'prolong', 'promet', 'promis', 'promot', 'promov', 'promoç', 'pront', 'pronunc', 'prop', 'propag', 'propagand', 'propin', 'proporc', 'proporç', 'proposit', 'propost', 'propriedad', 'propósit', 'propõ', 'prorrog', 'protagon', 'proteg', 'protej', 'protejas', 'protest', 'proteç', 'proteín', 'protocol', 'protozo', 'prov', 'prova', 'provid', 'provoc', 'prox', 'proxalutam', 'proíb', 'prát', 'pré', 'prédi', 'prêmi', 'pró', 'própr', 'própri', 'próx', 'psicológ', 'psicopat', 'psicólog', 'psiquiatr', 'psol', 'publ', 'public', 'pud', 'puglies', 'pul', 'pulm', 'pulmon', 'pun', 'pur', 'put', 'putin', 'pux', 'págin', 'pásco', 'pânic', 'pão', 'péss', 'pó', 'pôd', 'põe', 'públic', 'qdo', 'qnd', 'qto', 'qu', 'quadr', 'qual', 'qualqu', 'quant', 'quarent', 'quarenten', 'quart', 'quartaf', 'quas', 'quatr', 'que', 'quebr', 'qued', 'queim', 'queirog', 'queiroz', 'queix', 'quent', 'quer', 'quest', 'question', 'quiet', 'quil', 'quint', 'quintaf', 'quis', 'quã', 'quê', 'ra', 'rab', 'rac', 'rach', 'racist', 'radic', 'raf', 'rafael', 'rai', 'rainh', 'raiv', 'ram', 'randolf', 'ranking', 'rap', 'rapaz', 'rapazi', 'rapid', 'rar', 'rat', 'raç', 'reabert', 'reabr', 'reafirm', 'reag', 'real', 'realiz', 'reaç', 'rebanh', 'rebat', 'rec', 'receb', 'recei', 'receit', 'recent', 'recess', 'recif', 'reclam', 'recolh', 'recom', 'recomend', 'reconhec', 'record', 'recorr', 'recu', 'recup', 'recuper', 'recurs', 'recus', 'red', 'redebbb', 'redor', 'reduz', 'reduç', 'refer', 'reflet', 'reflex', 'reform', 'reforç', 'reg', 'regim', 'region', 'regist', 'registr', 'regr', 'regress', 'regul', 'rei', 'rein', 'reinfecç', 'rejeit', 'rel', 'rela', 'relacion', 'relat', 'relatóri', 'relax', 'relaç', 'relembr', 'relev', 'religi', 'remedi', 'remess', 'remot', 'remov', 'remédi', 'renan', 'renat', 'rend', 'renom', 'renov', 'rep', 'repar', 'repass', 'repent', 'repercuss', 'repet', 'repit', 'report', 'repost', 'repous', 'represent', 'repórt', 'repúbl', 'requer', 'requisit', 'resenh', 'reserv', 'resfri', 'resid', 'resist', 'resoluç', 'resolv', 'resp', 'respe', 'respeit', 'respir', 'respiratór', 'respiratóri', 'respond', 'respons', 'responsabil', 'responsabiliz', 'respost', 'ressac', 'ressalt', 'rest', 'restaurant', 'restr', 'restri', 'restring', 'result', 'resum', 'ret', 'retard', 'retir', 'retom', 'retorn', 'retrat', 'reun', 'rev', 'revel', 'revis', 'revist', 'revolt', 'rez', 'reún', 'rib', 'ribe', 'ric', 'ricard', 'ridícul', 'rigor', 'rim', 'rind', 'rinh', 'rinit', 'rio', 'rir', 'ris', 'risc', 'ritm', 'riv', 'rna', 'robert', 'roch', 'rock', 'rod', 'rodrig', 'rogéri', 'rol', 'rom', 'romanc', 'romp', 'ronald', 'rondôn', 'rora', 'ros', 'rost', 'rote', 'rotin', 'roub', 'roup', 'rox', 'rtpcr', 'rtt', 'rua', 'rui', 'ruim', 'rum', 'russ', 'rádi', 'rápid', 'réveillon', 'rúss', 'sa', 'sab', 'sabot', 'sac', 'sacan', 'sacrific', 'saf', 'sai', 'saib', 'said', 'saind', 'sair', 'saiu', 'sal', 'saliv', 'salt', 'salv', 'salári', 'samb', 'samu', 'sane', 'sang', 'sanit', 'sanitár', 'sant', 'sao', 'sar', 'sarah', 'saramp', 'sarscov2', 'saud', 'saudad', 'saí', 'saíd', 'saír', 'saúd', 'sbt', 'sdd', 'sec', 'secret', 'secretár', 'sed', 'seg', 'segred', 'segu', 'seguint', 'segund', 'segundaf', 'segur', 'seguranç', 'sei', 'seil', 'sele', 'seleç', 'seman', 'semelh', 'semestr', 'sempr', 'sen', 'send', 'senh', 'seni', 'sens', 'sensat', 'sent', 'senã', 'separ', 'sequ', 'sequel', 'ser', 'seras', 'sergip', 'seri', 'sering', 'serr', 'sertanej', 'serv', 'serviç', 'sess', 'set', 'setembr', 'sex', 'sext', 'sextaf', 'shopping', 'show', 'sid', 'sig', 'sigil', 'signif', 'signific', 'silenci', 'silv', 'silvi', 'silênci', 'sim', 'simon', 'simpl', 'simples', 'sinal', 'sinc', 'sincer', 'sindicat', 'sinistr', 'sinovac', 'sint', 'sintom', 'sintomá', 'sinusit', 'sistem', 'sit', 'situ', 'skin', 'skol', 'sla', 'sm', 'so', 'sob', 'sobr', 'sobreviv', 'soc', 'soci', 'social', 'sociedad', 'socorr', 'sof', 'sofr', 'sogr', 'sol', 'sold', 'solicit', 'solid', 'solidariedad', 'solt', 'soluç', 'som', 'soment', 'son', 'sonh', 'sop', 'sor', 'sorocab', 'sorr', 'sorris', 'sort', 'sosseg', 'soub', 'sporting', 'spray', 'sputnik', 'sra', 'stell', 'stf', 'stj', 'stori', 'story', 'su', 'suav', 'sub', 'submet', 'subnotific', 'substitu', 'sucess', 'sufici', 'sufoc', 'sug', 'suger', 'suicídi', 'suj', 'sujeit', 'sul', 'sum', 'sup', 'super', 'superfatur', 'superi', 'superintend', 'supermerc', 'suport', 'supost', 'supr', 'surg', 'surpr', 'surpreend', 'surre', 'surt', 'suspeit', 'suspend', 'suspens', 'sust', 'sustent', 'suéc', 'suíç', 'sáb', 'sécul', 'sér', 'sérgi', 'séri', 'síndrom', 'sóci', 'súbit', 'ta', 'tac', 'tad', 'tag', 'tal', 'talv', 'tam', 'tamanh', 'tamb', 'tant', 'tao', 'tap', 'tar', 'tarcísi', 'tard', 'tat', 'tatu', 'tav', 'tax', 'tbm', 'tbt', 'tcu', 'td', 'teatr', 'tec', 'tecatit', 'tecl', 'tecnolog', 'teich', 'tel', 'telefon', 'televis', 'tell', 'tem', 'temp', 'temperat', 'tempor', 'temporár', 'tend', 'tens', 'tent', 'teor', 'ter', 'terap', 'terc', 'term', 'termin', 'terr', 'territóri', 'terror', 'terç', 'terçaf', 'tes', 'test', 'testemunh', 'tet', 'tex', 'text', 'the', 'thiag', 'thread', 'thru', 'tia', 'tiag', 'tid', 'tiktok', 'tim', 'tio', 'tip', 'tir', 'tiran', 'tiranet', 'titul', 'tmb', 'tnc', 'toc', 'tocantim', 'tod', 'toffol', 'tom', 'top', 'toqu', 'torc', 'torn', 'torr', 'tort', 'torç', 'toss', 'total', 'totaliz', 'tou', 'tour', 'tr', 'tra', 'trabalh', 'tradic', 'traduz', 'trag', 'tragéd', 'tramp', 'tranc', 'tranquil', 'trans', 'transfer', 'transform', 'transmis', 'transmiss', 'transmit', 'transpar', 'transport', 'trat', 'tratas', 'trav', 'traz', 'trech', 'trein', 'trem', 'tret', 'tri', 'tribun', 'trilh', 'tripl', 'trist', 'troc', 'trombos', 'trop', 'troux', 'trump', 'trá', 'trág', 'trânsit', 'trê', 'tse', 'tuberculos', 'tud', 'tuit', 'tur', 'turist', 'turm', 'turn', 'tuít', 'tweet', 'twitt', 'tão', 'técn', 'tédi', 'têm', 'títul', 'tóqui', 'tóxic', 'uai', 'ub', 'ufa', 'ufmg', 'ufrj', 'ult', 'ultrapass', 'um', 'uma', 'umbilic', 'unh', 'uni', 'unic', 'unid', 'unidad', 'unimed', 'unir', 'univers', 'universit', 'uol', 'upa', 'urg', 'urgent', 'urn', 'urubu', 'urugu', 'us', 'usa', 'use', 'uso', 'usou', 'usp', 'usu', 'uti', 'util', 'utiliz', 'vac', 'vachin', 'vacil', 'vacin', 'vacinaparatod', 'vacinasim', 'vag', 'vagabund', 'vai', 'vairu', 'val', 'validad', 'valor', 'vam', 'vantag', 'vao', 'var', 'vari', 'vasc', 'vaz', 'vazi', 'vc', 'vdd', 'vei', 'vej', 'vel', 'velh', 'veloc', 'velóri', 'vem', 'venc', 'vend', 'venen', 'venezuel', 'venh', 'vent', 'ventil', 'ver', 'verb', 'verd', 'verdad', 'vere', 'vergonh', 'verific', 'verm', 'vermelh', 'vermífug', 'vers', 'vest', 'vet', 'vez', 'veícul', 'vi', 'via', 'viag', 'viaj', 'vibr', 'vic', 'vicepresid', 'vid', 'vide', 'vidr', 'vie', 'vier', 'vietnã', 'vig', 'vigil', 'vil', 'vim', 'vind', 'vinh', 'vint', 'viol', 'vir', 'viral', 'viraliz', 'virolog', 'viros', 'virtual', 'virtud', 'vis', 'visit', 'vist', 'vit', 'vitamin', 'vitór', 'viu', 'viv', 'vivaosu', 'vo', 'voc', 'volt', 'voluntári', 'vontad', 'voo', 'voss', 'vot', 'vou', 'vovô', 'voz', 'vsf', 'vtnc', 'vulc', 'vulnerável', 'vár', 'vári', 'vão', 'véi', 'vésp', 'vêm', 'víde', 'vír', 'vítim', 'waiswol', 'washington', 'web', 'werneck', 'weverton', 'whatsapp', 'will', 'window', 'withheld', 'witzel', 'wizard', 'world', 'worldwid', 'wuhan', 'xenofob', 'xerecard', 'xing', 'yal', 'yamaguch', 'yanomam', 'yaraviru', 'york', 'you', 'youtub', 'zambell', 'zap', 'zec', 'zelând', 'zem', 'zer', 'zic', 'zik', 'zinc', 'zo', 'zomb', 'zon', 'zumb', 'áfric', 'águ', 'álcool', 'áre', 'árvor', 'ásia', 'átil', 'áudi', 'áustr', 'époc', 'étic', 'ídol', 'índ', 'índic', 'íntegr', 'óbit', 'óbvi', 'ódi', 'órfã', 'órg', 'ótim', 'ômicron', 'ônibu', 'últ', 'únic', 'útil']\n"
     ]
    },
    {
     "name": "stdout",
     "output_type": "stream",
     "text": [
      "[[0 0 0 ... 0 0 0]\n",
      " [0 0 0 ... 0 0 0]\n",
      " [0 0 0 ... 0 0 0]\n",
      " ...\n",
      " [0 0 0 ... 0 0 0]\n",
      " [0 0 0 ... 0 0 0]\n",
      " [0 0 0 ... 0 0 0]]\n"
     ]
    }
   ],
   "source": [
    "from sklearn.feature_extraction.text import CountVectorizer\n",
    "vectorizer = CountVectorizer()\n",
    "df['input'] = df['normalized_text_stemm_emoji'].apply(lambda x: ' '.join([word for word in x]))\n",
    "\n",
    "vectorizer = CountVectorizer(lowercase=False, min_df=50)\n",
    "X = vectorizer.fit_transform(df['input'].values)\n",
    "\n",
    "print(vectorizer.get_feature_names())\n",
    "print(X.toarray())"
   ]
  },
  {
   "cell_type": "code",
   "execution_count": 5,
   "id": "87de7252",
   "metadata": {},
   "outputs": [],
   "source": [
    "Y = list(df['sentiment'].replace(['Positivo','Negativo','Neutro'],[1,-1,0]))"
   ]
  },
  {
   "cell_type": "code",
   "execution_count": null,
   "id": "9dcaecd2",
   "metadata": {},
   "outputs": [],
   "source": []
  },
  {
   "cell_type": "code",
   "execution_count": 6,
   "id": "fcaa64fb",
   "metadata": {},
   "outputs": [],
   "source": [
    "import numpy as np\n",
    "from sklearn.model_selection import train_test_split\n",
    "\n",
    "X_train, X_test, y_train, y_test = train_test_split(X, Y, test_size=0.20, random_state=42)"
   ]
  },
  {
   "cell_type": "code",
   "execution_count": 7,
   "id": "ac238919",
   "metadata": {},
   "outputs": [],
   "source": [
    "# Modelling\n",
    "from sklearn.svm import SVC\n",
    "from sklearn.metrics import accuracy_score, confusion_matrix, precision_score, recall_score, ConfusionMatrixDisplay\n",
    "from sklearn.model_selection import RandomizedSearchCV, train_test_split\n",
    "from scipy.stats import randint\n",
    "\n",
    "# Tree Visualisation\n",
    "from sklearn.tree import export_graphviz\n",
    "from IPython.display import Image\n",
    "import graphviz"
   ]
  },
  {
   "cell_type": "code",
   "execution_count": 8,
   "id": "fabb2c18",
   "metadata": {},
   "outputs": [
    {
     "data": {
      "text/plain": [
       "SVC()"
      ]
     },
     "execution_count": 8,
     "metadata": {},
     "output_type": "execute_result"
    }
   ],
   "source": [
    "svc = SVC()\n",
    "svc.fit(X_train, y_train)"
   ]
  },
  {
   "cell_type": "code",
   "execution_count": 9,
   "id": "1fc84b89",
   "metadata": {},
   "outputs": [],
   "source": [
    "y_pred = svc.predict(X_test)"
   ]
  },
  {
   "cell_type": "code",
   "execution_count": 10,
   "id": "d28999f5",
   "metadata": {},
   "outputs": [
    {
     "name": "stdout",
     "output_type": "stream",
     "text": [
      "Accuracy: 0.803075\n"
     ]
    }
   ],
   "source": [
    "accuracy = accuracy_score(y_test, y_pred)\n",
    "print(\"Accuracy:\", accuracy)"
   ]
  },
  {
   "cell_type": "code",
   "execution_count": 11,
   "id": "cebf764b",
   "metadata": {},
   "outputs": [
    {
     "data": {
      "text/plain": [
       "<sklearn.metrics._plot.confusion_matrix.ConfusionMatrixDisplay at 0x7f2d5e6cbe90>"
      ]
     },
     "execution_count": 11,
     "metadata": {},
     "output_type": "execute_result"
    },
    {
     "data": {
      "image/png": "[encoded data removed]",
      "text/plain": [
       "<Figure size 640x480 with 2 Axes>"
      ]
     },
     "metadata": {},
     "output_type": "display_data"
    }
   ],
   "source": [
    "cm = confusion_matrix(y_test, y_pred)\n",
    "\n",
    "ConfusionMatrixDisplay(confusion_matrix=cm).plot()"
   ]
  },
  {
   "cell_type": "code",
   "execution_count": 12,
   "id": "fe9c7773",
   "metadata": {},
   "outputs": [
    {
     "name": "stdout",
     "output_type": "stream",
     "text": [
      "              precision    recall  f1-score   support\n",
      "\n",
      "          -1       0.81      0.85      0.83     18797\n",
      "           0       0.78      0.78      0.78     11818\n",
      "           1       0.81      0.74      0.77      9385\n",
      "\n",
      "    accuracy                           0.80     40000\n",
      "   macro avg       0.80      0.79      0.80     40000\n",
      "weighted avg       0.80      0.80      0.80     40000\n",
      "\n"
     ]
    }
   ],
   "source": [
    "from sklearn.metrics import classification_report\n",
    "print(classification_report(y_test, y_pred))"
   ]
  },
  {
   "cell_type": "code",
   "execution_count": 13,
   "id": "f1ea7738",
   "metadata": {},
   "outputs": [],
   "source": [
    "from sklearn.model_selection import GridSearchCV,RandomizedSearchCV"
   ]
  },
  {
   "cell_type": "code",
   "execution_count": 15,
   "id": "722a5f8f",
   "metadata": {},
   "outputs": [
    {
     "data": {
      "text/plain": [
       "{'C': 1.0,\n",
       " 'break_ties': False,\n",
       " 'cache_size': 200,\n",
       " 'class_weight': None,\n",
       " 'coef0': 0.0,\n",
       " 'decision_function_shape': 'ovr',\n",
       " 'degree': 3,\n",
       " 'gamma': 'scale',\n",
       " 'kernel': 'rbf',\n",
       " 'max_iter': -1,\n",
       " 'probability': False,\n",
       " 'random_state': None,\n",
       " 'shrinking': True,\n",
       " 'tol': 0.001,\n",
       " 'verbose': False}"
      ]
     },
     "execution_count": 15,
     "metadata": {},
     "output_type": "execute_result"
    }
   ],
   "source": [
    "svc.get_params()\n",
    "# {'C': 1.0,\n",
    "#  'break_ties': False,\n",
    "#  'cache_size': 200,\n",
    "#  'class_weight': None,\n",
    "#  'coef0': 0.0,\n",
    "#  'decision_function_shape': 'ovr',\n",
    "#  'degree': 3,\n",
    "#  'gamma': 'scale',\n",
    "#  'kernel': 'rbf',\n",
    "#  'max_iter': -1,\n",
    "#  'probability': False,\n",
    "#  'random_state': None,\n",
    "#  'shrinking': True,\n",
    "#  'tol': 0.001,\n",
    "#  'verbose': False}"
   ]
  },
  {
   "cell_type": "code",
   "execution_count": 24,
   "id": "dbb632ef",
   "metadata": {},
   "outputs": [],
   "source": [
    "param_grid = {\n",
    " 'C': [1.0],\n",
    " 'break_ties': [False],\n",
    " 'cache_size': [200],\n",
    " 'class_weight': [None],\n",
    " 'coef0': [0.0],\n",
    " 'decision_function_shape': ['ovo', 'ovr'],\n",
    " 'degree': [1,2,3,4,5],\n",
    " 'gamma': ['scale'],\n",
    " 'kernel': ['linear', 'poly', 'rbf', 'sigmoid', 'precomputed'],\n",
    " 'max_iter': [-1],\n",
    " 'probability': [False],\n",
    " 'random_state': [None],\n",
    " 'shrinking': [True],\n",
    " 'tol': [0.001, 0.0001],\n",
    " 'verbose': [False]\n",
    "}"
   ]
  },
  {
   "cell_type": "code",
   "execution_count": 26,
   "id": "a71653e9",
   "metadata": {},
   "outputs": [
    {
     "ename": "KeyboardInterrupt",
     "evalue": "",
     "output_type": "error",
     "traceback": [
      "\u001b[0;31m---------------------------------------------------------------------------\u001b[0m",
      "\u001b[0;31mKeyboardInterrupt\u001b[0m                         Traceback (most recent call last)",
      "\u001b[0;32m/tmp/ipykernel_501/2712926125.py\u001b[0m in \u001b[0;36m<module>\u001b[0;34m\u001b[0m\n\u001b[1;32m      2\u001b[0m                            \u001b[0mparam_grid\u001b[0m\u001b[0;34m=\u001b[0m\u001b[0mparam_grid\u001b[0m\u001b[0;34m,\u001b[0m\u001b[0;34m\u001b[0m\u001b[0;34m\u001b[0m\u001b[0m\n\u001b[1;32m      3\u001b[0m                           n_jobs=-1)\n\u001b[0;32m----> 4\u001b[0;31m \u001b[0mgrid_search\u001b[0m\u001b[0;34m.\u001b[0m\u001b[0mfit\u001b[0m\u001b[0;34m(\u001b[0m\u001b[0mX_train\u001b[0m\u001b[0;34m,\u001b[0m \u001b[0my_train\u001b[0m\u001b[0;34m)\u001b[0m\u001b[0;34m\u001b[0m\u001b[0;34m\u001b[0m\u001b[0m\n\u001b[0m\u001b[1;32m      5\u001b[0m \u001b[0;31m# print(grid_search.best_estimator_)\u001b[0m\u001b[0;34m\u001b[0m\u001b[0;34m\u001b[0m\u001b[0;34m\u001b[0m\u001b[0m\n",
      "\u001b[0;32m/usr/local/lib/python3.7/site-packages/sklearn/utils/validation.py\u001b[0m in \u001b[0;36minner_f\u001b[0;34m(*args, **kwargs)\u001b[0m\n\u001b[1;32m     61\u001b[0m             \u001b[0mextra_args\u001b[0m \u001b[0;34m=\u001b[0m \u001b[0mlen\u001b[0m\u001b[0;34m(\u001b[0m\u001b[0margs\u001b[0m\u001b[0;34m)\u001b[0m \u001b[0;34m-\u001b[0m \u001b[0mlen\u001b[0m\u001b[0;34m(\u001b[0m\u001b[0mall_args\u001b[0m\u001b[0;34m)\u001b[0m\u001b[0;34m\u001b[0m\u001b[0;34m\u001b[0m\u001b[0m\n\u001b[1;32m     62\u001b[0m             \u001b[0;32mif\u001b[0m \u001b[0mextra_args\u001b[0m \u001b[0;34m<=\u001b[0m \u001b[0;36m0\u001b[0m\u001b[0;34m:\u001b[0m\u001b[0;34m\u001b[0m\u001b[0;34m\u001b[0m\u001b[0m\n\u001b[0;32m---> 63\u001b[0;31m                 \u001b[0;32mreturn\u001b[0m \u001b[0mf\u001b[0m\u001b[0;34m(\u001b[0m\u001b[0;34m*\u001b[0m\u001b[0margs\u001b[0m\u001b[0;34m,\u001b[0m \u001b[0;34m**\u001b[0m\u001b[0mkwargs\u001b[0m\u001b[0;34m)\u001b[0m\u001b[0;34m\u001b[0m\u001b[0;34m\u001b[0m\u001b[0m\n\u001b[0m\u001b[1;32m     64\u001b[0m \u001b[0;34m\u001b[0m\u001b[0m\n\u001b[1;32m     65\u001b[0m             \u001b[0;31m# extra_args > 0\u001b[0m\u001b[0;34m\u001b[0m\u001b[0;34m\u001b[0m\u001b[0;34m\u001b[0m\u001b[0m\n",
      "\u001b[0;32m/usr/local/lib/python3.7/site-packages/sklearn/model_selection/_search.py\u001b[0m in \u001b[0;36mfit\u001b[0;34m(self, X, y, groups, **fit_params)\u001b[0m\n\u001b[1;32m    839\u001b[0m                 \u001b[0;32mreturn\u001b[0m \u001b[0mresults\u001b[0m\u001b[0;34m\u001b[0m\u001b[0;34m\u001b[0m\u001b[0m\n\u001b[1;32m    840\u001b[0m \u001b[0;34m\u001b[0m\u001b[0m\n\u001b[0;32m--> 841\u001b[0;31m             \u001b[0mself\u001b[0m\u001b[0;34m.\u001b[0m\u001b[0m_run_search\u001b[0m\u001b[0;34m(\u001b[0m\u001b[0mevaluate_candidates\u001b[0m\u001b[0;34m)\u001b[0m\u001b[0;34m\u001b[0m\u001b[0;34m\u001b[0m\u001b[0m\n\u001b[0m\u001b[1;32m    842\u001b[0m \u001b[0;34m\u001b[0m\u001b[0m\n\u001b[1;32m    843\u001b[0m             \u001b[0;31m# multimetric is determined here because in the case of a callable\u001b[0m\u001b[0;34m\u001b[0m\u001b[0;34m\u001b[0m\u001b[0;34m\u001b[0m\u001b[0m\n",
      "\u001b[0;32m/usr/local/lib/python3.7/site-packages/sklearn/model_selection/_search.py\u001b[0m in \u001b[0;36m_run_search\u001b[0;34m(self, evaluate_candidates)\u001b[0m\n\u001b[1;32m   1294\u001b[0m     \u001b[0;32mdef\u001b[0m \u001b[0m_run_search\u001b[0m\u001b[0;34m(\u001b[0m\u001b[0mself\u001b[0m\u001b[0;34m,\u001b[0m \u001b[0mevaluate_candidates\u001b[0m\u001b[0;34m)\u001b[0m\u001b[0;34m:\u001b[0m\u001b[0;34m\u001b[0m\u001b[0;34m\u001b[0m\u001b[0m\n\u001b[1;32m   1295\u001b[0m         \u001b[0;34m\"\"\"Search all candidates in param_grid\"\"\"\u001b[0m\u001b[0;34m\u001b[0m\u001b[0;34m\u001b[0m\u001b[0m\n\u001b[0;32m-> 1296\u001b[0;31m         \u001b[0mevaluate_candidates\u001b[0m\u001b[0;34m(\u001b[0m\u001b[0mParameterGrid\u001b[0m\u001b[0;34m(\u001b[0m\u001b[0mself\u001b[0m\u001b[0;34m.\u001b[0m\u001b[0mparam_grid\u001b[0m\u001b[0;34m)\u001b[0m\u001b[0;34m)\u001b[0m\u001b[0;34m\u001b[0m\u001b[0;34m\u001b[0m\u001b[0m\n\u001b[0m\u001b[1;32m   1297\u001b[0m \u001b[0;34m\u001b[0m\u001b[0m\n\u001b[1;32m   1298\u001b[0m \u001b[0;34m\u001b[0m\u001b[0m\n",
      "\u001b[0;32m/usr/local/lib/python3.7/site-packages/sklearn/model_selection/_search.py\u001b[0m in \u001b[0;36mevaluate_candidates\u001b[0;34m(candidate_params, cv, more_results)\u001b[0m\n\u001b[1;32m    807\u001b[0m                                    (split_idx, (train, test)) in product(\n\u001b[1;32m    808\u001b[0m                                    \u001b[0menumerate\u001b[0m\u001b[0;34m(\u001b[0m\u001b[0mcandidate_params\u001b[0m\u001b[0;34m)\u001b[0m\u001b[0;34m,\u001b[0m\u001b[0;34m\u001b[0m\u001b[0;34m\u001b[0m\u001b[0m\n\u001b[0;32m--> 809\u001b[0;31m                                    enumerate(cv.split(X, y, groups))))\n\u001b[0m\u001b[1;32m    810\u001b[0m \u001b[0;34m\u001b[0m\u001b[0m\n\u001b[1;32m    811\u001b[0m                 \u001b[0;32mif\u001b[0m \u001b[0mlen\u001b[0m\u001b[0;34m(\u001b[0m\u001b[0mout\u001b[0m\u001b[0;34m)\u001b[0m \u001b[0;34m<\u001b[0m \u001b[0;36m1\u001b[0m\u001b[0;34m:\u001b[0m\u001b[0;34m\u001b[0m\u001b[0;34m\u001b[0m\u001b[0m\n",
      "\u001b[0;32m/usr/local/lib/python3.7/site-packages/joblib/parallel.py\u001b[0m in \u001b[0;36m__call__\u001b[0;34m(self, iterable)\u001b[0m\n\u001b[1;32m   1950\u001b[0m         \u001b[0mnext\u001b[0m\u001b[0;34m(\u001b[0m\u001b[0moutput\u001b[0m\u001b[0;34m)\u001b[0m\u001b[0;34m\u001b[0m\u001b[0;34m\u001b[0m\u001b[0m\n\u001b[1;32m   1951\u001b[0m \u001b[0;34m\u001b[0m\u001b[0m\n\u001b[0;32m-> 1952\u001b[0;31m         \u001b[0;32mreturn\u001b[0m \u001b[0moutput\u001b[0m \u001b[0;32mif\u001b[0m \u001b[0mself\u001b[0m\u001b[0;34m.\u001b[0m\u001b[0mreturn_generator\u001b[0m \u001b[0;32melse\u001b[0m \u001b[0mlist\u001b[0m\u001b[0;34m(\u001b[0m\u001b[0moutput\u001b[0m\u001b[0;34m)\u001b[0m\u001b[0;34m\u001b[0m\u001b[0;34m\u001b[0m\u001b[0m\n\u001b[0m\u001b[1;32m   1953\u001b[0m \u001b[0;34m\u001b[0m\u001b[0m\n\u001b[1;32m   1954\u001b[0m     \u001b[0;32mdef\u001b[0m \u001b[0m__repr__\u001b[0m\u001b[0;34m(\u001b[0m\u001b[0mself\u001b[0m\u001b[0;34m)\u001b[0m\u001b[0;34m:\u001b[0m\u001b[0;34m\u001b[0m\u001b[0;34m\u001b[0m\u001b[0m\n",
      "\u001b[0;32m/usr/local/lib/python3.7/site-packages/joblib/parallel.py\u001b[0m in \u001b[0;36m_get_outputs\u001b[0;34m(self, iterator, pre_dispatch)\u001b[0m\n\u001b[1;32m   1593\u001b[0m \u001b[0;34m\u001b[0m\u001b[0m\n\u001b[1;32m   1594\u001b[0m             \u001b[0;32mwith\u001b[0m \u001b[0mself\u001b[0m\u001b[0;34m.\u001b[0m\u001b[0m_backend\u001b[0m\u001b[0;34m.\u001b[0m\u001b[0mretrieval_context\u001b[0m\u001b[0;34m(\u001b[0m\u001b[0;34m)\u001b[0m\u001b[0;34m:\u001b[0m\u001b[0;34m\u001b[0m\u001b[0;34m\u001b[0m\u001b[0m\n\u001b[0;32m-> 1595\u001b[0;31m                 \u001b[0;32myield\u001b[0m \u001b[0;32mfrom\u001b[0m \u001b[0mself\u001b[0m\u001b[0;34m.\u001b[0m\u001b[0m_retrieve\u001b[0m\u001b[0;34m(\u001b[0m\u001b[0;34m)\u001b[0m\u001b[0;34m\u001b[0m\u001b[0;34m\u001b[0m\u001b[0m\n\u001b[0m\u001b[1;32m   1596\u001b[0m \u001b[0;34m\u001b[0m\u001b[0m\n\u001b[1;32m   1597\u001b[0m         \u001b[0;32mexcept\u001b[0m \u001b[0mGeneratorExit\u001b[0m\u001b[0;34m:\u001b[0m\u001b[0;34m\u001b[0m\u001b[0;34m\u001b[0m\u001b[0m\n",
      "\u001b[0;32m/usr/local/lib/python3.7/site-packages/joblib/parallel.py\u001b[0m in \u001b[0;36m_retrieve\u001b[0;34m(self)\u001b[0m\n\u001b[1;32m   1705\u001b[0m                 (self._jobs[0].get_status(\n\u001b[1;32m   1706\u001b[0m                     timeout=self.timeout) == TASK_PENDING)):\n\u001b[0;32m-> 1707\u001b[0;31m                 \u001b[0mtime\u001b[0m\u001b[0;34m.\u001b[0m\u001b[0msleep\u001b[0m\u001b[0;34m(\u001b[0m\u001b[0;36m0.01\u001b[0m\u001b[0;34m)\u001b[0m\u001b[0;34m\u001b[0m\u001b[0;34m\u001b[0m\u001b[0m\n\u001b[0m\u001b[1;32m   1708\u001b[0m                 \u001b[0;32mcontinue\u001b[0m\u001b[0;34m\u001b[0m\u001b[0;34m\u001b[0m\u001b[0m\n\u001b[1;32m   1709\u001b[0m \u001b[0;34m\u001b[0m\u001b[0m\n",
      "\u001b[0;31mKeyboardInterrupt\u001b[0m: "
     ]
    }
   ],
   "source": [
    "grid_search = GridSearchCV(SVC(),\n",
    "                           param_grid=param_grid,\n",
    "                          n_jobs=-1)\n",
    "grid_search.fit(X_train, y_train)\n",
    "# print(grid_search.best_estimator_)"
   ]
  },
  {
   "cell_type": "code",
   "execution_count": null,
   "id": "16cfe3b3",
   "metadata": {},
   "outputs": [],
   "source": [
    "grid_search.best_params_\n",
    "# {'max_depth': 9,\n",
    "#  'max_features': None,\n",
    "#  'max_leaf_nodes': None,\n",
    "#  'n_estimators': 50}"
   ]
  },
  {
   "cell_type": "code",
   "execution_count": null,
   "id": "b8f4f8d1",
   "metadata": {},
   "outputs": [],
   "source": [
    "# rf = RandomForestClassifier(max_depth=None, max_features='auto',max_leaf_nodes= None, n_estimators= 150,criterion='entropy')"
   ]
  },
  {
   "cell_type": "code",
   "execution_count": 70,
   "id": "d731afed",
   "metadata": {},
   "outputs": [
    {
     "data": {
      "text/plain": [
       "RandomForestClassifier(criterion='entropy', n_estimators=150)"
      ]
     },
     "execution_count": 70,
     "metadata": {},
     "output_type": "execute_result"
    }
   ],
   "source": [
    "rf = RandomForestClassifier(max_depth=None, max_features='auto',max_leaf_nodes= None, n_estimators= 150,criterion='entropy')\n",
    "rf.fit(X_train, y_train)"
   ]
  },
  {
   "cell_type": "code",
   "execution_count": 71,
   "id": "d5d8e1da",
   "metadata": {},
   "outputs": [],
   "source": [
    "y_pred = rf.predict(X_test)"
   ]
  },
  {
   "cell_type": "code",
   "execution_count": 72,
   "id": "6d61e7fa",
   "metadata": {},
   "outputs": [
    {
     "name": "stdout",
     "output_type": "stream",
     "text": [
      "Accuracy: 0.8013\n"
     ]
    }
   ],
   "source": [
    "accuracy = accuracy_score(y_test, y_pred)\n",
    "print(\"Accuracy:\", accuracy)"
   ]
  },
  {
   "cell_type": "code",
   "execution_count": 73,
   "id": "823d0777",
   "metadata": {},
   "outputs": [
    {
     "name": "stdout",
     "output_type": "stream",
     "text": [
      "              precision    recall  f1-score   support\n",
      "\n",
      "          -1       0.83      0.82      0.83     18797\n",
      "           0       0.76      0.80      0.78     11818\n",
      "           1       0.80      0.76      0.78      9385\n",
      "\n",
      "    accuracy                           0.80     40000\n",
      "   macro avg       0.80      0.79      0.79     40000\n",
      "weighted avg       0.80      0.80      0.80     40000\n",
      "\n"
     ]
    }
   ],
   "source": [
    "print(classification_report(y_test, y_pred))"
   ]
  },
  {
   "cell_type": "code",
   "execution_count": null,
   "id": "34cdfee8",
   "metadata": {},
   "outputs": [],
   "source": []
  }
 ],
 "metadata": {
  "kernelspec": {
   "display_name": "Python 3 (ipykernel)",
   "language": "python",
   "name": "python3"
  },
  "language_info": {
   "codemirror_mode": {
    "name": "ipython",
    "version": 3
   },
   "file_extension": ".py",
   "mimetype": "text/x-python",
   "name": "python",
   "nbconvert_exporter": "python",
   "pygments_lexer": "ipython3",
   "version": "3.7.17"
  }
 },
 "nbformat": 4,
 "nbformat_minor": 5
}
