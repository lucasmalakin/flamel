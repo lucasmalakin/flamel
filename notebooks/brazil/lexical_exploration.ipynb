{
 "cells": [
  {
   "cell_type": "markdown",
   "id": "0ac52a31",
   "metadata": {},
   "source": [
    "### This Notebooks contains lexical exploration"
   ]
  },
  {
   "cell_type": "code",
   "execution_count": 1,
   "id": "11131bd8",
   "metadata": {},
   "outputs": [
    {
     "name": "stdout",
     "output_type": "stream",
     "text": [
      "Collecting emoji\n",
      "  Downloading emoji-2.8.0-py2.py3-none-any.whl (358 kB)\n",
      "\u001b[2K     \u001b[90m━━━━━━━━━━━━━━━━━━━━━━━━━━━━━━━━━━━━━━━\u001b[0m \u001b[32m358.9/358.9 kB\u001b[0m \u001b[31m5.2 MB/s\u001b[0m eta \u001b[36m0:00:00\u001b[0ma \u001b[36m0:00:01\u001b[0m\n",
      "\u001b[?25hInstalling collected packages: emoji\n",
      "Successfully installed emoji-2.8.0\n",
      "\u001b[33mWARNING: Running pip as the 'root' user can result in broken permissions and conflicting behaviour with the system package manager. It is recommended to use a virtual environment instead: https://pip.pypa.io/warnings/venv\u001b[0m\u001b[33m\n",
      "\u001b[0m\n",
      "\u001b[1m[\u001b[0m\u001b[34;49mnotice\u001b[0m\u001b[1;39;49m]\u001b[0m\u001b[39;49m A new release of pip is available: \u001b[0m\u001b[31;49m23.0.1\u001b[0m\u001b[39;49m -> \u001b[0m\u001b[32;49m23.2.1\u001b[0m\n",
      "\u001b[1m[\u001b[0m\u001b[34;49mnotice\u001b[0m\u001b[1;39;49m]\u001b[0m\u001b[39;49m To update, run: \u001b[0m\u001b[32;49mpip install --upgrade pip\u001b[0m\n",
      "Collecting emosent-py\n",
      "  Downloading emosent_py-0.1.7-py3-none-any.whl (29 kB)\n",
      "Installing collected packages: emosent-py\n",
      "Successfully installed emosent-py-0.1.7\n",
      "\u001b[33mWARNING: Running pip as the 'root' user can result in broken permissions and conflicting behaviour with the system package manager. It is recommended to use a virtual environment instead: https://pip.pypa.io/warnings/venv\u001b[0m\u001b[33m\n",
      "\u001b[0m\n",
      "\u001b[1m[\u001b[0m\u001b[34;49mnotice\u001b[0m\u001b[1;39;49m]\u001b[0m\u001b[39;49m A new release of pip is available: \u001b[0m\u001b[31;49m23.0.1\u001b[0m\u001b[39;49m -> \u001b[0m\u001b[32;49m23.2.1\u001b[0m\n",
      "\u001b[1m[\u001b[0m\u001b[34;49mnotice\u001b[0m\u001b[1;39;49m]\u001b[0m\u001b[39;49m To update, run: \u001b[0m\u001b[32;49mpip install --upgrade pip\u001b[0m\n"
     ]
    }
   ],
   "source": [
    "!pip install emoji\n",
    "!pip install emosent-py"
   ]
  },
  {
   "cell_type": "markdown",
   "id": "e5212c1a",
   "metadata": {},
   "source": [
    "#### Loading Libs"
   ]
  },
  {
   "cell_type": "code",
   "execution_count": 2,
   "id": "f1e7e8c9",
   "metadata": {},
   "outputs": [],
   "source": [
    "import sys\n",
    "sys.path.append(\"../libs/leia/\")\n",
    "from leia import SentimentIntensityAnalyzer\n",
    "import pandas as pd\n",
    "import emoji\n",
    "from emosent import get_emoji_sentiment_rank\n",
    "from datetime import datetime"
   ]
  },
  {
   "cell_type": "markdown",
   "id": "8b5c23e2",
   "metadata": {},
   "source": [
    "#### Loading Classifiers"
   ]
  },
  {
   "cell_type": "code",
   "execution_count": 3,
   "id": "dee7962e",
   "metadata": {},
   "outputs": [],
   "source": [
    "leia_classifier = SentimentIntensityAnalyzer()"
   ]
  },
  {
   "cell_type": "markdown",
   "id": "b65fc53f",
   "metadata": {},
   "source": [
    "#### Custom functions"
   ]
  },
  {
   "cell_type": "code",
   "execution_count": 4,
   "id": "eb105f26",
   "metadata": {},
   "outputs": [],
   "source": [
    "def remove_duplicate_emoji(orig_str):\n",
    "    prev_emoji = None\n",
    "    remove_duplicate_emoji = []\n",
    "    try:\n",
    "        for c in orig_str:\n",
    "            if c in emoji.EMOJI_DATA.keys():\n",
    "                if prev_emoji == c:\n",
    "                    continue\n",
    "                prev_emoji = c\n",
    "            remove_duplicate_emoji.append(c)\n",
    "        return \"\".join(remove_duplicate_emoji)\n",
    "    except:\n",
    "        return orig_str\n",
    "\n",
    "def check_emoji_sentiment(orig_str):\n",
    "    neg = 0\n",
    "    neu = 0\n",
    "    pos = 0\n",
    "    \n",
    "    try:\n",
    "        emoji_list = emoji.distinct_emoji_list(orig_str)\n",
    "        if len(emoji_list) > 0:\n",
    "            for item in emoji_list:\n",
    "                \n",
    "                try:\n",
    "                    sentiment_rank = get_emoji_sentiment_rank(item)\n",
    "                    neg += sentiment_rank['negative']\n",
    "                    neu += sentiment_rank['neutral']\n",
    "                    pos += sentiment_rank['positive']\n",
    "                \n",
    "                except:\n",
    "                    pass\n",
    "        \n",
    "        tot = neg + neu + pos \n",
    "        \n",
    "        return {\n",
    "            'neg': round(neg/tot,3),\n",
    "            'neu': round(neu/tot,3),\n",
    "            'pos': round(pos/tot,3)\n",
    "        }\n",
    "    \n",
    "    except:\n",
    "        return {\n",
    "            'neg': round(neg,3),\n",
    "            'neu': round(neu,3),\n",
    "            'pos': round(pos,3)\n",
    "        }\n",
    "\n",
    "def check_text_sentiment(orig_str):\n",
    "    orig_str_without_emoji =  emoji.replace_emoji(remove_duplicate_emoji(orig_str), replace='')\n",
    "    sentiment_polarity = leia_classifier.polarity_scores(orig_str_without_emoji)\n",
    "    \n",
    "    return {\n",
    "            'neg': sentiment_polarity['neg'],\n",
    "            'neu': sentiment_polarity['neu'],\n",
    "            'pos': sentiment_polarity['pos']\n",
    "    }\n",
    "\n",
    "def compound_sentiment(text_sentiment, emoji_sentiment):\n",
    "    compound = {\n",
    "        'neg': 0,\n",
    "        'neu': 0,\n",
    "        'pos': 0\n",
    "    }\n",
    "    tot = 0\n",
    "    for kind in compound.keys():\n",
    "        compound[kind] = text_sentiment[kind] + emoji_sentiment[kind]\n",
    "        tot += compound[kind]\n",
    "    return {k: round(v / tot,3) for k, v in compound.items()}"
   ]
  },
  {
   "cell_type": "code",
   "execution_count": 5,
   "id": "930178fe",
   "metadata": {},
   "outputs": [],
   "source": [
    "df_tweets = pd.read_csv('../src/application/data/tweets_brazil.csv', sep=',')"
   ]
  },
  {
   "cell_type": "markdown",
   "id": "bdddc1c7",
   "metadata": {},
   "source": [
    "#### Pre-processing"
   ]
  },
  {
   "cell_type": "markdown",
   "id": "a0190421",
   "metadata": {},
   "source": [
    "Removing excessive `emojis`"
   ]
  },
  {
   "cell_type": "code",
   "execution_count": 6,
   "id": "127ce691",
   "metadata": {},
   "outputs": [],
   "source": [
    "df_tweets['text'] = df_tweets['text'].apply(lambda x: remove_duplicate_emoji(x))"
   ]
  },
  {
   "cell_type": "markdown",
   "id": "0b68a2ce",
   "metadata": {},
   "source": [
    "Splitting sentiment between `emojis` and `text`"
   ]
  },
  {
   "cell_type": "markdown",
   "id": "3d649875",
   "metadata": {},
   "source": [
    "`emoji`"
   ]
  },
  {
   "cell_type": "code",
   "execution_count": 7,
   "id": "fb3dbab3",
   "metadata": {},
   "outputs": [],
   "source": [
    "df_tweets['emojis_sentiment'] = df_tweets['text'].apply(\n",
    "    lambda x: check_emoji_sentiment(str(x))\n",
    ")"
   ]
  },
  {
   "cell_type": "markdown",
   "id": "e8af6037",
   "metadata": {},
   "source": [
    "`text`"
   ]
  },
  {
   "cell_type": "code",
   "execution_count": 8,
   "id": "bd856598",
   "metadata": {},
   "outputs": [],
   "source": [
    "df_tweets['text_sentiment'] = df_tweets['text'].apply(\n",
    "    lambda x: check_text_sentiment(str(x))\n",
    ")"
   ]
  },
  {
   "cell_type": "markdown",
   "id": "e762b641",
   "metadata": {},
   "source": [
    "`compound`"
   ]
  },
  {
   "cell_type": "code",
   "execution_count": 9,
   "id": "37fe69a6",
   "metadata": {},
   "outputs": [],
   "source": [
    "df_tweets['compound'] = df_tweets.apply(\n",
    "    lambda x: compound_sentiment(x['text_sentiment'], x['emojis_sentiment']), axis=1\n",
    ")"
   ]
  },
  {
   "cell_type": "markdown",
   "id": "87bd26e9",
   "metadata": {},
   "source": [
    "#### Split data between `neutral` and `lex_on=neg/pos`"
   ]
  },
  {
   "cell_type": "code",
   "execution_count": 10,
   "id": "f55d96ba",
   "metadata": {},
   "outputs": [],
   "source": [
    "df_tweets['neutral'] = df_tweets.apply(\n",
    "    lambda x: True if x['compound'] == {'neg': 0.0, 'neu': 1.0, 'pos': 0.0} else False, axis=1\n",
    ")"
   ]
  },
  {
   "cell_type": "markdown",
   "id": "803612d2",
   "metadata": {},
   "source": [
    "Proportion"
   ]
  },
  {
   "cell_type": "code",
   "execution_count": 11,
   "id": "c289f7ca",
   "metadata": {},
   "outputs": [
    {
     "name": "stderr",
     "output_type": "stream",
     "text": [
      "26 | INFO | generated new fontManager\n"
     ]
    },
    {
     "data": {
      "text/plain": [
       "<AxesSubplot:ylabel='neutral'>"
      ]
     },
     "execution_count": 11,
     "metadata": {},
     "output_type": "execute_result"
    },
    {
     "data": {
      "image/png": "[encoded data removed]",
      "text/plain": [
       "<Figure size 500x500 with 1 Axes>"
      ]
     },
     "metadata": {},
     "output_type": "display_data"
    }
   ],
   "source": [
    "df_tweets.groupby(['neutral'])['neutral'].count().plot.pie(y='neutral', autopct='%1.0f%%', figsize=(5, 5))"
   ]
  },
  {
   "cell_type": "markdown",
   "id": "b396a33a",
   "metadata": {},
   "source": [
    "`neutral`"
   ]
  },
  {
   "cell_type": "code",
   "execution_count": 12,
   "id": "d706a9b0",
   "metadata": {},
   "outputs": [],
   "source": [
    "df_neutral = df_tweets[df_tweets['neutral'] == True].reset_index(drop=True).copy()"
   ]
  },
  {
   "cell_type": "markdown",
   "id": "e568ef13",
   "metadata": {},
   "source": [
    "`lex_on`"
   ]
  },
  {
   "cell_type": "code",
   "execution_count": 13,
   "id": "7a68cba6",
   "metadata": {},
   "outputs": [],
   "source": [
    "df_lex = df_tweets[df_tweets['neutral'] == False].reset_index(drop=True).copy()"
   ]
  },
  {
   "cell_type": "markdown",
   "id": "b0d9e59e",
   "metadata": {},
   "source": [
    "`polarity`"
   ]
  },
  {
   "cell_type": "code",
   "execution_count": 14,
   "id": "0ceee16f",
   "metadata": {},
   "outputs": [],
   "source": [
    "df_lex['polarity'] = df_lex.apply(\n",
    "    lambda x: \"pos\" if x['compound']['pos'] >= x['compound']['neg'] else \"neg\", axis=1\n",
    ")"
   ]
  },
  {
   "cell_type": "code",
   "execution_count": 15,
   "id": "542b27c5",
   "metadata": {
    "scrolled": true
   },
   "outputs": [
    {
     "data": {
      "text/plain": [
       "<AxesSubplot:ylabel='polarity'>"
      ]
     },
     "execution_count": 15,
     "metadata": {},
     "output_type": "execute_result"
    },
    {
     "data": {
      "image/png": "[encoded data removed]",
      "text/plain": [
       "<Figure size 500x500 with 1 Axes>"
      ]
     },
     "metadata": {},
     "output_type": "display_data"
    }
   ],
   "source": [
    "df_lex.groupby(['polarity'])['polarity'].count().plot.pie(y='polarity', autopct='%1.0f%%', figsize=(5, 5))"
   ]
  },
  {
   "cell_type": "markdown",
   "id": "c990aed5",
   "metadata": {},
   "source": [
    "Creating `date`"
   ]
  },
  {
   "cell_type": "code",
   "execution_count": 16,
   "id": "fcece2cb",
   "metadata": {},
   "outputs": [],
   "source": [
    "df_lex['year'] = df_lex['created_at'].apply(\n",
    "    lambda x: datetime.strptime(x, '%Y-%m-%d %H:%M:%S').strftime('%Y') if isinstance(x, str) else 0\n",
    ")"
   ]
  },
  {
   "cell_type": "code",
   "execution_count": 17,
   "id": "8677fff5",
   "metadata": {},
   "outputs": [],
   "source": [
    "df_lex['month'] = df_lex['created_at'].apply(\n",
    "    lambda x: datetime.strptime(x, '%Y-%m-%d %H:%M:%S').strftime('%m') if isinstance(x, str) else 0\n",
    ")"
   ]
  },
  {
   "cell_type": "code",
   "execution_count": 18,
   "id": "96a7dfd3",
   "metadata": {},
   "outputs": [],
   "source": [
    "df = df_lex.groupby(['year', 'month', 'polarity'])['polarity'].agg(['count'])[1:].unstack('polarity').reset_index()"
   ]
  },
  {
   "cell_type": "code",
   "execution_count": 19,
   "id": "3853c32e",
   "metadata": {},
   "outputs": [],
   "source": [
    "df.columns = ['year', 'month', 'neg', 'pos']"
   ]
  },
  {
   "cell_type": "code",
   "execution_count": 20,
   "id": "b9293d6e",
   "metadata": {},
   "outputs": [],
   "source": [
    "df[['neg', 'pos']] = df[['neg', 'pos']].divide(df[['neg', 'pos']].sum(axis=1), axis=0).fillna(0)[1:]"
   ]
  },
  {
   "cell_type": "code",
   "execution_count": 21,
   "id": "637218e5",
   "metadata": {},
   "outputs": [],
   "source": [
    "df = df.fillna(0)[1:]"
   ]
  },
  {
   "cell_type": "code",
   "execution_count": 22,
   "id": "9ecd2e15",
   "metadata": {},
   "outputs": [
    {
     "data": {
      "image/png": "[encoded data removed]",
      "text/plain": [
       "<Figure size 3200x900 with 1 Axes>"
      ]
     },
     "metadata": {},
     "output_type": "display_data"
    }
   ],
   "source": [
    "import numpy as np\n",
    "import matplotlib.pyplot as plt\n",
    "import seaborn as sns\n",
    "import pandas as pd\n",
    "\n",
    "plt.rcParams['figure.figsize'] = [32, 9]\n",
    "plt.stackplot(df.index,  df[\"neg\"],  df[\"pos\"], labels=['neg','pos'])\n",
    "plt.legend(loc='upper left')\n",
    "plt.margins(0,0)\n",
    "plt.title('100 % stacked area chart')\n",
    "plt.xticks(rotation=90)\n",
    "plt.show()"
   ]
  },
  {
   "cell_type": "markdown",
   "id": "73cbf03d",
   "metadata": {},
   "source": [
    "Collecting `10`most `negative`"
   ]
  },
  {
   "cell_type": "code",
   "execution_count": 23,
   "id": "cf58e3b0",
   "metadata": {},
   "outputs": [],
   "source": [
    "df_lex['neg_value'] = df_lex.apply(\n",
    "    lambda x: x['compound']['neg'], axis=1\n",
    ")"
   ]
  },
  {
   "cell_type": "code",
   "execution_count": 24,
   "id": "d01f9887",
   "metadata": {},
   "outputs": [
    {
     "data": {
      "text/html": [
       "<div>\n",
       "<style scoped>\n",
       "    .dataframe tbody tr th:only-of-type {\n",
       "        vertical-align: middle;\n",
       "    }\n",
       "\n",
       "    .dataframe tbody tr th {\n",
       "        vertical-align: top;\n",
       "    }\n",
       "\n",
       "    .dataframe thead th {\n",
       "        text-align: right;\n",
       "    }\n",
       "</style>\n",
       "<table border=\"1\" class=\"dataframe\">\n",
       "  <thead>\n",
       "    <tr style=\"text-align: right;\">\n",
       "      <th></th>\n",
       "      <th>text</th>\n",
       "      <th>neg_value</th>\n",
       "    </tr>\n",
       "  </thead>\n",
       "  <tbody>\n",
       "    <tr>\n",
       "      <th>325762</th>\n",
       "      <td>Ódio ódio ódio ódio ódio ódio ódio vírus idiota</td>\n",
       "      <td>0.970</td>\n",
       "    </tr>\n",
       "    <tr>\n",
       "      <th>325458</th>\n",
       "      <td>Ódio ódio ódio ódio ódio ódio ódio vírus idiota</td>\n",
       "      <td>0.970</td>\n",
       "    </tr>\n",
       "    <tr>\n",
       "      <th>203160</th>\n",
       "      <td>CORONA VÍRUS O MEU OVO...\\n\\nBLÁ BLÁ BLÁ BLÁ B...</td>\n",
       "      <td>0.932</td>\n",
       "    </tr>\n",
       "    <tr>\n",
       "      <th>143681</th>\n",
       "      <td>@Corona_Bot__ aí não pô :(</td>\n",
       "      <td>0.920</td>\n",
       "    </tr>\n",
       "    <tr>\n",
       "      <th>144019</th>\n",
       "      <td>@Corona_Bot__ aí não pô :(</td>\n",
       "      <td>0.920</td>\n",
       "    </tr>\n",
       "    <tr>\n",
       "      <th>...</th>\n",
       "      <td>...</td>\n",
       "      <td>...</td>\n",
       "    </tr>\n",
       "    <tr>\n",
       "      <th>1010958</th>\n",
       "      <td>@LiaDeSousa1 Se ele fosse teu pai o Brasil est...</td>\n",
       "      <td>0.000</td>\n",
       "    </tr>\n",
       "    <tr>\n",
       "      <th>1010959</th>\n",
       "      <td>Comece a semana celebrando  e agradecendo.  \\n...</td>\n",
       "      <td>0.000</td>\n",
       "    </tr>\n",
       "    <tr>\n",
       "      <th>701724</th>\n",
       "      <td>Comecei a rir no escritório só ouvi \"iiih já c...</td>\n",
       "      <td>0.000</td>\n",
       "    </tr>\n",
       "    <tr>\n",
       "      <th>294402</th>\n",
       "      <td>amostra grátis de foto do pé por causa do coro...</td>\n",
       "      <td>0.000</td>\n",
       "    </tr>\n",
       "    <tr>\n",
       "      <th>121973</th>\n",
       "      <td>Caralho, quase uma exponencial perfeita.\\nOs p...</td>\n",
       "      <td>0.000</td>\n",
       "    </tr>\n",
       "  </tbody>\n",
       "</table>\n",
       "<p>1195386 rows × 2 columns</p>\n",
       "</div>"
      ],
      "text/plain": [
       "                                                      text  neg_value\n",
       "325762     Ódio ódio ódio ódio ódio ódio ódio vírus idiota      0.970\n",
       "325458     Ódio ódio ódio ódio ódio ódio ódio vírus idiota      0.970\n",
       "203160   CORONA VÍRUS O MEU OVO...\\n\\nBLÁ BLÁ BLÁ BLÁ B...      0.932\n",
       "143681                          @Corona_Bot__ aí não pô :(      0.920\n",
       "144019                          @Corona_Bot__ aí não pô :(      0.920\n",
       "...                                                    ...        ...\n",
       "1010958  @LiaDeSousa1 Se ele fosse teu pai o Brasil est...      0.000\n",
       "1010959  Comece a semana celebrando  e agradecendo.  \\n...      0.000\n",
       "701724   Comecei a rir no escritório só ouvi \"iiih já c...      0.000\n",
       "294402   amostra grátis de foto do pé por causa do coro...      0.000\n",
       "121973   Caralho, quase uma exponencial perfeita.\\nOs p...      0.000\n",
       "\n",
       "[1195386 rows x 2 columns]"
      ]
     },
     "execution_count": 24,
     "metadata": {},
     "output_type": "execute_result"
    }
   ],
   "source": [
    "df_lex[['text', 'neg_value']].sort_values(by='neg_value', ascending=False)"
   ]
  },
  {
   "cell_type": "code",
   "execution_count": 25,
   "id": "b69cf1ab",
   "metadata": {
    "scrolled": true
   },
   "outputs": [
    {
     "data": {
      "text/html": [
       "<div>\n",
       "<style scoped>\n",
       "    .dataframe tbody tr th:only-of-type {\n",
       "        vertical-align: middle;\n",
       "    }\n",
       "\n",
       "    .dataframe tbody tr th {\n",
       "        vertical-align: top;\n",
       "    }\n",
       "\n",
       "    .dataframe thead th {\n",
       "        text-align: right;\n",
       "    }\n",
       "</style>\n",
       "<table border=\"1\" class=\"dataframe\">\n",
       "  <thead>\n",
       "    <tr style=\"text-align: right;\">\n",
       "      <th></th>\n",
       "      <th>text</th>\n",
       "      <th>author_id</th>\n",
       "      <th>conversation_id</th>\n",
       "      <th>created_at</th>\n",
       "      <th>source</th>\n",
       "      <th>tweet_id</th>\n",
       "      <th>geo_id</th>\n",
       "      <th>retweet_count</th>\n",
       "      <th>reply_count</th>\n",
       "      <th>like_count</th>\n",
       "      <th>quote_count</th>\n",
       "      <th>in_reply_to_user_id</th>\n",
       "      <th>referenced_type</th>\n",
       "      <th>referenced_id</th>\n",
       "      <th>emojis_sentiment</th>\n",
       "      <th>text_sentiment</th>\n",
       "      <th>compound</th>\n",
       "      <th>neutral</th>\n",
       "    </tr>\n",
       "  </thead>\n",
       "  <tbody>\n",
       "    <tr>\n",
       "      <th>0</th>\n",
       "      <td>no gente cês parece retardado de querer saber ...</td>\n",
       "      <td>2.800738e+09</td>\n",
       "      <td>1.168307e+18</td>\n",
       "      <td>2019-09-01 23:38:37</td>\n",
       "      <td>Twitter for Android</td>\n",
       "      <td>1.168307e+18</td>\n",
       "      <td>d9d978b087a92583</td>\n",
       "      <td>0.0</td>\n",
       "      <td>1.0</td>\n",
       "      <td>3.0</td>\n",
       "      <td>0.0</td>\n",
       "      <td>NaN</td>\n",
       "      <td>NaN</td>\n",
       "      <td>NaN</td>\n",
       "      <td>{'neg': 0, 'neu': 0, 'pos': 0}</td>\n",
       "      <td>{'neg': 0.247, 'neu': 0.753, 'pos': 0.0}</td>\n",
       "      <td>{'neg': 0.247, 'neu': 0.753, 'pos': 0.0}</td>\n",
       "      <td>False</td>\n",
       "    </tr>\n",
       "    <tr>\n",
       "      <th>1</th>\n",
       "      <td>q vírus é esse vei 🤬😡</td>\n",
       "      <td>1.010376e+18</td>\n",
       "      <td>1.168306e+18</td>\n",
       "      <td>2019-09-01 23:35:29</td>\n",
       "      <td>Twitter for Android</td>\n",
       "      <td>1.168306e+18</td>\n",
       "      <td>d9d978b087a92583</td>\n",
       "      <td>2.0</td>\n",
       "      <td>0.0</td>\n",
       "      <td>1.0</td>\n",
       "      <td>0.0</td>\n",
       "      <td>NaN</td>\n",
       "      <td>NaN</td>\n",
       "      <td>NaN</td>\n",
       "      <td>{'neg': 0.533, 'neu': 0.107, 'pos': 0.36}</td>\n",
       "      <td>{'neg': 0.0, 'neu': 1.0, 'pos': 0.0}</td>\n",
       "      <td>{'neg': 0.267, 'neu': 0.553, 'pos': 0.18}</td>\n",
       "      <td>False</td>\n",
       "    </tr>\n",
       "    <tr>\n",
       "      <th>2</th>\n",
       "      <td>n posso toma duas corona q já fico feliz credo</td>\n",
       "      <td>2.969021e+09</td>\n",
       "      <td>1.168304e+18</td>\n",
       "      <td>2019-09-01 23:26:26</td>\n",
       "      <td>Twitter for Android</td>\n",
       "      <td>1.168304e+18</td>\n",
       "      <td>5722ff20ba67083b</td>\n",
       "      <td>0.0</td>\n",
       "      <td>2.0</td>\n",
       "      <td>1.0</td>\n",
       "      <td>0.0</td>\n",
       "      <td>NaN</td>\n",
       "      <td>NaN</td>\n",
       "      <td>NaN</td>\n",
       "      <td>{'neg': 0, 'neu': 0, 'pos': 0}</td>\n",
       "      <td>{'neg': 0.0, 'neu': 0.631, 'pos': 0.369}</td>\n",
       "      <td>{'neg': 0.0, 'neu': 0.631, 'pos': 0.369}</td>\n",
       "      <td>False</td>\n",
       "    </tr>\n",
       "    <tr>\n",
       "      <th>3</th>\n",
       "      <td>era só uma corona geladinha agora poxa vida</td>\n",
       "      <td>6.329194e+07</td>\n",
       "      <td>1.168300e+18</td>\n",
       "      <td>2019-09-01 23:08:58</td>\n",
       "      <td>Twitter for Android</td>\n",
       "      <td>1.168300e+18</td>\n",
       "      <td>3b5c5c9c62f7c538</td>\n",
       "      <td>0.0</td>\n",
       "      <td>1.0</td>\n",
       "      <td>1.0</td>\n",
       "      <td>0.0</td>\n",
       "      <td>NaN</td>\n",
       "      <td>NaN</td>\n",
       "      <td>NaN</td>\n",
       "      <td>{'neg': 0, 'neu': 0, 'pos': 0}</td>\n",
       "      <td>{'neg': 0.0, 'neu': 1.0, 'pos': 0.0}</td>\n",
       "      <td>{'neg': 0.0, 'neu': 1.0, 'pos': 0.0}</td>\n",
       "      <td>True</td>\n",
       "    </tr>\n",
       "    <tr>\n",
       "      <th>4</th>\n",
       "      <td>@SuavinBrito To bebendo corona de leve brota</td>\n",
       "      <td>1.610376e+08</td>\n",
       "      <td>1.168298e+18</td>\n",
       "      <td>2019-09-01 23:04:25</td>\n",
       "      <td>Twitter for Android</td>\n",
       "      <td>1.168299e+18</td>\n",
       "      <td>97bcdfca1a2dca59</td>\n",
       "      <td>1.0</td>\n",
       "      <td>1.0</td>\n",
       "      <td>1.0</td>\n",
       "      <td>0.0</td>\n",
       "      <td>3.431821e+09</td>\n",
       "      <td>replied_to</td>\n",
       "      <td>1.168298e+18</td>\n",
       "      <td>{'neg': 0, 'neu': 0, 'pos': 0}</td>\n",
       "      <td>{'neg': 0.0, 'neu': 1.0, 'pos': 0.0}</td>\n",
       "      <td>{'neg': 0.0, 'neu': 1.0, 'pos': 0.0}</td>\n",
       "      <td>True</td>\n",
       "    </tr>\n",
       "  </tbody>\n",
       "</table>\n",
       "</div>"
      ],
      "text/plain": [
       "                                                text     author_id  \\\n",
       "0  no gente cês parece retardado de querer saber ...  2.800738e+09   \n",
       "1                              q vírus é esse vei 🤬😡  1.010376e+18   \n",
       "2     n posso toma duas corona q já fico feliz credo  2.969021e+09   \n",
       "3        era só uma corona geladinha agora poxa vida  6.329194e+07   \n",
       "4       @SuavinBrito To bebendo corona de leve brota  1.610376e+08   \n",
       "\n",
       "   conversation_id           created_at               source      tweet_id  \\\n",
       "0     1.168307e+18  2019-09-01 23:38:37  Twitter for Android  1.168307e+18   \n",
       "1     1.168306e+18  2019-09-01 23:35:29  Twitter for Android  1.168306e+18   \n",
       "2     1.168304e+18  2019-09-01 23:26:26  Twitter for Android  1.168304e+18   \n",
       "3     1.168300e+18  2019-09-01 23:08:58  Twitter for Android  1.168300e+18   \n",
       "4     1.168298e+18  2019-09-01 23:04:25  Twitter for Android  1.168299e+18   \n",
       "\n",
       "             geo_id  retweet_count  reply_count  like_count  quote_count  \\\n",
       "0  d9d978b087a92583            0.0          1.0         3.0          0.0   \n",
       "1  d9d978b087a92583            2.0          0.0         1.0          0.0   \n",
       "2  5722ff20ba67083b            0.0          2.0         1.0          0.0   \n",
       "3  3b5c5c9c62f7c538            0.0          1.0         1.0          0.0   \n",
       "4  97bcdfca1a2dca59            1.0          1.0         1.0          0.0   \n",
       "\n",
       "   in_reply_to_user_id referenced_type  referenced_id  \\\n",
       "0                  NaN             NaN            NaN   \n",
       "1                  NaN             NaN            NaN   \n",
       "2                  NaN             NaN            NaN   \n",
       "3                  NaN             NaN            NaN   \n",
       "4         3.431821e+09      replied_to   1.168298e+18   \n",
       "\n",
       "                            emojis_sentiment  \\\n",
       "0             {'neg': 0, 'neu': 0, 'pos': 0}   \n",
       "1  {'neg': 0.533, 'neu': 0.107, 'pos': 0.36}   \n",
       "2             {'neg': 0, 'neu': 0, 'pos': 0}   \n",
       "3             {'neg': 0, 'neu': 0, 'pos': 0}   \n",
       "4             {'neg': 0, 'neu': 0, 'pos': 0}   \n",
       "\n",
       "                             text_sentiment  \\\n",
       "0  {'neg': 0.247, 'neu': 0.753, 'pos': 0.0}   \n",
       "1      {'neg': 0.0, 'neu': 1.0, 'pos': 0.0}   \n",
       "2  {'neg': 0.0, 'neu': 0.631, 'pos': 0.369}   \n",
       "3      {'neg': 0.0, 'neu': 1.0, 'pos': 0.0}   \n",
       "4      {'neg': 0.0, 'neu': 1.0, 'pos': 0.0}   \n",
       "\n",
       "                                    compound  neutral  \n",
       "0   {'neg': 0.247, 'neu': 0.753, 'pos': 0.0}    False  \n",
       "1  {'neg': 0.267, 'neu': 0.553, 'pos': 0.18}    False  \n",
       "2   {'neg': 0.0, 'neu': 0.631, 'pos': 0.369}    False  \n",
       "3       {'neg': 0.0, 'neu': 1.0, 'pos': 0.0}     True  \n",
       "4       {'neg': 0.0, 'neu': 1.0, 'pos': 0.0}     True  "
      ]
     },
     "execution_count": 25,
     "metadata": {},
     "output_type": "execute_result"
    }
   ],
   "source": [
    "df_tweets.head()"
   ]
  },
  {
   "cell_type": "code",
   "execution_count": null,
   "id": "f242eeef",
   "metadata": {},
   "outputs": [],
   "source": []
  }
 ],
 "metadata": {
  "kernelspec": {
   "display_name": "Python 3 (ipykernel)",
   "language": "python",
   "name": "python3"
  },
  "language_info": {
   "codemirror_mode": {
    "name": "ipython",
    "version": 3
   },
   "file_extension": ".py",
   "mimetype": "text/x-python",
   "name": "python",
   "nbconvert_exporter": "python",
   "pygments_lexer": "ipython3",
   "version": "3.7.17"
  }
 },
 "nbformat": 4,
 "nbformat_minor": 5
}
