{
 "cells": [
  {
   "cell_type": "code",
   "execution_count": 1,
   "id": "8c9626ee",
   "metadata": {},
   "outputs": [
    {
     "name": "stdout",
     "output_type": "stream",
     "text": [
      "Collecting emoji\n",
      "  Downloading emoji-2.8.0-py2.py3-none-any.whl (358 kB)\n",
      "\u001b[2K     \u001b[90m━━━━━━━━━━━━━━━━━━━━━━━━━━━━━━━━━━━━━━━\u001b[0m \u001b[32m358.9/358.9 kB\u001b[0m \u001b[31m8.8 MB/s\u001b[0m eta \u001b[36m0:00:00\u001b[0m00:01\u001b[0m\n",
      "\u001b[?25hInstalling collected packages: emoji\n",
      "Successfully installed emoji-2.8.0\n",
      "\u001b[33mWARNING: Running pip as the 'root' user can result in broken permissions and conflicting behaviour with the system package manager. It is recommended to use a virtual environment instead: https://pip.pypa.io/warnings/venv\u001b[0m\u001b[33m\n",
      "\u001b[0m\n",
      "\u001b[1m[\u001b[0m\u001b[34;49mnotice\u001b[0m\u001b[1;39;49m]\u001b[0m\u001b[39;49m A new release of pip is available: \u001b[0m\u001b[31;49m23.0.1\u001b[0m\u001b[39;49m -> \u001b[0m\u001b[32;49m23.3.1\u001b[0m\n",
      "\u001b[1m[\u001b[0m\u001b[34;49mnotice\u001b[0m\u001b[1;39;49m]\u001b[0m\u001b[39;49m To update, run: \u001b[0m\u001b[32;49mpip install --upgrade pip\u001b[0m\n"
     ]
    }
   ],
   "source": [
    "!pip install emoji"
   ]
  },
  {
   "cell_type": "code",
   "execution_count": 2,
   "id": "8bca4d74",
   "metadata": {},
   "outputs": [],
   "source": [
    "import re\n",
    "import numpy as np\n",
    "import pandas as pd"
   ]
  },
  {
   "cell_type": "code",
   "execution_count": 3,
   "id": "43b1286b",
   "metadata": {},
   "outputs": [
    {
     "data": {
      "text/html": [
       "<div>\n",
       "<style scoped>\n",
       "    .dataframe tbody tr th:only-of-type {\n",
       "        vertical-align: middle;\n",
       "    }\n",
       "\n",
       "    .dataframe tbody tr th {\n",
       "        vertical-align: top;\n",
       "    }\n",
       "\n",
       "    .dataframe thead th {\n",
       "        text-align: right;\n",
       "    }\n",
       "</style>\n",
       "<table border=\"1\" class=\"dataframe\">\n",
       "  <thead>\n",
       "    <tr style=\"text-align: right;\">\n",
       "      <th></th>\n",
       "      <th>created_at</th>\n",
       "      <th>text</th>\n",
       "      <th>sentiment</th>\n",
       "      <th>normalized_text_stemm_emoji</th>\n",
       "    </tr>\n",
       "  </thead>\n",
       "  <tbody>\n",
       "    <tr>\n",
       "      <th>0</th>\n",
       "      <td>2021-07-04 22:17:21</td>\n",
       "      <td>RT @emirsader: Após ficar em silêncio na CPI d...</td>\n",
       "      <td>Positivo</td>\n",
       "      <td>[após, fic, silênci, cpi, carl, wizard, retorn...</td>\n",
       "    </tr>\n",
       "    <tr>\n",
       "      <th>1</th>\n",
       "      <td>2019-11-30 14:35:33</td>\n",
       "      <td>RT @VittorGuidoni: para de lamber fone de ouvi...</td>\n",
       "      <td>Negativo</td>\n",
       "      <td>[lamb, fon, ouv, list, doenç, transmiss, oral,...</td>\n",
       "    </tr>\n",
       "    <tr>\n",
       "      <th>2</th>\n",
       "      <td>2022-01-11 12:12:28</td>\n",
       "      <td>@exposed_exposer @CarlaZambelli38 @andrizek De...</td>\n",
       "      <td>Negativo</td>\n",
       "      <td>[defin, vacin, tip, subst, bactér, introduz, c...</td>\n",
       "    </tr>\n",
       "    <tr>\n",
       "      <th>3</th>\n",
       "      <td>2019-11-19 14:52:06</td>\n",
       "      <td>RT @canaltech: Por que o iPhone é mais seguro ...</td>\n",
       "      <td>Positivo</td>\n",
       "      <td>[iphon, segur, contr, ]</td>\n",
       "    </tr>\n",
       "    <tr>\n",
       "      <th>4</th>\n",
       "      <td>2021-12-28 23:09:10</td>\n",
       "      <td>RT @mariareinhardtt: covid tá a estragar compl...</td>\n",
       "      <td>Negativo</td>\n",
       "      <td>[estrag, complet, tud, ]</td>\n",
       "    </tr>\n",
       "  </tbody>\n",
       "</table>\n",
       "</div>"
      ],
      "text/plain": [
       "            created_at                                               text  \\\n",
       "0  2021-07-04 22:17:21  RT @emirsader: Após ficar em silêncio na CPI d...   \n",
       "1  2019-11-30 14:35:33  RT @VittorGuidoni: para de lamber fone de ouvi...   \n",
       "2  2022-01-11 12:12:28  @exposed_exposer @CarlaZambelli38 @andrizek De...   \n",
       "3  2019-11-19 14:52:06  RT @canaltech: Por que o iPhone é mais seguro ...   \n",
       "4  2021-12-28 23:09:10  RT @mariareinhardtt: covid tá a estragar compl...   \n",
       "\n",
       "  sentiment                        normalized_text_stemm_emoji  \n",
       "0  Positivo  [após, fic, silênci, cpi, carl, wizard, retorn...  \n",
       "1  Negativo  [lamb, fon, ouv, list, doenç, transmiss, oral,...  \n",
       "2  Negativo  [defin, vacin, tip, subst, bactér, introduz, c...  \n",
       "3  Positivo                            [iphon, segur, contr, ]  \n",
       "4  Negativo                           [estrag, complet, tud, ]  "
      ]
     },
     "execution_count": 3,
     "metadata": {},
     "output_type": "execute_result"
    }
   ],
   "source": [
    "df = pd.read_csv('data_pt_brazil_normalized_emoji_merged.csv',\n",
    "                                converters={\n",
    "                     \"normalized_text_stemm_emoji\": lambda x: x.strip(\"[]\").replace(\"'\",\"\").split(\", \")\n",
    "                 })\n",
    "df = df[['created_at', 'text', 'sentiment', 'normalized_text_stemm_emoji']]\n",
    "df.head()"
   ]
  },
  {
   "cell_type": "code",
   "execution_count": 4,
   "id": "b253e66d",
   "metadata": {},
   "outputs": [],
   "source": [
    "emoji_bank = {\n",
    "  \",:(\": \"😓\",\n",
    "  \",:)\": \"😅\",\n",
    "  \",:-(\": \"😓\",\n",
    "  \",:-)\": \"😅\",\n",
    "  \"0:)\": \"😇\",\n",
    "  \"0:-)\": \"😇\",\n",
    "  \"8-)\": \"😎\",\n",
    "  \":$\": \"😒\",\n",
    "  \":'(\": \"😢\",\n",
    "  \":')\": \"😂\",\n",
    "  \":'-(\": \"😢\",\n",
    "  \":'-)\": \"😂\",\n",
    "  \":'-D\": \"😂\",\n",
    "  \":'D\": \"😂\",\n",
    "  \":(\": \"😦\",\n",
    "  \":)\": \"😃\",\n",
    "  \":*\": \"😗\",\n",
    "  \":,'(\": \"😭\",\n",
    "  \":,'-(\": \"😭\",\n",
    "  \":,(\": \"😢\",\n",
    "  \":,)\": \"😂\",\n",
    "  \":,-(\": \"😢\",\n",
    "  \":,-)\": \"😂\",\n",
    "  \":,-D\": \"😂\",\n",
    "  \":,D\": \"😂\",\n",
    "  \":-$\": \"😒\",\n",
    "  \":-(\": \"😦\",\n",
    "  \":-)\": \"😃\",\n",
    "  \":-*\": \"😗\",\n",
    "  \":-/\": \"😕\",\n",
    "  \":-@\": \"😡\",\n",
    "  \":-D\": \"😄\",\n",
    "  \":-o\": \"😮\",\n",
    "  \":-O\": \"😮\",\n",
    "  \":-P\": \"😛\",\n",
    "  \":-S\": \"😒\",\n",
    "  \":-Z\": \"😒\",\n",
    "  \":-|\": \"😐\",\n",
    "  \":/\": \"😕\",\n",
    "  \":@\": \"😡\",\n",
    "  \":D\": \"😄\",\n",
    "  \":o\": \"😮\",\n",
    "  \":O\": \"😮\",\n",
    "  \":P\": \"😛\",\n",
    "  \":s\": \"😒\",\n",
    "  \":z\": \"😒\",\n",
    "  \":|\": \"😐\",\n",
    "  \";(\": \"😭\",\n",
    "  \";)\": \"😉\",\n",
    "  \";-(\": \"😭\",\n",
    "  \";-)\": \"😉\",\n",
    "  \"]:)\": \"😈\",\n",
    "  \"]:-)\": \"😈\",\n",
    "  \"B-)\": \"😎\",\n",
    "  \"o:)\": \"😇\",\n",
    "  \"O:)\": \"😇\",\n",
    "  \"O:-)\": \"😇\",\n",
    "  \"o:-)\": \"😇\",\n",
    "  \"X-)\": \"😆\",\n",
    "  \"x-)\": \"😆\"\n",
    "}"
   ]
  },
  {
   "cell_type": "code",
   "execution_count": 5,
   "id": "26621668",
   "metadata": {},
   "outputs": [],
   "source": [
    "stopwords_list = ['rt']"
   ]
  },
  {
   "cell_type": "code",
   "execution_count": 6,
   "id": "9bcfd786",
   "metadata": {},
   "outputs": [],
   "source": [
    "import re, string, unicodedata\n",
    "import nltk\n",
    "import emoji\n",
    "\n",
    "def extract_emojis(sample):\n",
    "    return ' '.join(c for c in sample if c in emoji.EMOJI_DATA).split()\n",
    "\n",
    "def remove_user_from_text(words):\n",
    "    return \" \".join(filter(lambda x:x[0]!='@', words.split()))\n",
    "\n",
    "def remove_double_space(sample):\n",
    "    return \" \".join(sample.split())\n",
    "\n",
    "def remove_URL(sample):\n",
    "    \"\"\"Remove URLs from a sample string\"\"\"\n",
    "    return re.sub(r\"http\\S+\", \"\", sample)\n",
    "\n",
    "def to_lowercase(words):\n",
    "    \"\"\"Convert all characters to lowercase from list of tokenized words\"\"\"\n",
    "    return list(map(lambda x: x.lower(), words))\n",
    "\n",
    "def remove_punctuation(words):\n",
    "    \"\"\"Remove punctuation from list of tokenized words\"\"\"\n",
    "    new_words = []\n",
    "    for word in words:\n",
    "        new_word = re.sub(r'[^\\w\\s]', '', word)\n",
    "        if new_word != '':\n",
    "            new_words.append(new_word)\n",
    "    return new_words\n",
    "\n",
    "def clean_text(sample):\n",
    "    emoji_pat = '[\\U0001F300-\\U0001F64F\\U0001F680-\\U0001F6FF\\u2600-\\u26FF\\u2700-\\u27BF]'\n",
    "    shrink_whitespace_reg = re.compile(r'\\s{2,}')\n",
    "    reg = re.compile(r'({})|[^a-zA-Z]'.format(emoji_pat)) # line a\n",
    "    result = reg.sub(lambda x: ' {} '.format(x.group(1)) if x.group(1) else ' ', sample)\n",
    "    return shrink_whitespace_reg.sub(' ', result)\n",
    "\n",
    "def replace_asci_emoji(sample):\n",
    "    address = sample\n",
    "    for k,v in emoji_bank.items():\n",
    "        address = address.replace(k, v)\n",
    "    return address\n",
    "\n",
    "def remove_stopwords(words):\n",
    "    \"\"\"Remove stop words from list of tokenized words\"\"\"\n",
    "    new_words = []\n",
    "    for word in words:\n",
    "        if word not in stopwords_list:\n",
    "            new_words.append(word)\n",
    "    return new_words\n",
    "\n",
    "def normalize(words):\n",
    "    words = remove_user_from_text(words)\n",
    "    words = to_lowercase(words.split())\n",
    "    words = remove_punctuation(words)\n",
    "    words = remove_stopwords(words)\n",
    "    return words\n",
    "\n",
    "def preprocess(sample):\n",
    "    sample = remove_URL(sample)\n",
    "    sample = replace_asci_emoji(sample)\n",
    "#     sample = clean_text(sample)\n",
    "    sample = remove_double_space(sample)\n",
    "    return normalize(sample)"
   ]
  },
  {
   "cell_type": "code",
   "execution_count": 7,
   "id": "379b391a",
   "metadata": {},
   "outputs": [
    {
     "data": {
      "text/html": [
       "<div>\n",
       "<style scoped>\n",
       "    .dataframe tbody tr th:only-of-type {\n",
       "        vertical-align: middle;\n",
       "    }\n",
       "\n",
       "    .dataframe tbody tr th {\n",
       "        vertical-align: top;\n",
       "    }\n",
       "\n",
       "    .dataframe thead th {\n",
       "        text-align: right;\n",
       "    }\n",
       "</style>\n",
       "<table border=\"1\" class=\"dataframe\">\n",
       "  <thead>\n",
       "    <tr style=\"text-align: right;\">\n",
       "      <th></th>\n",
       "      <th>created_at</th>\n",
       "      <th>text</th>\n",
       "      <th>sentiment</th>\n",
       "      <th>normalized_text_stemm_emoji</th>\n",
       "      <th>normalized</th>\n",
       "    </tr>\n",
       "  </thead>\n",
       "  <tbody>\n",
       "    <tr>\n",
       "      <th>0</th>\n",
       "      <td>2021-07-04 22:17:21</td>\n",
       "      <td>RT @emirsader: Após ficar em silêncio na CPI d...</td>\n",
       "      <td>Positivo</td>\n",
       "      <td>[após, fic, silênci, cpi, carl, wizard, retorn...</td>\n",
       "      <td>após ficar em silêncio na cpi da covid carlos ...</td>\n",
       "    </tr>\n",
       "    <tr>\n",
       "      <th>1</th>\n",
       "      <td>2019-11-30 14:35:33</td>\n",
       "      <td>RT @VittorGuidoni: para de lamber fone de ouvi...</td>\n",
       "      <td>Negativo</td>\n",
       "      <td>[lamb, fon, ouv, list, doenç, transmiss, oral,...</td>\n",
       "      <td>para de lamber fone de ouvido lista de doenças...</td>\n",
       "    </tr>\n",
       "    <tr>\n",
       "      <th>2</th>\n",
       "      <td>2022-01-11 12:12:28</td>\n",
       "      <td>@exposed_exposer @CarlaZambelli38 @andrizek De...</td>\n",
       "      <td>Negativo</td>\n",
       "      <td>[defin, vacin, tip, subst, bactér, introduz, c...</td>\n",
       "      <td>definição de vacina é um tipo de substância ví...</td>\n",
       "    </tr>\n",
       "    <tr>\n",
       "      <th>3</th>\n",
       "      <td>2019-11-19 14:52:06</td>\n",
       "      <td>RT @canaltech: Por que o iPhone é mais seguro ...</td>\n",
       "      <td>Positivo</td>\n",
       "      <td>[iphon, segur, contr, ]</td>\n",
       "      <td>por que o iphone é mais seguro contra vírus</td>\n",
       "    </tr>\n",
       "    <tr>\n",
       "      <th>4</th>\n",
       "      <td>2021-12-28 23:09:10</td>\n",
       "      <td>RT @mariareinhardtt: covid tá a estragar compl...</td>\n",
       "      <td>Negativo</td>\n",
       "      <td>[estrag, complet, tud, ]</td>\n",
       "      <td>covid tá a estragar completamente tudo</td>\n",
       "    </tr>\n",
       "  </tbody>\n",
       "</table>\n",
       "</div>"
      ],
      "text/plain": [
       "            created_at                                               text  \\\n",
       "0  2021-07-04 22:17:21  RT @emirsader: Após ficar em silêncio na CPI d...   \n",
       "1  2019-11-30 14:35:33  RT @VittorGuidoni: para de lamber fone de ouvi...   \n",
       "2  2022-01-11 12:12:28  @exposed_exposer @CarlaZambelli38 @andrizek De...   \n",
       "3  2019-11-19 14:52:06  RT @canaltech: Por que o iPhone é mais seguro ...   \n",
       "4  2021-12-28 23:09:10  RT @mariareinhardtt: covid tá a estragar compl...   \n",
       "\n",
       "  sentiment                        normalized_text_stemm_emoji  \\\n",
       "0  Positivo  [após, fic, silênci, cpi, carl, wizard, retorn...   \n",
       "1  Negativo  [lamb, fon, ouv, list, doenç, transmiss, oral,...   \n",
       "2  Negativo  [defin, vacin, tip, subst, bactér, introduz, c...   \n",
       "3  Positivo                            [iphon, segur, contr, ]   \n",
       "4  Negativo                           [estrag, complet, tud, ]   \n",
       "\n",
       "                                          normalized  \n",
       "0  após ficar em silêncio na cpi da covid carlos ...  \n",
       "1  para de lamber fone de ouvido lista de doenças...  \n",
       "2  definição de vacina é um tipo de substância ví...  \n",
       "3        por que o iphone é mais seguro contra vírus  \n",
       "4             covid tá a estragar completamente tudo  "
      ]
     },
     "execution_count": 7,
     "metadata": {},
     "output_type": "execute_result"
    }
   ],
   "source": [
    "df['normalized'] = df.apply(lambda x: \" \".join(preprocess(x['text'])), axis=1)\n",
    "df.head()"
   ]
  },
  {
   "cell_type": "code",
   "execution_count": 8,
   "id": "4396900d",
   "metadata": {},
   "outputs": [
    {
     "data": {
      "text/plain": [
       "sentiment\n",
       "Negativo    93560\n",
       "Neutro      58975\n",
       "Positivo    47465\n",
       "dtype: int64"
      ]
     },
     "execution_count": 8,
     "metadata": {},
     "output_type": "execute_result"
    }
   ],
   "source": [
    "df.groupby('sentiment').size()"
   ]
  },
  {
   "cell_type": "code",
   "execution_count": 9,
   "id": "10aced97",
   "metadata": {},
   "outputs": [],
   "source": [
    "df['stem'] = df['normalized_text_stemm_emoji'].apply(lambda x: ' '.join(x))"
   ]
  },
  {
   "cell_type": "code",
   "execution_count": 10,
   "id": "f9a926b2",
   "metadata": {},
   "outputs": [
    {
     "data": {
      "text/html": [
       "<div>\n",
       "<style scoped>\n",
       "    .dataframe tbody tr th:only-of-type {\n",
       "        vertical-align: middle;\n",
       "    }\n",
       "\n",
       "    .dataframe tbody tr th {\n",
       "        vertical-align: top;\n",
       "    }\n",
       "\n",
       "    .dataframe thead th {\n",
       "        text-align: right;\n",
       "    }\n",
       "</style>\n",
       "<table border=\"1\" class=\"dataframe\">\n",
       "  <thead>\n",
       "    <tr style=\"text-align: right;\">\n",
       "      <th></th>\n",
       "      <th>created_at</th>\n",
       "      <th>sentiment</th>\n",
       "      <th>normalized</th>\n",
       "      <th>normalized_text_stemm_emoji</th>\n",
       "      <th>stem</th>\n",
       "    </tr>\n",
       "  </thead>\n",
       "  <tbody>\n",
       "    <tr>\n",
       "      <th>0</th>\n",
       "      <td>2021-07-04 22:17:21</td>\n",
       "      <td>Positivo</td>\n",
       "      <td>após ficar em silêncio na cpi da covid carlos ...</td>\n",
       "      <td>[após, fic, silênci, cpi, carl, wizard, retorn...</td>\n",
       "      <td>após fic silênci cpi carl wizard retorn est un...</td>\n",
       "    </tr>\n",
       "    <tr>\n",
       "      <th>1</th>\n",
       "      <td>2019-11-30 14:35:33</td>\n",
       "      <td>Negativo</td>\n",
       "      <td>para de lamber fone de ouvido lista de doenças...</td>\n",
       "      <td>[lamb, fon, ouv, list, doenç, transmiss, oral,...</td>\n",
       "      <td>lamb fon ouv list doenç transmiss oral prov am...</td>\n",
       "    </tr>\n",
       "    <tr>\n",
       "      <th>2</th>\n",
       "      <td>2022-01-11 12:12:28</td>\n",
       "      <td>Negativo</td>\n",
       "      <td>definição de vacina é um tipo de substância ví...</td>\n",
       "      <td>[defin, vacin, tip, subst, bactér, introduz, c...</td>\n",
       "      <td>defin vacin tip subst bactér introduz corp pes...</td>\n",
       "    </tr>\n",
       "    <tr>\n",
       "      <th>3</th>\n",
       "      <td>2019-11-19 14:52:06</td>\n",
       "      <td>Positivo</td>\n",
       "      <td>por que o iphone é mais seguro contra vírus</td>\n",
       "      <td>[iphon, segur, contr, ]</td>\n",
       "      <td>iphon segur contr</td>\n",
       "    </tr>\n",
       "    <tr>\n",
       "      <th>4</th>\n",
       "      <td>2021-12-28 23:09:10</td>\n",
       "      <td>Negativo</td>\n",
       "      <td>covid tá a estragar completamente tudo</td>\n",
       "      <td>[estrag, complet, tud, ]</td>\n",
       "      <td>estrag complet tud</td>\n",
       "    </tr>\n",
       "  </tbody>\n",
       "</table>\n",
       "</div>"
      ],
      "text/plain": [
       "            created_at sentiment  \\\n",
       "0  2021-07-04 22:17:21  Positivo   \n",
       "1  2019-11-30 14:35:33  Negativo   \n",
       "2  2022-01-11 12:12:28  Negativo   \n",
       "3  2019-11-19 14:52:06  Positivo   \n",
       "4  2021-12-28 23:09:10  Negativo   \n",
       "\n",
       "                                          normalized  \\\n",
       "0  após ficar em silêncio na cpi da covid carlos ...   \n",
       "1  para de lamber fone de ouvido lista de doenças...   \n",
       "2  definição de vacina é um tipo de substância ví...   \n",
       "3        por que o iphone é mais seguro contra vírus   \n",
       "4             covid tá a estragar completamente tudo   \n",
       "\n",
       "                         normalized_text_stemm_emoji  \\\n",
       "0  [após, fic, silênci, cpi, carl, wizard, retorn...   \n",
       "1  [lamb, fon, ouv, list, doenç, transmiss, oral,...   \n",
       "2  [defin, vacin, tip, subst, bactér, introduz, c...   \n",
       "3                            [iphon, segur, contr, ]   \n",
       "4                           [estrag, complet, tud, ]   \n",
       "\n",
       "                                                stem  \n",
       "0  após fic silênci cpi carl wizard retorn est un...  \n",
       "1  lamb fon ouv list doenç transmiss oral prov am...  \n",
       "2  defin vacin tip subst bactér introduz corp pes...  \n",
       "3                                 iphon segur contr   \n",
       "4                                estrag complet tud   "
      ]
     },
     "execution_count": 10,
     "metadata": {},
     "output_type": "execute_result"
    }
   ],
   "source": [
    "df = df[['created_at', 'sentiment', 'normalized', 'normalized_text_stemm_emoji', 'stem']]\n",
    "df.head()"
   ]
  },
  {
   "cell_type": "code",
   "execution_count": 11,
   "id": "e9657275",
   "metadata": {},
   "outputs": [
    {
     "data": {
      "text/html": [
       "<div>\n",
       "<style scoped>\n",
       "    .dataframe tbody tr th:only-of-type {\n",
       "        vertical-align: middle;\n",
       "    }\n",
       "\n",
       "    .dataframe tbody tr th {\n",
       "        vertical-align: top;\n",
       "    }\n",
       "\n",
       "    .dataframe thead th {\n",
       "        text-align: right;\n",
       "    }\n",
       "</style>\n",
       "<table border=\"1\" class=\"dataframe\">\n",
       "  <thead>\n",
       "    <tr style=\"text-align: right;\">\n",
       "      <th></th>\n",
       "      <th>Negativo</th>\n",
       "      <th>Neutro</th>\n",
       "      <th>Positivo</th>\n",
       "    </tr>\n",
       "  </thead>\n",
       "  <tbody>\n",
       "    <tr>\n",
       "      <th>0</th>\n",
       "      <td>0</td>\n",
       "      <td>0</td>\n",
       "      <td>1</td>\n",
       "    </tr>\n",
       "    <tr>\n",
       "      <th>1</th>\n",
       "      <td>1</td>\n",
       "      <td>0</td>\n",
       "      <td>0</td>\n",
       "    </tr>\n",
       "    <tr>\n",
       "      <th>2</th>\n",
       "      <td>1</td>\n",
       "      <td>0</td>\n",
       "      <td>0</td>\n",
       "    </tr>\n",
       "    <tr>\n",
       "      <th>3</th>\n",
       "      <td>0</td>\n",
       "      <td>0</td>\n",
       "      <td>1</td>\n",
       "    </tr>\n",
       "    <tr>\n",
       "      <th>4</th>\n",
       "      <td>1</td>\n",
       "      <td>0</td>\n",
       "      <td>0</td>\n",
       "    </tr>\n",
       "    <tr>\n",
       "      <th>...</th>\n",
       "      <td>...</td>\n",
       "      <td>...</td>\n",
       "      <td>...</td>\n",
       "    </tr>\n",
       "    <tr>\n",
       "      <th>199995</th>\n",
       "      <td>1</td>\n",
       "      <td>0</td>\n",
       "      <td>0</td>\n",
       "    </tr>\n",
       "    <tr>\n",
       "      <th>199996</th>\n",
       "      <td>1</td>\n",
       "      <td>0</td>\n",
       "      <td>0</td>\n",
       "    </tr>\n",
       "    <tr>\n",
       "      <th>199997</th>\n",
       "      <td>0</td>\n",
       "      <td>1</td>\n",
       "      <td>0</td>\n",
       "    </tr>\n",
       "    <tr>\n",
       "      <th>199998</th>\n",
       "      <td>0</td>\n",
       "      <td>1</td>\n",
       "      <td>0</td>\n",
       "    </tr>\n",
       "    <tr>\n",
       "      <th>199999</th>\n",
       "      <td>0</td>\n",
       "      <td>0</td>\n",
       "      <td>1</td>\n",
       "    </tr>\n",
       "  </tbody>\n",
       "</table>\n",
       "<p>200000 rows × 3 columns</p>\n",
       "</div>"
      ],
      "text/plain": [
       "        Negativo  Neutro  Positivo\n",
       "0              0       0         1\n",
       "1              1       0         0\n",
       "2              1       0         0\n",
       "3              0       0         1\n",
       "4              1       0         0\n",
       "...          ...     ...       ...\n",
       "199995         1       0         0\n",
       "199996         1       0         0\n",
       "199997         0       1         0\n",
       "199998         0       1         0\n",
       "199999         0       0         1\n",
       "\n",
       "[200000 rows x 3 columns]"
      ]
     },
     "execution_count": 11,
     "metadata": {},
     "output_type": "execute_result"
    }
   ],
   "source": [
    "one_hot = pd.get_dummies(df['sentiment'])\n",
    "one_hot"
   ]
  },
  {
   "cell_type": "code",
   "execution_count": 12,
   "id": "c6505811",
   "metadata": {},
   "outputs": [],
   "source": [
    "df = df.join(one_hot)"
   ]
  },
  {
   "cell_type": "code",
   "execution_count": 13,
   "id": "c7b88d58",
   "metadata": {},
   "outputs": [
    {
     "data": {
      "text/html": [
       "<div>\n",
       "<style scoped>\n",
       "    .dataframe tbody tr th:only-of-type {\n",
       "        vertical-align: middle;\n",
       "    }\n",
       "\n",
       "    .dataframe tbody tr th {\n",
       "        vertical-align: top;\n",
       "    }\n",
       "\n",
       "    .dataframe thead th {\n",
       "        text-align: right;\n",
       "    }\n",
       "</style>\n",
       "<table border=\"1\" class=\"dataframe\">\n",
       "  <thead>\n",
       "    <tr style=\"text-align: right;\">\n",
       "      <th></th>\n",
       "      <th>created_at</th>\n",
       "      <th>sentiment</th>\n",
       "      <th>normalized</th>\n",
       "      <th>normalized_text_stemm_emoji</th>\n",
       "      <th>stem</th>\n",
       "      <th>Negativo</th>\n",
       "      <th>Neutro</th>\n",
       "      <th>Positivo</th>\n",
       "    </tr>\n",
       "  </thead>\n",
       "  <tbody>\n",
       "    <tr>\n",
       "      <th>0</th>\n",
       "      <td>2021-07-04 22:17:21</td>\n",
       "      <td>Positivo</td>\n",
       "      <td>após ficar em silêncio na cpi da covid carlos ...</td>\n",
       "      <td>[após, fic, silênci, cpi, carl, wizard, retorn...</td>\n",
       "      <td>após fic silênci cpi carl wizard retorn est un...</td>\n",
       "      <td>0</td>\n",
       "      <td>0</td>\n",
       "      <td>1</td>\n",
       "    </tr>\n",
       "    <tr>\n",
       "      <th>1</th>\n",
       "      <td>2019-11-30 14:35:33</td>\n",
       "      <td>Negativo</td>\n",
       "      <td>para de lamber fone de ouvido lista de doenças...</td>\n",
       "      <td>[lamb, fon, ouv, list, doenç, transmiss, oral,...</td>\n",
       "      <td>lamb fon ouv list doenç transmiss oral prov am...</td>\n",
       "      <td>1</td>\n",
       "      <td>0</td>\n",
       "      <td>0</td>\n",
       "    </tr>\n",
       "    <tr>\n",
       "      <th>2</th>\n",
       "      <td>2022-01-11 12:12:28</td>\n",
       "      <td>Negativo</td>\n",
       "      <td>definição de vacina é um tipo de substância ví...</td>\n",
       "      <td>[defin, vacin, tip, subst, bactér, introduz, c...</td>\n",
       "      <td>defin vacin tip subst bactér introduz corp pes...</td>\n",
       "      <td>1</td>\n",
       "      <td>0</td>\n",
       "      <td>0</td>\n",
       "    </tr>\n",
       "    <tr>\n",
       "      <th>3</th>\n",
       "      <td>2019-11-19 14:52:06</td>\n",
       "      <td>Positivo</td>\n",
       "      <td>por que o iphone é mais seguro contra vírus</td>\n",
       "      <td>[iphon, segur, contr, ]</td>\n",
       "      <td>iphon segur contr</td>\n",
       "      <td>0</td>\n",
       "      <td>0</td>\n",
       "      <td>1</td>\n",
       "    </tr>\n",
       "    <tr>\n",
       "      <th>4</th>\n",
       "      <td>2021-12-28 23:09:10</td>\n",
       "      <td>Negativo</td>\n",
       "      <td>covid tá a estragar completamente tudo</td>\n",
       "      <td>[estrag, complet, tud, ]</td>\n",
       "      <td>estrag complet tud</td>\n",
       "      <td>1</td>\n",
       "      <td>0</td>\n",
       "      <td>0</td>\n",
       "    </tr>\n",
       "    <tr>\n",
       "      <th>...</th>\n",
       "      <td>...</td>\n",
       "      <td>...</td>\n",
       "      <td>...</td>\n",
       "      <td>...</td>\n",
       "      <td>...</td>\n",
       "      <td>...</td>\n",
       "      <td>...</td>\n",
       "      <td>...</td>\n",
       "    </tr>\n",
       "    <tr>\n",
       "      <th>199995</th>\n",
       "      <td>2021-03-19 00:21:33</td>\n",
       "      <td>Negativo</td>\n",
       "      <td>mais um brasileiro vítima desse vírus e assass...</td>\n",
       "      <td>[brasil, vítim, dess, assassin, incompet, dess...</td>\n",
       "      <td>brasil vítim dess assassin incompet dess govern</td>\n",
       "      <td>1</td>\n",
       "      <td>0</td>\n",
       "      <td>0</td>\n",
       "    </tr>\n",
       "    <tr>\n",
       "      <th>199996</th>\n",
       "      <td>2020-03-15 23:59:18</td>\n",
       "      <td>Negativo</td>\n",
       "      <td>sinceramente jovens e adultos saudáveis que po...</td>\n",
       "      <td>[sinc, jov, adult, saud, pod, ter, assintomá, ...</td>\n",
       "      <td>sinc jov adult saud pod ter assintomá cust sos...</td>\n",
       "      <td>1</td>\n",
       "      <td>0</td>\n",
       "      <td>0</td>\n",
       "    </tr>\n",
       "    <tr>\n",
       "      <th>199997</th>\n",
       "      <td>2020-10-29 23:03:29</td>\n",
       "      <td>Neutro</td>\n",
       "      <td>a hcq acelera a eliminação do covid19 do organ...</td>\n",
       "      <td>[hcq, aceler, elimin, organ, dia, uso, result,...</td>\n",
       "      <td>hcq aceler elimin organ dia uso result elimin ...</td>\n",
       "      <td>0</td>\n",
       "      <td>1</td>\n",
       "      <td>0</td>\n",
       "    </tr>\n",
       "    <tr>\n",
       "      <th>199998</th>\n",
       "      <td>2020-09-24 23:35:28</td>\n",
       "      <td>Neutro</td>\n",
       "      <td>e o futebol brasileiro discutindo a volta de p...</td>\n",
       "      <td>[futebol, brasil, discut, volt, públic, estádi, ]</td>\n",
       "      <td>futebol brasil discut volt públic estádi</td>\n",
       "      <td>0</td>\n",
       "      <td>1</td>\n",
       "      <td>0</td>\n",
       "    </tr>\n",
       "    <tr>\n",
       "      <th>199999</th>\n",
       "      <td>2020-03-13 23:56:55</td>\n",
       "      <td>Positivo</td>\n",
       "      <td>sinceramente to meio sem tempo pra esse tal de...</td>\n",
       "      <td>[sinc, mei, temp, tal, chei, cois, resolv, esp...</td>\n",
       "      <td>sinc mei temp tal chei cois resolv esper enten...</td>\n",
       "      <td>0</td>\n",
       "      <td>0</td>\n",
       "      <td>1</td>\n",
       "    </tr>\n",
       "  </tbody>\n",
       "</table>\n",
       "<p>200000 rows × 8 columns</p>\n",
       "</div>"
      ],
      "text/plain": [
       "                 created_at sentiment  \\\n",
       "0       2021-07-04 22:17:21  Positivo   \n",
       "1       2019-11-30 14:35:33  Negativo   \n",
       "2       2022-01-11 12:12:28  Negativo   \n",
       "3       2019-11-19 14:52:06  Positivo   \n",
       "4       2021-12-28 23:09:10  Negativo   \n",
       "...                     ...       ...   \n",
       "199995  2021-03-19 00:21:33  Negativo   \n",
       "199996  2020-03-15 23:59:18  Negativo   \n",
       "199997  2020-10-29 23:03:29    Neutro   \n",
       "199998  2020-09-24 23:35:28    Neutro   \n",
       "199999  2020-03-13 23:56:55  Positivo   \n",
       "\n",
       "                                               normalized  \\\n",
       "0       após ficar em silêncio na cpi da covid carlos ...   \n",
       "1       para de lamber fone de ouvido lista de doenças...   \n",
       "2       definição de vacina é um tipo de substância ví...   \n",
       "3             por que o iphone é mais seguro contra vírus   \n",
       "4                  covid tá a estragar completamente tudo   \n",
       "...                                                   ...   \n",
       "199995  mais um brasileiro vítima desse vírus e assass...   \n",
       "199996  sinceramente jovens e adultos saudáveis que po...   \n",
       "199997  a hcq acelera a eliminação do covid19 do organ...   \n",
       "199998  e o futebol brasileiro discutindo a volta de p...   \n",
       "199999  sinceramente to meio sem tempo pra esse tal de...   \n",
       "\n",
       "                              normalized_text_stemm_emoji  \\\n",
       "0       [após, fic, silênci, cpi, carl, wizard, retorn...   \n",
       "1       [lamb, fon, ouv, list, doenç, transmiss, oral,...   \n",
       "2       [defin, vacin, tip, subst, bactér, introduz, c...   \n",
       "3                                 [iphon, segur, contr, ]   \n",
       "4                                [estrag, complet, tud, ]   \n",
       "...                                                   ...   \n",
       "199995  [brasil, vítim, dess, assassin, incompet, dess...   \n",
       "199996  [sinc, jov, adult, saud, pod, ter, assintomá, ...   \n",
       "199997  [hcq, aceler, elimin, organ, dia, uso, result,...   \n",
       "199998  [futebol, brasil, discut, volt, públic, estádi, ]   \n",
       "199999  [sinc, mei, temp, tal, chei, cois, resolv, esp...   \n",
       "\n",
       "                                                     stem  Negativo  Neutro  \\\n",
       "0       após fic silênci cpi carl wizard retorn est un...         0       0   \n",
       "1       lamb fon ouv list doenç transmiss oral prov am...         1       0   \n",
       "2       defin vacin tip subst bactér introduz corp pes...         1       0   \n",
       "3                                      iphon segur contr          0       0   \n",
       "4                                     estrag complet tud          1       0   \n",
       "...                                                   ...       ...     ...   \n",
       "199995   brasil vítim dess assassin incompet dess govern          1       0   \n",
       "199996  sinc jov adult saud pod ter assintomá cust sos...         1       0   \n",
       "199997  hcq aceler elimin organ dia uso result elimin ...         0       1   \n",
       "199998          futebol brasil discut volt públic estádi          0       1   \n",
       "199999  sinc mei temp tal chei cois resolv esper enten...         0       0   \n",
       "\n",
       "        Positivo  \n",
       "0              1  \n",
       "1              0  \n",
       "2              0  \n",
       "3              1  \n",
       "4              0  \n",
       "...          ...  \n",
       "199995         0  \n",
       "199996         0  \n",
       "199997         0  \n",
       "199998         0  \n",
       "199999         1  \n",
       "\n",
       "[200000 rows x 8 columns]"
      ]
     },
     "execution_count": 13,
     "metadata": {},
     "output_type": "execute_result"
    }
   ],
   "source": [
    "df"
   ]
  },
  {
   "cell_type": "code",
   "execution_count": 14,
   "id": "1041154f",
   "metadata": {},
   "outputs": [],
   "source": [
    "df = df.sample(n=20000, random_state=42).reset_index(drop=True)"
   ]
  },
  {
   "cell_type": "code",
   "execution_count": 15,
   "id": "7d1785b5",
   "metadata": {},
   "outputs": [
    {
     "data": {
      "text/plain": [
       "sentiment\n",
       "Negativo    9497\n",
       "Neutro      5859\n",
       "Positivo    4644\n",
       "dtype: int64"
      ]
     },
     "execution_count": 15,
     "metadata": {},
     "output_type": "execute_result"
    }
   ],
   "source": [
    "df.groupby('sentiment').size()"
   ]
  },
  {
   "cell_type": "code",
   "execution_count": 16,
   "id": "0f91c97e",
   "metadata": {},
   "outputs": [
    {
     "name": "stdout",
     "output_type": "stream",
     "text": [
      "Collecting ktrain\n",
      "  Downloading ktrain-0.38.0.tar.gz (25.3 MB)\n",
      "\u001b[2K     \u001b[90m━━━━━━━━━━━━━━━━━━━━━━━━━━━━━━━━━━━━━━━━\u001b[0m \u001b[32m25.3/25.3 MB\u001b[0m \u001b[31m26.4 MB/s\u001b[0m eta \u001b[36m0:00:00\u001b[0m00:01\u001b[0m00:01\u001b[0m\n",
      "\u001b[?25h  Preparing metadata (setup.py) ... \u001b[?25ldone\n",
      "\u001b[?25hRequirement already satisfied: scikit-learn in /usr/local/lib/python3.7/site-packages (from ktrain) (1.0.2)\n",
      "Requirement already satisfied: matplotlib>=3.0.0 in /usr/local/lib/python3.7/site-packages (from ktrain) (3.5.3)\n",
      "Requirement already satisfied: pandas>=1.0.1 in /usr/local/lib/python3.7/site-packages (from ktrain) (1.3.5)\n",
      "Collecting fastprogress>=0.1.21\n",
      "  Downloading fastprogress-1.0.3-py3-none-any.whl (12 kB)\n",
      "Requirement already satisfied: requests in /usr/local/lib/python3.7/site-packages (from ktrain) (2.31.0)\n",
      "Requirement already satisfied: joblib in /usr/local/lib/python3.7/site-packages (from ktrain) (1.3.2)\n",
      "Requirement already satisfied: packaging in /usr/local/lib/python3.7/site-packages (from ktrain) (23.2)\n",
      "Collecting langdetect\n",
      "  Downloading langdetect-1.0.9.tar.gz (981 kB)\n",
      "\u001b[2K     \u001b[90m━━━━━━━━━━━━━━━━━━━━━━━━━━━━━━━━━━━━━━\u001b[0m \u001b[32m981.5/981.5 kB\u001b[0m \u001b[31m38.0 MB/s\u001b[0m eta \u001b[36m0:00:00\u001b[0m\n",
      "\u001b[?25h  Preparing metadata (setup.py) ... \u001b[?25ldone\n",
      "\u001b[?25hCollecting jieba\n",
      "  Downloading jieba-0.42.1.tar.gz (19.2 MB)\n",
      "\u001b[2K     \u001b[90m━━━━━━━━━━━━━━━━━━━━━━━━━━━━━━━━━━━━━━━━\u001b[0m \u001b[32m19.2/19.2 MB\u001b[0m \u001b[31m28.4 MB/s\u001b[0m eta \u001b[36m0:00:00\u001b[0m00:01\u001b[0m00:01\u001b[0m\n",
      "\u001b[?25h  Preparing metadata (setup.py) ... \u001b[?25ldone\n",
      "\u001b[?25hCollecting cchardet\n",
      "  Downloading cchardet-2.1.7-cp37-cp37m-manylinux2010_x86_64.whl (263 kB)\n",
      "\u001b[2K     \u001b[90m━━━━━━━━━━━━━━━━━━━━━━━━━━━━━━━━━━━━━━\u001b[0m \u001b[32m263.7/263.7 kB\u001b[0m \u001b[31m34.8 MB/s\u001b[0m eta \u001b[36m0:00:00\u001b[0m\n",
      "\u001b[?25hCollecting chardet\n",
      "  Downloading chardet-5.2.0-py3-none-any.whl (199 kB)\n",
      "\u001b[2K     \u001b[90m━━━━━━━━━━━━━━━━━━━━━━━━━━━━━━━━━━━━━━\u001b[0m \u001b[32m199.4/199.4 kB\u001b[0m \u001b[31m31.1 MB/s\u001b[0m eta \u001b[36m0:00:00\u001b[0m\n",
      "\u001b[?25hCollecting syntok>1.3.3\n",
      "  Downloading syntok-1.4.4-py3-none-any.whl (24 kB)\n",
      "Collecting tika\n",
      "  Downloading tika-2.6.0.tar.gz (27 kB)\n",
      "  Preparing metadata (setup.py) ... \u001b[?25ldone\n",
      "\u001b[?25hCollecting transformers>=4.17.0\n",
      "  Downloading transformers-4.30.2-py3-none-any.whl (7.2 MB)\n",
      "\u001b[2K     \u001b[90m━━━━━━━━━━━━━━━━━━━━━━━━━━━━━━━━━━━━━━━━\u001b[0m \u001b[32m7.2/7.2 MB\u001b[0m \u001b[31m35.8 MB/s\u001b[0m eta \u001b[36m0:00:00\u001b[0m00:01\u001b[0m00:01\u001b[0m\n",
      "\u001b[?25hCollecting sentencepiece\n",
      "  Downloading sentencepiece-0.1.99-cp37-cp37m-manylinux_2_17_x86_64.manylinux2014_x86_64.whl (1.3 MB)\n",
      "\u001b[2K     \u001b[90m━━━━━━━━━━━━━━━━━━━━━━━━━━━━━━━━━━━━━━━━\u001b[0m \u001b[32m1.3/1.3 MB\u001b[0m \u001b[31m40.5 MB/s\u001b[0m eta \u001b[36m0:00:00\u001b[0m\n",
      "\u001b[?25hCollecting keras_bert>=0.86.0\n",
      "  Downloading keras-bert-0.89.0.tar.gz (25 kB)\n",
      "  Preparing metadata (setup.py) ... \u001b[?25ldone\n",
      "\u001b[?25hCollecting whoosh\n",
      "  Downloading Whoosh-2.7.4-py2.py3-none-any.whl (468 kB)\n",
      "\u001b[2K     \u001b[90m━━━━━━━━━━━━━━━━━━━━━━━━━━━━━━━━━━━━━━\u001b[0m \u001b[32m468.8/468.8 kB\u001b[0m \u001b[31m41.3 MB/s\u001b[0m eta \u001b[36m0:00:00\u001b[0m\n",
      "\u001b[?25hRequirement already satisfied: numpy in /usr/local/lib/python3.7/site-packages (from keras_bert>=0.86.0->ktrain) (1.21.6)\n",
      "Collecting keras-transformer==0.40.0\n",
      "  Downloading keras-transformer-0.40.0.tar.gz (9.7 kB)\n",
      "  Preparing metadata (setup.py) ... \u001b[?25ldone\n",
      "\u001b[?25hCollecting keras-pos-embd==0.13.0\n",
      "  Downloading keras-pos-embd-0.13.0.tar.gz (5.6 kB)\n",
      "  Preparing metadata (setup.py) ... \u001b[?25ldone\n",
      "\u001b[?25hCollecting keras-multi-head==0.29.0\n",
      "  Downloading keras-multi-head-0.29.0.tar.gz (13 kB)\n",
      "  Preparing metadata (setup.py) ... \u001b[?25ldone\n",
      "\u001b[?25hCollecting keras-layer-normalization==0.16.0\n",
      "  Downloading keras-layer-normalization-0.16.0.tar.gz (3.9 kB)\n",
      "  Preparing metadata (setup.py) ... \u001b[?25ldone\n",
      "\u001b[?25hCollecting keras-position-wise-feed-forward==0.8.0\n",
      "  Downloading keras-position-wise-feed-forward-0.8.0.tar.gz (4.1 kB)\n",
      "  Preparing metadata (setup.py) ... \u001b[?25ldone\n",
      "\u001b[?25hCollecting keras-embed-sim==0.10.0\n",
      "  Downloading keras-embed-sim-0.10.0.tar.gz (3.6 kB)\n",
      "  Preparing metadata (setup.py) ... \u001b[?25ldone\n",
      "\u001b[?25hCollecting keras-self-attention==0.51.0\n",
      "  Downloading keras-self-attention-0.51.0.tar.gz (11 kB)\n",
      "  Preparing metadata (setup.py) ... \u001b[?25ldone\n",
      "\u001b[?25hRequirement already satisfied: pillow>=6.2.0 in /usr/local/lib/python3.7/site-packages (from matplotlib>=3.0.0->ktrain) (9.5.0)\n",
      "Requirement already satisfied: cycler>=0.10 in /usr/local/lib/python3.7/site-packages (from matplotlib>=3.0.0->ktrain) (0.11.0)\n",
      "Requirement already satisfied: pyparsing>=2.2.1 in /usr/local/lib/python3.7/site-packages (from matplotlib>=3.0.0->ktrain) (3.1.1)\n",
      "Requirement already satisfied: fonttools>=4.22.0 in /usr/local/lib/python3.7/site-packages (from matplotlib>=3.0.0->ktrain) (4.38.0)\n",
      "Requirement already satisfied: python-dateutil>=2.7 in /usr/local/lib/python3.7/site-packages (from matplotlib>=3.0.0->ktrain) (2.8.2)\n",
      "Requirement already satisfied: kiwisolver>=1.0.1 in /usr/local/lib/python3.7/site-packages (from matplotlib>=3.0.0->ktrain) (1.4.5)\n",
      "Requirement already satisfied: pytz>=2017.3 in /usr/local/lib/python3.7/site-packages (from pandas>=1.0.1->ktrain) (2023.3.post1)\n",
      "Requirement already satisfied: regex>2016 in /usr/local/lib/python3.7/site-packages (from syntok>1.3.3->ktrain) (2023.10.3)\n",
      "Collecting safetensors>=0.3.1\n",
      "  Downloading safetensors-0.4.0-cp37-cp37m-manylinux_2_17_x86_64.manylinux2014_x86_64.whl (1.3 MB)\n",
      "\u001b[2K     \u001b[90m━━━━━━━━━━━━━━━━━━━━━━━━━━━━━━━━━━━━━━━━\u001b[0m \u001b[32m1.3/1.3 MB\u001b[0m \u001b[31m37.4 MB/s\u001b[0m eta \u001b[36m0:00:00\u001b[0m00:01\u001b[0m\n",
      "\u001b[?25hCollecting huggingface-hub<1.0,>=0.14.1\n",
      "  Downloading huggingface_hub-0.16.4-py3-none-any.whl (268 kB)\n",
      "\u001b[2K     \u001b[90m━━━━━━━━━━━━━━━━━━━━━━━━━━━━━━━━━━━━━━\u001b[0m \u001b[32m268.8/268.8 kB\u001b[0m \u001b[31m36.9 MB/s\u001b[0m eta \u001b[36m0:00:00\u001b[0m\n",
      "\u001b[?25hCollecting pyyaml>=5.1\n",
      "  Downloading PyYAML-6.0.1-cp37-cp37m-manylinux_2_17_x86_64.manylinux2014_x86_64.whl (670 kB)\n",
      "\u001b[2K     \u001b[90m━━━━━━━━━━━━━━━━━━━━━━━━━━━━━━━━━━━━━━\u001b[0m \u001b[32m670.1/670.1 kB\u001b[0m \u001b[31m36.2 MB/s\u001b[0m eta \u001b[36m0:00:00\u001b[0m\n",
      "\u001b[?25hRequirement already satisfied: tqdm>=4.27 in /usr/local/lib/python3.7/site-packages (from transformers>=4.17.0->ktrain) (4.66.1)\n",
      "Collecting tokenizers!=0.11.3,<0.14,>=0.11.1\n",
      "  Downloading tokenizers-0.13.3-cp37-cp37m-manylinux_2_17_x86_64.manylinux2014_x86_64.whl (7.8 MB)\n",
      "\u001b[2K     \u001b[90m━━━━━━━━━━━━━━━━━━━━━━━━━━━━━━━━━━━━━━━━\u001b[0m \u001b[32m7.8/7.8 MB\u001b[0m \u001b[31m34.4 MB/s\u001b[0m eta \u001b[36m0:00:00\u001b[0m00:01\u001b[0m00:01\u001b[0m\n",
      "\u001b[?25hRequirement already satisfied: importlib-metadata in /usr/local/lib/python3.7/site-packages (from transformers>=4.17.0->ktrain) (4.2.0)\n",
      "Collecting filelock\n",
      "  Downloading filelock-3.12.2-py3-none-any.whl (10 kB)\n",
      "Requirement already satisfied: six in /usr/local/lib/python3.7/site-packages (from langdetect->ktrain) (1.16.0)\n",
      "Requirement already satisfied: charset-normalizer<4,>=2 in /usr/local/lib/python3.7/site-packages (from requests->ktrain) (3.3.0)\n",
      "Requirement already satisfied: urllib3<3,>=1.21.1 in /usr/local/lib/python3.7/site-packages (from requests->ktrain) (1.26.17)\n",
      "Requirement already satisfied: certifi>=2017.4.17 in /usr/local/lib/python3.7/site-packages (from requests->ktrain) (2023.7.22)\n",
      "Requirement already satisfied: idna<4,>=2.5 in /usr/local/lib/python3.7/site-packages (from requests->ktrain) (3.4)\n",
      "Requirement already satisfied: threadpoolctl>=2.0.0 in /usr/local/lib/python3.7/site-packages (from scikit-learn->ktrain) (3.1.0)\n",
      "Requirement already satisfied: scipy>=1.1.0 in /usr/local/lib/python3.7/site-packages (from scikit-learn->ktrain) (1.7.3)\n",
      "Requirement already satisfied: setuptools in /usr/local/lib/python3.7/site-packages (from tika->ktrain) (57.5.0)\n",
      "Requirement already satisfied: fsspec in /usr/local/lib/python3.7/site-packages (from huggingface-hub<1.0,>=0.14.1->transformers>=4.17.0->ktrain) (2023.1.0)\n",
      "Requirement already satisfied: typing-extensions>=3.7.4.3 in /usr/local/lib/python3.7/site-packages (from huggingface-hub<1.0,>=0.14.1->transformers>=4.17.0->ktrain) (4.7.1)\n",
      "Requirement already satisfied: zipp>=0.5 in /usr/local/lib/python3.7/site-packages (from importlib-metadata->transformers>=4.17.0->ktrain) (3.15.0)\n",
      "Building wheels for collected packages: ktrain, keras_bert, keras-transformer, keras-embed-sim, keras-layer-normalization, keras-multi-head, keras-pos-embd, keras-position-wise-feed-forward, keras-self-attention, jieba, langdetect, tika\n"
     ]
    },
    {
     "name": "stdout",
     "output_type": "stream",
     "text": [
      "  Building wheel for ktrain (setup.py) ... \u001b[?25ldone\n",
      "\u001b[?25h  Created wheel for ktrain: filename=ktrain-0.38.0-py3-none-any.whl size=25319974 sha256=7151dc5a2b37f20c13436d18c956754278be07b42ecf089039959bbe59359d87\n",
      "  Stored in directory: /root/.cache/pip/wheels/cd/12/72/68d4a56716592293ce7afe21912cf5b54cf12e939bf0872c01\n",
      "  Building wheel for keras_bert (setup.py) ... \u001b[?25ldone\n",
      "\u001b[?25h  Created wheel for keras_bert: filename=keras_bert-0.89.0-py3-none-any.whl size=33514 sha256=25a4f53aba177741819bd06421043ff3f1b996bc0f788a7922db0a8a4c2513b6\n",
      "  Stored in directory: /root/.cache/pip/wheels/a4/e8/45/842b3a39831261aef9154b907eacbc4ac99499a99ae829b06f\n",
      "  Building wheel for keras-transformer (setup.py) ... \u001b[?25ldone\n",
      "\u001b[?25h  Created wheel for keras-transformer: filename=keras_transformer-0.40.0-py3-none-any.whl size=12302 sha256=64df0b48f525ddcb18637cb8e5fe66cd9a6f558ee31db00ee5f5b464e636d6f4\n",
      "  Stored in directory: /root/.cache/pip/wheels/46/68/26/692ed21edd832833c3b0a0e21615bcacd99ca458b3f9ed571f\n",
      "  Building wheel for keras-embed-sim (setup.py) ... \u001b[?25ldone\n",
      "\u001b[?25h  Created wheel for keras-embed-sim: filename=keras_embed_sim-0.10.0-py3-none-any.whl size=3959 sha256=1cb6f919b1eafce0201b99f3574aaf71fcfd06e233f5f4110d2553870c6370fa\n",
      "  Stored in directory: /root/.cache/pip/wheels/81/67/b5/d847588d075895281e1cf5590f819bd4cf076a554872268bd5\n",
      "  Building wheel for keras-layer-normalization (setup.py) ... \u001b[?25ldone\n",
      "\u001b[?25h  Created wheel for keras-layer-normalization: filename=keras_layer_normalization-0.16.0-py3-none-any.whl size=4667 sha256=966fc1ad4dd22ac60abe15caac85f16005d6e6898475dace2502346a1e272a29\n",
      "  Stored in directory: /root/.cache/pip/wheels/85/5d/1c/2e619f594f69fbcf8bc20943b27d414871c409be053994813e\n",
      "  Building wheel for keras-multi-head (setup.py) ... \u001b[?25ldone\n",
      "\u001b[?25h  Created wheel for keras-multi-head: filename=keras_multi_head-0.29.0-py3-none-any.whl size=14990 sha256=9dc02866370aa11b514c5249d724723f355b832509992c25fae9c47dc4300dd3\n",
      "  Stored in directory: /root/.cache/pip/wheels/86/aa/3c/9d15d24005179dae08ff291ce99c754b296347817d076fd9fb\n",
      "  Building wheel for keras-pos-embd (setup.py) ... \u001b[?25ldone\n",
      "\u001b[?25h  Created wheel for keras-pos-embd: filename=keras_pos_embd-0.13.0-py3-none-any.whl size=6960 sha256=f61386b90a0ec4fce9fdc981be3475f89ad5587eb7ce5529b8dc28a5c4ca0dd6\n",
      "  Stored in directory: /root/.cache/pip/wheels/8d/c1/a0/dc44fcf68c857b7ff6be9a97e675e5adf51022eff1169b042f\n",
      "  Building wheel for keras-position-wise-feed-forward (setup.py) ... \u001b[?25ldone\n",
      "\u001b[?25h  Created wheel for keras-position-wise-feed-forward: filename=keras_position_wise_feed_forward-0.8.0-py3-none-any.whl size=4983 sha256=b22d4a26802d501223adb226f24d23bc47b300214797b3317bdede7e38b80fb8\n",
      "  Stored in directory: /root/.cache/pip/wheels/c2/75/6f/d42f6e051506f442daeba53ff1e2d21a5f20ef8c411610f2bb\n",
      "  Building wheel for keras-self-attention (setup.py) ... \u001b[?25ldone\n",
      "\u001b[?25h  Created wheel for keras-self-attention: filename=keras_self_attention-0.51.0-py3-none-any.whl size=18914 sha256=4a0275f8d0efbab55c8f5446878e407bf5b074c9693056b138cdfbe4e9005ab5\n",
      "  Stored in directory: /root/.cache/pip/wheels/95/b1/a8/5ee00cc137940b2f6fa198212e8f45d813d0e0d9c3a04035a3\n",
      "  Building wheel for jieba (setup.py) ... \u001b[?25ldone\n",
      "\u001b[?25h  Created wheel for jieba: filename=jieba-0.42.1-py3-none-any.whl size=19314477 sha256=681d3f642c05a45530a9be50c722a15fef8ac0b1abb654749625a3903782290b\n",
      "  Stored in directory: /root/.cache/pip/wheels/24/aa/17/5bc7c72e9a37990a9620cc3aad0acad1564dcff6dbc2359de3\n",
      "  Building wheel for langdetect (setup.py) ... \u001b[?25ldone\n",
      "\u001b[?25h  Created wheel for langdetect: filename=langdetect-1.0.9-py3-none-any.whl size=993241 sha256=a4ba84e4c3a1aa7a41b2b8d946db5638d22899ee78346fcc4e578c5af7719c75\n",
      "  Stored in directory: /root/.cache/pip/wheels/c5/96/8a/f90c59ed25d75e50a8c10a1b1c2d4c402e4dacfa87f3aff36a\n",
      "  Building wheel for tika (setup.py) ... \u001b[?25ldone\n",
      "\u001b[?25h  Created wheel for tika: filename=tika-2.6.0-py3-none-any.whl size=32640 sha256=26a3e7a11f5e5ad061bf9d74523711fcca71e3bfadd7bf7d4ae6865dc5266272\n",
      "  Stored in directory: /root/.cache/pip/wheels/d0/e8/f2/4d6ee3cf46b79e22dcc7d4cdcbeed804c985d346b44a213672\n",
      "Successfully built ktrain keras_bert keras-transformer keras-embed-sim keras-layer-normalization keras-multi-head keras-pos-embd keras-position-wise-feed-forward keras-self-attention jieba langdetect tika\n",
      "Installing collected packages: whoosh, tokenizers, sentencepiece, jieba, cchardet, syntok, safetensors, pyyaml, langdetect, keras-self-attention, keras-position-wise-feed-forward, keras-pos-embd, keras-layer-normalization, keras-embed-sim, filelock, fastprogress, chardet, tika, keras-multi-head, huggingface-hub, transformers, keras-transformer, keras_bert, ktrain\n",
      "Successfully installed cchardet-2.1.7 chardet-5.2.0 fastprogress-1.0.3 filelock-3.12.2 huggingface-hub-0.16.4 jieba-0.42.1 keras-embed-sim-0.10.0 keras-layer-normalization-0.16.0 keras-multi-head-0.29.0 keras-pos-embd-0.13.0 keras-position-wise-feed-forward-0.8.0 keras-self-attention-0.51.0 keras-transformer-0.40.0 keras_bert-0.89.0 ktrain-0.38.0 langdetect-1.0.9 pyyaml-6.0.1 safetensors-0.4.0 sentencepiece-0.1.99 syntok-1.4.4 tika-2.6.0 tokenizers-0.13.3 transformers-4.30.2 whoosh-2.7.4\n",
      "\u001b[33mWARNING: Running pip as the 'root' user can result in broken permissions and conflicting behaviour with the system package manager. It is recommended to use a virtual environment instead: https://pip.pypa.io/warnings/venv\u001b[0m\u001b[33m\n",
      "\u001b[0m\n",
      "\u001b[1m[\u001b[0m\u001b[34;49mnotice\u001b[0m\u001b[1;39;49m]\u001b[0m\u001b[39;49m A new release of pip is available: \u001b[0m\u001b[31;49m23.0.1\u001b[0m\u001b[39;49m -> \u001b[0m\u001b[32;49m23.3.1\u001b[0m\n",
      "\u001b[1m[\u001b[0m\u001b[34;49mnotice\u001b[0m\u001b[1;39;49m]\u001b[0m\u001b[39;49m To update, run: \u001b[0m\u001b[32;49mpip install --upgrade pip\u001b[0m\n"
     ]
    }
   ],
   "source": [
    "!pip install ktrain"
   ]
  },
  {
   "cell_type": "code",
   "execution_count": 17,
   "id": "51368c2c",
   "metadata": {},
   "outputs": [],
   "source": [
    "import ktrain\n",
    "from ktrain import text"
   ]
  },
  {
   "cell_type": "code",
   "execution_count": 18,
   "id": "b9d5614b",
   "metadata": {},
   "outputs": [],
   "source": [
    "from sklearn.model_selection import train_test_split\n",
    "\n",
    "X_train, X_test, y_train, y_test = train_test_split(\n",
    "    df['normalized'].values, \n",
    "    df['sentiment'].values, \n",
    "    test_size=0.20, \n",
    "    random_state=42,\n",
    "    stratify=df['sentiment'])"
   ]
  },
  {
   "cell_type": "code",
   "execution_count": 19,
   "id": "3d9f377c",
   "metadata": {},
   "outputs": [],
   "source": [
    "x_train = X_train.tolist()\n",
    "y_train = y_train.tolist()\n",
    "x_test = X_test.tolist()\n",
    "y_test = y_test.tolist()"
   ]
  },
  {
   "cell_type": "code",
   "execution_count": 20,
   "id": "9eedf8c8",
   "metadata": {},
   "outputs": [
    {
     "data": {
      "application/vnd.jupyter.widget-view+json": {
       "model_id": "4e56102773484f67b89a3b39da7477e3",
       "version_major": 2,
       "version_minor": 0
      },
      "text/plain": [
       "Downloading (…)lve/main/config.json:   0%|          | 0.00/466 [00:00<?, ?B/s]"
      ]
     },
     "metadata": {},
     "output_type": "display_data"
    },
    {
     "data": {
      "application/vnd.jupyter.widget-view+json": {
       "model_id": "17bd1bc5e2aa4873bc760fec15098484",
       "version_major": 2,
       "version_minor": 0
      },
      "text/plain": [
       "Downloading model.safetensors:   0%|          | 0.00/542M [00:00<?, ?B/s]"
      ]
     },
     "metadata": {},
     "output_type": "display_data"
    },
    {
     "name": "stdout",
     "output_type": "stream",
     "text": [
      "preprocessing train...\n",
      "language: pt\n",
      "train sequence lengths:\n",
      "\tmean : 19\n",
      "\t95percentile : 42\n",
      "\t99percentile : 50\n"
     ]
    },
    {
     "name": "stderr",
     "output_type": "stream",
     "text": [
      "/usr/local/lib/python3.7/site-packages/ktrain/utils.py:745: UserWarning: class_names argument was ignored, as they were extracted from string labels in dataset\n",
      "  \"class_names argument was ignored, as they were extracted from string labels in dataset\"\n"
     ]
    },
    {
     "data": {
      "application/vnd.jupyter.widget-view+json": {
       "model_id": "1d2102fad3004e18bb8dc848f2b781b7",
       "version_major": 2,
       "version_minor": 0
      },
      "text/plain": [
       "Downloading (…)okenizer_config.json:   0%|          | 0.00/29.0 [00:00<?, ?B/s]"
      ]
     },
     "metadata": {},
     "output_type": "display_data"
    },
    {
     "data": {
      "application/vnd.jupyter.widget-view+json": {
       "model_id": "10d6e19dc4d743bfab5deef80fd77294",
       "version_major": 2,
       "version_minor": 0
      },
      "text/plain": [
       "Downloading (…)solve/main/vocab.txt:   0%|          | 0.00/996k [00:00<?, ?B/s]"
      ]
     },
     "metadata": {},
     "output_type": "display_data"
    },
    {
     "data": {
      "application/vnd.jupyter.widget-view+json": {
       "model_id": "6e4ffc56b2a441ad8c056420f230cbd7",
       "version_major": 2,
       "version_minor": 0
      },
      "text/plain": [
       "Downloading (…)/main/tokenizer.json:   0%|          | 0.00/1.96M [00:00<?, ?B/s]"
      ]
     },
     "metadata": {},
     "output_type": "display_data"
    },
    {
     "data": {
      "text/html": [
       "\n",
       "<style>\n",
       "    /* Turns off some styling */\n",
       "    progress {\n",
       "        /* gets rid of default border in Firefox and Opera. */\n",
       "        border: none;\n",
       "        /* Needs to be in here for Safari polyfill so background images work as expected. */\n",
       "        background-size: auto;\n",
       "    }\n",
       "    progress:not([value]), progress:not([value])::-webkit-progress-bar {\n",
       "        background: repeating-linear-gradient(45deg, #7e7e7e, #7e7e7e 10px, #5c5c5c 10px, #5c5c5c 20px);\n",
       "    }\n",
       "    .progress-bar-interrupted, .progress-bar-interrupted::-webkit-progress-bar {\n",
       "        background: #F44336;\n",
       "    }\n",
       "</style>\n"
      ],
      "text/plain": [
       "<IPython.core.display.HTML object>"
      ]
     },
     "metadata": {},
     "output_type": "display_data"
    },
    {
     "data": {
      "text/html": [],
      "text/plain": [
       "<IPython.core.display.HTML object>"
      ]
     },
     "metadata": {},
     "output_type": "display_data"
    },
    {
     "name": "stdout",
     "output_type": "stream",
     "text": [
      "Is Multi-Label? False\n",
      "preprocessing test...\n",
      "language: pt\n",
      "test sequence lengths:\n",
      "\tmean : 19\n",
      "\t95percentile : 43\n",
      "\t99percentile : 51\n"
     ]
    },
    {
     "data": {
      "text/html": [
       "\n",
       "<style>\n",
       "    /* Turns off some styling */\n",
       "    progress {\n",
       "        /* gets rid of default border in Firefox and Opera. */\n",
       "        border: none;\n",
       "        /* Needs to be in here for Safari polyfill so background images work as expected. */\n",
       "        background-size: auto;\n",
       "    }\n",
       "    progress:not([value]), progress:not([value])::-webkit-progress-bar {\n",
       "        background: repeating-linear-gradient(45deg, #7e7e7e, #7e7e7e 10px, #5c5c5c 10px, #5c5c5c 20px);\n",
       "    }\n",
       "    .progress-bar-interrupted, .progress-bar-interrupted::-webkit-progress-bar {\n",
       "        background: #F44336;\n",
       "    }\n",
       "</style>\n"
      ],
      "text/plain": [
       "<IPython.core.display.HTML object>"
      ]
     },
     "metadata": {},
     "output_type": "display_data"
    },
    {
     "data": {
      "text/html": [],
      "text/plain": [
       "<IPython.core.display.HTML object>"
      ]
     },
     "metadata": {},
     "output_type": "display_data"
    },
    {
     "name": "stdout",
     "output_type": "stream",
     "text": [
      "task: text classification\n"
     ]
    }
   ],
   "source": [
    "trn, val, preproc = text.texts_from_array(x_train=x_train, y_train=y_train,\n",
    "                                          x_test=x_test, y_test=y_test,\n",
    "                                          class_names=df['sentiment'].unique().tolist(),\n",
    "                                          preprocess_mode='distilbert',\n",
    "                                          maxlen=350)"
   ]
  },
  {
   "cell_type": "code",
   "execution_count": 21,
   "id": "3d58ceef",
   "metadata": {},
   "outputs": [
    {
     "name": "stdout",
     "output_type": "stream",
     "text": [
      "Is Multi-Label? False\n",
      "maxlen is 350\n",
      "done.\n"
     ]
    }
   ],
   "source": [
    "model = text.text_classifier('distilbert', train_data=trn, preproc=preproc)"
   ]
  },
  {
   "cell_type": "code",
   "execution_count": 22,
   "id": "5148da81",
   "metadata": {},
   "outputs": [],
   "source": [
    "learner = ktrain.get_learner(model, train_data=trn, val_data=val, batch_size=6)"
   ]
  },
  {
   "cell_type": "code",
   "execution_count": null,
   "id": "498a53ad",
   "metadata": {},
   "outputs": [
    {
     "name": "stdout",
     "output_type": "stream",
     "text": [
      "\n",
      "\n",
      "begin training using onecycle policy with max lr of 3e-05...\n",
      "Epoch 1/4\n",
      "2667/2667 [==============================] - 6856s 3s/step - loss: 0.1058 - accuracy: 0.9658 - val_loss: 0.4477 - val_accuracy: 0.8705\n",
      "Epoch 2/4\n",
      " 144/2667 [>.............................] - ETA: 1:46:31 - loss: 0.1114 - accuracy: 0.9606"
     ]
    }
   ],
   "source": [
    "learner.fit_onecycle(3e-5, 4)"
   ]
  },
  {
   "cell_type": "code",
   "execution_count": 28,
   "id": "d89618f6",
   "metadata": {},
   "outputs": [
    {
     "name": "stdout",
     "output_type": "stream",
     "text": [
      "125/125 [==============================] - 87s 699ms/step\n",
      "              precision    recall  f1-score   support\n",
      "\n",
      "    Negativo       0.91      0.92      0.91      1899\n",
      "      Neutro       0.89      0.86      0.87      1172\n",
      "    Positivo       0.82      0.83      0.83       929\n",
      "\n",
      "    accuracy                           0.88      4000\n",
      "   macro avg       0.87      0.87      0.87      4000\n",
      "weighted avg       0.88      0.88      0.88      4000\n",
      "\n"
     ]
    },
    {
     "data": {
      "text/plain": [
       "array([[1740,   68,   91],\n",
       "       [  89, 1005,   78],\n",
       "       [  93,   62,  774]])"
      ]
     },
     "execution_count": 28,
     "metadata": {},
     "output_type": "execute_result"
    }
   ],
   "source": [
    "learner.validate(class_names=preproc.get_classes())"
   ]
  },
  {
   "cell_type": "code",
   "execution_count": null,
   "id": "634d20a4",
   "metadata": {},
   "outputs": [],
   "source": [
    "# import pickle\n",
    "# filename = 'finalized_model_bert.sav'\n",
    "# pickle.dump(learner, open(filename, 'wb'))"
   ]
  },
  {
   "cell_type": "code",
   "execution_count": 40,
   "id": "4cbbe4aa",
   "metadata": {},
   "outputs": [],
   "source": [
    "acc = learner.history.history['accuracy']\n",
    "val_acc = learner.history.history['val_accuracy']\n",
    "loss = learner.history.history['loss']\n",
    "val_loss = learner.history.history['val_loss']"
   ]
  },
  {
   "cell_type": "code",
   "execution_count": 41,
   "id": "abe64c6e",
   "metadata": {},
   "outputs": [
    {
     "data": {
      "image/png": "[encoded data removed]",
      "text/plain": [
       "<Figure size 640x480 with 1 Axes>"
      ]
     },
     "metadata": {},
     "output_type": "display_data"
    },
    {
     "data": {
      "image/png": "[encoded data removed]",
      "text/plain": [
       "<Figure size 640x480 with 1 Axes>"
      ]
     },
     "metadata": {},
     "output_type": "display_data"
    }
   ],
   "source": [
    "import matplotlib.pyplot as plt\n",
    "\n",
    "epochs = range(1, len(acc) + 1)\n",
    "\n",
    "plt.plot(epochs, acc, 'bo', label='Training acc')\n",
    "plt.plot(epochs, val_acc, 'b', label='Validation acc')\n",
    "plt.title('Training and validation accuracy')\n",
    "plt.legend()\n",
    "\n",
    "plt.figure()\n",
    "\n",
    "plt.plot(epochs, loss, 'bo', label='Training loss')\n",
    "plt.plot(epochs, val_loss, 'b', label='Validation loss')\n",
    "plt.title('Training and validation loss')\n",
    "plt.legend()\n",
    "\n",
    "plt.show()"
   ]
  },
  {
   "cell_type": "code",
   "execution_count": null,
   "id": "e46e8c62",
   "metadata": {},
   "outputs": [],
   "source": []
  },
  {
   "cell_type": "code",
   "execution_count": null,
   "id": "16d58877",
   "metadata": {},
   "outputs": [],
   "source": []
  }
 ],
 "metadata": {
  "kernelspec": {
   "display_name": "Python 3 (ipykernel)",
   "language": "python",
   "name": "python3"
  },
  "language_info": {
   "codemirror_mode": {
    "name": "ipython",
    "version": 3
   },
   "file_extension": ".py",
   "mimetype": "text/x-python",
   "name": "python",
   "nbconvert_exporter": "python",
   "pygments_lexer": "ipython3",
   "version": "3.7.17"
  }
 },
 "nbformat": 4,
 "nbformat_minor": 5
}
